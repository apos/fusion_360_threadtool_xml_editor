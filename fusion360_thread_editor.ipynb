{
 "cells": [
  {
   "cell_type": "markdown",
   "id": "4c989a17",
   "metadata": {},
   "source": [
    "# Fusion 360 Gewindetool – XML-Editor mit Jupyter Notebook"
   ]
  },
  {
   "cell_type": "markdown",
   "id": "auto-generated-project-desc",
   "metadata": {},
   "source": [
    "Dieses Projekt hilft dir, benutzerdefinierte Gewinde für Autodesk Fusion 360 einfach in eine XML-Datei einzutragen.\n",
    "Es verwendet ein interaktives Jupyter Notebook mit `ipywidgets`, um Eingaben auf Deutsch zu erfassen und korrekt in das englischsprachige XML-Format zu übertragen."
   ]
  },
  {
   "cell_type": "code",
   "execution_count": 39,
   "id": "39a9101f",
   "metadata": {},
   "outputs": [
    {
     "data": {
      "text/html": [
       "<style>.highlighted select { border: 3px solid lightgreen !important; }</style>"
      ],
      "text/plain": [
       "<IPython.core.display.HTML object>"
      ]
     },
     "metadata": {},
     "output_type": "display_data"
    },
    {
     "data": {
      "application/vnd.jupyter.widget-view+json": {
       "model_id": "d33be00a49124457831a6b377cfcc8ae",
       "version_major": 2,
       "version_minor": 0
      },
      "text/plain": [
       "HTML(value='<h1>Fusion 360 Gewindetool – XML-Editor mit Jupyter Notebook</h1>')"
      ]
     },
     "metadata": {},
     "output_type": "display_data"
    },
    {
     "data": {
      "application/vnd.jupyter.widget-view+json": {
       "model_id": "f8b09b7a645b4530964556c80c3d6184",
       "version_major": 2,
       "version_minor": 0
      },
      "text/plain": [
       "Button(description='🇩🇪 Auf Deutsch umschalten', style=ButtonStyle())"
      ]
     },
     "metadata": {},
     "output_type": "display_data"
    },
    {
     "data": {
      "application/vnd.jupyter.widget-view+json": {
       "model_id": "46b10af2a83a482785cda3d9d5ce9af0",
       "version_major": 2,
       "version_minor": 0
      },
      "text/plain": [
       "HBox(children=(VBox(children=(Dropdown(description='Vorhandene Gewinde:', layout=Layout(width='500px'), option…"
      ]
     },
     "metadata": {},
     "output_type": "display_data"
    },
    {
     "data": {
      "application/vnd.jupyter.widget-view+json": {
       "model_id": "306d96bb808046bd8bb66aa46a6d9518",
       "version_major": 2,
       "version_minor": 0
      },
      "text/plain": [
       "HBox(children=(Button(description='Get XML from Fusion', style=ButtonStyle(button_color='lightgreen')), Button…"
      ]
     },
     "metadata": {},
     "output_type": "display_data"
    },
    {
     "data": {
      "application/vnd.jupyter.widget-view+json": {
       "model_id": "ea73ab6ca8904fa7b547ca28739eed65",
       "version_major": 2,
       "version_minor": 0
      },
      "text/plain": [
       "Label(value='⏳ Noch kein Export oder Import ausgeführt.')"
      ]
     },
     "metadata": {},
     "output_type": "display_data"
    },
    {
     "data": {
      "application/vnd.jupyter.widget-view+json": {
       "model_id": "6fc38dfa37874993aa14f2cd90d2384c",
       "version_major": 2,
       "version_minor": 0
      },
      "text/plain": [
       "HTML(value='<div style=\"text-align:right;\"><b>External 6g</b></div>')"
      ]
     },
     "metadata": {},
     "output_type": "display_data"
    },
    {
     "data": {
      "application/vnd.jupyter.widget-view+json": {
       "model_id": "3a197e69994d4dd699dd9256868e19c7",
       "version_major": 2,
       "version_minor": 0
      },
      "text/plain": [
       "FloatText(value=0.0, description='MajorDia:', layout=Layout(width='500px'), style=DescriptionStyle(description…"
      ]
     },
     "metadata": {},
     "output_type": "display_data"
    },
    {
     "data": {
      "application/vnd.jupyter.widget-view+json": {
       "model_id": "7a91d612f5be471985614c40ff5dcded",
       "version_major": 2,
       "version_minor": 0
      },
      "text/plain": [
       "FloatText(value=0.0, description='PitchDia:', layout=Layout(width='500px'), style=DescriptionStyle(description…"
      ]
     },
     "metadata": {},
     "output_type": "display_data"
    },
    {
     "data": {
      "application/vnd.jupyter.widget-view+json": {
       "model_id": "65695137b7094d9b97ebf1275f3fc98a",
       "version_major": 2,
       "version_minor": 0
      },
      "text/plain": [
       "FloatText(value=0.0, description='MinorDia:', layout=Layout(width='500px'), style=DescriptionStyle(description…"
      ]
     },
     "metadata": {},
     "output_type": "display_data"
    },
    {
     "data": {
      "application/vnd.jupyter.widget-view+json": {
       "model_id": "56ccb5f966364e93860b5f47b2213fe0",
       "version_major": 2,
       "version_minor": 0
      },
      "text/plain": [
       "HTML(value='<div style=\"text-align:right;\"><b>Internal 6H</b></div>')"
      ]
     },
     "metadata": {},
     "output_type": "display_data"
    },
    {
     "data": {
      "application/vnd.jupyter.widget-view+json": {
       "model_id": "68c03bdcf57640218f8654086a5ce7ab",
       "version_major": 2,
       "version_minor": 0
      },
      "text/plain": [
       "FloatText(value=0.0, description='MajorDia:', layout=Layout(width='500px'), style=DescriptionStyle(description…"
      ]
     },
     "metadata": {},
     "output_type": "display_data"
    },
    {
     "data": {
      "application/vnd.jupyter.widget-view+json": {
       "model_id": "fc0bfcdbda144f30a46194bf8233df46",
       "version_major": 2,
       "version_minor": 0
      },
      "text/plain": [
       "FloatText(value=0.0, description='PitchDia:', layout=Layout(width='500px'), style=DescriptionStyle(description…"
      ]
     },
     "metadata": {},
     "output_type": "display_data"
    },
    {
     "data": {
      "application/vnd.jupyter.widget-view+json": {
       "model_id": "de236e19e09a4d44b13f8e54f417f5fc",
       "version_major": 2,
       "version_minor": 0
      },
      "text/plain": [
       "FloatText(value=0.0, description='MinorDia:', layout=Layout(width='500px'), style=DescriptionStyle(description…"
      ]
     },
     "metadata": {},
     "output_type": "display_data"
    },
    {
     "data": {
      "application/vnd.jupyter.widget-view+json": {
       "model_id": "c57259fce136496b8644376dad215a33",
       "version_major": 2,
       "version_minor": 0
      },
      "text/plain": [
       "FloatText(value=0.0, description='TapDrill:', layout=Layout(width='500px'), style=DescriptionStyle(description…"
      ]
     },
     "metadata": {},
     "output_type": "display_data"
    },
    {
     "data": {
      "application/vnd.jupyter.widget-view+json": {
       "model_id": "00fff856642a46d1b057d6bdbeed9c57",
       "version_major": 2,
       "version_minor": 0
      },
      "text/plain": [
       "HTML(value='<div style=\"text-align:right;\"><b>External 4g6g</b></div>')"
      ]
     },
     "metadata": {},
     "output_type": "display_data"
    },
    {
     "data": {
      "application/vnd.jupyter.widget-view+json": {
       "model_id": "86f469a50a3c42008c18b2dccccc6846",
       "version_major": 2,
       "version_minor": 0
      },
      "text/plain": [
       "FloatText(value=0.0, description='MajorDia:', layout=Layout(width='500px'), style=DescriptionStyle(description…"
      ]
     },
     "metadata": {},
     "output_type": "display_data"
    },
    {
     "data": {
      "application/vnd.jupyter.widget-view+json": {
       "model_id": "aedb1f8728da4e27ab39ddd70e74b412",
       "version_major": 2,
       "version_minor": 0
      },
      "text/plain": [
       "FloatText(value=0.0, description='PitchDia:', layout=Layout(width='500px'), style=DescriptionStyle(description…"
      ]
     },
     "metadata": {},
     "output_type": "display_data"
    },
    {
     "data": {
      "application/vnd.jupyter.widget-view+json": {
       "model_id": "a782aff2718e47ca8072d5c535ba337e",
       "version_major": 2,
       "version_minor": 0
      },
      "text/plain": [
       "FloatText(value=0.0, description='MinorDia:', layout=Layout(width='500px'), style=DescriptionStyle(description…"
      ]
     },
     "metadata": {},
     "output_type": "display_data"
    },
    {
     "data": {
      "application/vnd.jupyter.widget-view+json": {
       "model_id": "072b12168b6d4bcdac54d4cf5061a043",
       "version_major": 2,
       "version_minor": 0
      },
      "text/plain": [
       "Box(layout=Layout(height='30px'))"
      ]
     },
     "metadata": {},
     "output_type": "display_data"
    }
   ],
   "source": [
    "from IPython.display import display, HTML\n",
    "import ipywidgets as widgets\n",
    "from ipywidgets import Layout, HBox, VBox\n",
    "import xml.etree.ElementTree as ET\n",
    "import subprocess\n",
    "import datetime\n",
    "import threading\n",
    "import time\n",
    "import xml.dom.minidom\n",
    "\n",
    "# CSS hacks\n",
    "display(HTML(\"<style>.highlighted select { border: 3px solid lightgreen !important; }</style>\"))\n",
    "headline = widgets.HTML(value=\"<h1>Fusion 360 Gewindetool – XML-Editor mit Jupyter Notebook</h1>\")\n",
    "display(headline)\n",
    "\n",
    "\n",
    "# Feste XML-Datei\n",
    "xml_path = 'data/AstroISOmetric.xml'\n",
    "\n",
    "def remove_blank_lines(xml_string):\n",
    "    lines = xml_string.split('\\n')\n",
    "    return '\\n'.join([line for line in lines if line.strip() != ''])\n",
    "\n",
    "def pretty_print_xml(path):\n",
    "    with open(path, 'r') as f:\n",
    "        xml_string = f.read()\n",
    "    parsed = xml.dom.minidom.parseString(xml_string)\n",
    "    with open(path, 'w') as f:\n",
    "        f.write(parsed.toprettyxml(indent=\"  \"))\n",
    "\n",
    "def load_dropdown_options():\n",
    "    tree = ET.parse(xml_path)\n",
    "    root = tree.getroot()\n",
    "    options = ['<Neu laden>']\n",
    "    for thread_size in root.findall('ThreadSize'):\n",
    "        designation = thread_size.find('Designation/ThreadDesignation').text\n",
    "        if designation:\n",
    "            options.append(designation)\n",
    "    thread_dropdown.options = options\n",
    "\n",
    "def delete_thread_from_xml(designation_en):\n",
    "    tree = ET.parse(xml_path)\n",
    "    root = tree.getroot()\n",
    "    for ts in root.findall('ThreadSize'):\n",
    "        if ts.find('Designation/ThreadDesignation').text == designation_en:\n",
    "            root.remove(ts)\n",
    "            tree.write(xml_path)\n",
    "            print(f\"🗑️ Gewinde {designation_en} gelöscht.\")\n",
    "            return\n",
    "    print(f\"⚠️ Gewinde {designation_en} nicht gefunden.\")\n",
    "\n",
    "def on_delete_clicked(b):\n",
    "    delete_thread_from_xml(thread_dropdown.value)\n",
    "    load_dropdown_options()\n",
    "    thread_dropdown.value = '<Neu laden>'\n",
    "\n",
    "def fill_fields_from_selection(change):\n",
    "    selection = change['new']\n",
    "    if selection == '<Neu laden>':\n",
    "        for w in all_widgets:\n",
    "            w.value = '' if isinstance(w, widgets.Text) else 0\n",
    "        return\n",
    "    tree = ET.parse(xml_path)\n",
    "    root = tree.getroot()\n",
    "    for thread_size in root.findall('ThreadSize'):\n",
    "        if thread_size.find('Designation/ThreadDesignation').text == selection:\n",
    "            size.value = float(thread_size.find('Size').text)\n",
    "            designation_de.value = thread_size.find('Designation/CTD').text\n",
    "            designation_en.value = selection\n",
    "            pitch.value = float(thread_size.find('Designation/Pitch').text)\n",
    "            for t in thread_size.find('Designation').findall('Thread'):\n",
    "                gender = t.find('Gender').text\n",
    "                cls = t.find('Class').text\n",
    "                major = float(t.find('MajorDia').text)\n",
    "                pitch_dia = float(t.find('PitchDia').text)\n",
    "                minor = float(t.find('MinorDia').text)\n",
    "                if gender == 'external' and cls == '6g':\n",
    "                    major_dia_ext.value, pitch_dia_ext.value, minor_dia_ext.value = major, pitch_dia, minor\n",
    "                elif gender == 'internal' and cls == '6H':\n",
    "                    major_dia_int.value, pitch_dia_int.value, minor_dia_int.value = major, pitch_dia, minor\n",
    "                    tap_drill.value = float(t.find('TapDrill').text)\n",
    "                elif gender == 'external' and cls == '4g6g':\n",
    "                    major_dia_4g6g.value, pitch_dia_4g6g.value, minor_dia_4g6g.value = major, pitch_dia, minor\n",
    "            break\n",
    "\n",
    "import xml.dom.minidom\n",
    "\n",
    "def remove_blank_lines(xml_string):\n",
    "    lines = xml_string.split('\\n')\n",
    "    non_empty_lines = [line for line in lines if line.strip() != '']\n",
    "    return '\\n'.join(non_empty_lines)\n",
    "\n",
    "def add_thread_to_xml(path, size, designation_de, designation_en, pitch,\n",
    "                      major_dia_ext, pitch_dia_ext, minor_dia_ext,\n",
    "                      major_dia_int, pitch_dia_int, minor_dia_int,\n",
    "                      major_dia_4g6g, pitch_dia_4g6g, minor_dia_4g6g,\n",
    "                      tap_drill):\n",
    "    tree = ET.parse(path)\n",
    "    root = tree.getroot()\n",
    "\n",
    "    for ts in root.findall('ThreadSize'):\n",
    "        desig = ts.find('Designation/ThreadDesignation').text\n",
    "        if desig == designation_en:\n",
    "            root.remove(ts)\n",
    "\n",
    "    thread_size = ET.SubElement(root, 'ThreadSize')\n",
    "    ET.SubElement(thread_size, 'Size').text = str(size)\n",
    "    designation_el = ET.SubElement(thread_size, 'Designation')\n",
    "    ET.SubElement(designation_el, 'ThreadDesignation').text = designation_en\n",
    "    ET.SubElement(designation_el, 'CTD').text = designation_de\n",
    "    ET.SubElement(designation_el, 'Pitch').text = str(pitch)\n",
    "\n",
    "    thread_ext = ET.SubElement(designation_el, 'Thread')\n",
    "    ET.SubElement(thread_ext, 'Gender').text = 'external'\n",
    "    ET.SubElement(thread_ext, 'Class').text = '6g'\n",
    "    ET.SubElement(thread_ext, 'MajorDia').text = str(major_dia_ext)\n",
    "    ET.SubElement(thread_ext, 'PitchDia').text = str(pitch_dia_ext)\n",
    "    ET.SubElement(thread_ext, 'MinorDia').text = str(minor_dia_ext)\n",
    "\n",
    "    thread_int = ET.SubElement(designation_el, 'Thread')\n",
    "    ET.SubElement(thread_int, 'Gender').text = 'internal'\n",
    "    ET.SubElement(thread_int, 'Class').text = '6H'\n",
    "    ET.SubElement(thread_int, 'MajorDia').text = str(major_dia_int)\n",
    "    ET.SubElement(thread_int, 'PitchDia').text = str(pitch_dia_int)\n",
    "    ET.SubElement(thread_int, 'MinorDia').text = str(minor_dia_int)\n",
    "    ET.SubElement(thread_int, 'TapDrill').text = str(tap_drill)\n",
    "\n",
    "    thread_ext_4g6g = ET.SubElement(designation_el, 'Thread')\n",
    "    ET.SubElement(thread_ext_4g6g, 'Gender').text = 'external'\n",
    "    ET.SubElement(thread_ext_4g6g, 'Class').text = '4g6g'\n",
    "    ET.SubElement(thread_ext_4g6g, 'MajorDia').text = str(major_dia_4g6g)\n",
    "    ET.SubElement(thread_ext_4g6g, 'PitchDia').text = str(pitch_dia_4g6g)\n",
    "    ET.SubElement(thread_ext_4g6g, 'MinorDia').text = str(minor_dia_4g6g)\n",
    "\n",
    "    tree.write(path)\n",
    "\n",
    "    # Schön formatieren ohne Leerzeilen\n",
    "    with open(path, 'r') as f:\n",
    "        xml_str = f.read()\n",
    "    pretty_xml = xml.dom.minidom.parseString(xml_str).toprettyxml(indent=\"  \")\n",
    "    pretty_xml_clean = remove_blank_lines(pretty_xml)\n",
    "    with open(path, 'w') as f:\n",
    "        f.write(pretty_xml_clean)\n",
    "\n",
    "    print(f\"✅ Gewinde {designation_en} ({designation_de}) erfolgreich in {path} gespeichert und formatiert.\")\n",
    "    \n",
    "# --- Widgets und Layouts ---    \n",
    "field_layout = Layout(width='500px')\n",
    "vbox_layout = Layout(width='550px', margin='0 40px 20px 0')\n",
    "style = {'description_width': '350px'}\n",
    "\n",
    "# Widgets für die Eingabefelder\n",
    "thread_dropdown = widgets.Dropdown(description='Vorhandene Gewinde:', options=['<Neu laden>'], layout=field_layout, style=style)\n",
    "size = widgets.FloatText(description='Nenndurchmesser (Size):', layout=field_layout, style=style)\n",
    "designation_de = widgets.Text(description='Custom Thread designation:', layout=field_layout, style=style)\n",
    "designation_en = widgets.Text(description='Technical designation:', layout=field_layout, style=style)\n",
    "pitch = widgets.FloatText(description='Steigung (Pitch):', layout=field_layout, style=style)\n",
    "\n",
    "\n",
    "# Widgets für die Gewinde-Parameter\n",
    "label_ext_6g = widgets.HTML(value='<div style=\"text-align:right;\"><b>External 6g</b></div>')\n",
    "major_dia_ext, pitch_dia_ext, minor_dia_ext = [widgets.FloatText(description=d, layout=field_layout, style=style)\n",
    "                                               for d in ['MajorDia:', 'PitchDia:', 'MinorDia:']]\n",
    "\n",
    "label_int_6H = widgets.HTML(value='<div style=\"text-align:right;\"><b>Internal 6H</b></div>')\n",
    "major_dia_int, pitch_dia_int, minor_dia_int, tap_drill = [widgets.FloatText(description=d, layout=field_layout, style=style)\n",
    "                                                          for d in ['MajorDia:', 'PitchDia:', 'MinorDia:', 'TapDrill:']]\n",
    "\n",
    "label_ext_4g6g = widgets.HTML(value='<div style=\"text-align:right;\"><b>External 4g6g</b></div>')\n",
    "major_dia_4g6g, pitch_dia_4g6g, minor_dia_4g6g = [widgets.FloatText(description=d, layout=field_layout, style=style)\n",
    "                                                  for d in ['MajorDia:', 'PitchDia:', 'MinorDia:']]\n",
    "\n",
    "# Button-Widgets\n",
    "save_button = widgets.Button(description='Speichern', style=style)\n",
    "save_new_button = widgets.Button(description='Als neu speichern', style=style)\n",
    "delete_button = widgets.Button(description='Löschen', style=style)\n",
    "\n",
    "# Save-Buttons initial deaktivieren\n",
    "save_button.disabled = True\n",
    "save_new_button.disabled = True\n",
    "delete_button.disabled = True\n",
    "\n",
    "def on_save_clicked(b):\n",
    "    add_thread_to_xml(xml_path, size.value, designation_de.value, designation_en.value, pitch.value,\n",
    "                      major_dia_ext.value, pitch_dia_ext.value, minor_dia_ext.value,\n",
    "                      major_dia_int.value, pitch_dia_int.value, minor_dia_int.value,\n",
    "                      major_dia_4g6g.value, pitch_dia_4g6g.value, minor_dia_4g6g.value,\n",
    "                      tap_drill.value)\n",
    "    load_dropdown_options()\n",
    "    thread_dropdown.value = designation_en.value\n",
    "    save_button.style.button_color = 'lightgreen'\n",
    "    save_new_button.style.button_color = ''\n",
    "    delete_button.style.button_color = ''\n",
    "\n",
    "def on_save_new_clicked(b):\n",
    "    # Neue eindeutige Bezeichnung erzeugen (falls mehrfach geklickt)\n",
    "    base_name = designation_en.value.rstrip('_neu')\n",
    "    counter = 1\n",
    "    new_designation = f\"{base_name}_neu\"\n",
    "    existing_designations = [opt for opt in thread_dropdown.options if opt != '<Neu laden>']\n",
    "    while new_designation in existing_designations:\n",
    "        new_designation = f\"{base_name}_neu{counter}\"\n",
    "        counter += 1\n",
    "    designation_en.value = new_designation\n",
    "    add_thread_to_xml(xml_path, size.value, designation_de.value, designation_en.value, pitch.value,\n",
    "                      major_dia_ext.value, pitch_dia_ext.value, minor_dia_ext.value,\n",
    "                      major_dia_int.value, pitch_dia_int.value, minor_dia_int.value,\n",
    "                      major_dia_4g6g.value, pitch_dia_4g6g.value, minor_dia_4g6g.value,\n",
    "                      tap_drill.value)\n",
    "    load_dropdown_options()\n",
    "    thread_dropdown.value = designation_en.value\n",
    "    save_new_button.style.button_color = 'lightgreen'\n",
    "    save_button.style.button_color = ''\n",
    "    delete_button.style.button_color = ''\n",
    "\n",
    "save_button.on_click(on_save_clicked)\n",
    "save_new_button.on_click(on_save_new_clicked)\n",
    "delete_button.on_click(on_delete_clicked)\n",
    "\n",
    "button_box = VBox([save_button, save_new_button, delete_button])\n",
    "\n",
    "all_widgets = [size, designation_de, designation_en, pitch,\n",
    "               major_dia_ext, pitch_dia_ext, minor_dia_ext,\n",
    "               major_dia_int, pitch_dia_int, minor_dia_int, tap_drill,\n",
    "               major_dia_4g6g, pitch_dia_4g6g, minor_dia_4g6g]\n",
    "\n",
    "top_row = HBox([VBox([thread_dropdown, size, designation_de, designation_en, pitch], layout=vbox_layout), button_box])\n",
    "\n",
    "# Lade Dropdown mit Fehlerbehandlung\n",
    "try:\n",
    "    load_dropdown_options()\n",
    "except Exception as e:\n",
    "    print(f\"⚠️ Fehler beim Laden der Dropdown-Optionen: {e}\")\n",
    "    thread_dropdown.options = ['<Neu laden>']\n",
    "\n",
    "# Setze Dropdown auf Startwert\n",
    "thread_dropdown.value = '<Neu laden>'\n",
    "thread_dropdown.observe(fill_fields_from_selection, names='value')\n",
    "\n",
    "\n",
    "\n",
    "def on_export_clicked(b):\n",
    "    subprocess.run(['./bin/sync_xml.sh', 'export'])\n",
    "    status_label.value = f\"✅ Export aus Fusion abgeschlossen am {datetime.datetime.now().strftime('%d.%m.%Y %H:%M:%S')}\"\n",
    "    save_button.disabled = False\n",
    "    save_new_button.disabled = False\n",
    "    delete_button.disabled = False\n",
    "    save_button.style.button_color = 'lightgreen'\n",
    "    save_new_button.style.button_color = 'lightgreen'\n",
    "    delete_button.style.button_color = 'lightgreen'\n",
    "    thread_dropdown.add_class('highlighted')\n",
    "    export_button.style.button_color = None  # Zurück auf neutral/grau\n",
    "    \n",
    "    \n",
    "def on_import_clicked(b):\n",
    "    subprocess.run(['./bin/sync_xml.sh', 'import'])\n",
    "    last_import_time[0] = datetime.datetime.now()\n",
    "    update_status_label()\n",
    "    status_label.value = f\"✅ Import in Fusion abgeschlossen am {last_import_time[0].strftime('%d.%m.%Y %H:%M:%S')}\"\n",
    "    save_button.style.button_color = 'lightgreen'\n",
    "    save_new_button.style.button_color = 'lightgreen'\n",
    "    delete_button.style.button_color = 'lightgreen'\n",
    "    thread_dropdown.add_class('highlighted')\n",
    "    \n",
    "def on_venv_clicked(b):\n",
    "    subprocess.run(['./bin/create_venv.sh'])\n",
    "    status_label.value = f\"✅ .venv neu erstellt: {datetime.datetime.now().strftime('%d.%m.%Y %H:%M:%S')}\"\n",
    "\n",
    "# --- Neue Buttons für Export, Import, venv ---\n",
    "export_button = widgets.Button(description='Get XML from Fusion')\n",
    "import_button = widgets.Button(description='Patch Fusion XML')\n",
    "venv_button = widgets.Button(description='Rebuild .venv')\n",
    "status_label = widgets.Label(value='⏳ Noch kein Export oder Import ausgeführt.')\n",
    "control_buttons = HBox([export_button, import_button, venv_button])\n",
    "\n",
    "export_button.on_click(on_export_clicked)\n",
    "import_button.on_click(on_import_clicked)\n",
    "venv_button.on_click(on_venv_clicked)\n",
    "\n",
    "# Buttons initial auf Grün (Get XML) setzen\n",
    "export_button.style.button_color = 'lightgreen'\n",
    "\n",
    "\n",
    "# Sprachumschalter und Übersetzungen\n",
    "current_language = {'lang': 'EN'}\n",
    "\n",
    "labels = {\n",
    "    'DE': {\n",
    "        'headline': 'Fusion 360 Gewindetool – XML-Editor mit Jupyter Notebook',\n",
    "        'thread_dropdown': 'Vorhandene Gewinde:',\n",
    "        'size': 'Nenndurchmesser (Size):',\n",
    "        'designation_de': 'Custom Thread designation - Freitext (CTD):',\n",
    "        'designation_en': 'Technische Bezeichnung (ThreadDesignation) z.B. M56x0.75:',\n",
    "        'pitch': 'Steigung (Pitch):',\n",
    "        'ext_6g': '<b>External 6g</b>',\n",
    "        'int_6H': '<b>Internal 6H</b>',\n",
    "        'ext_4g6g': '<b>External 4g6g</b>',\n",
    "        'save': 'Speichern',\n",
    "        'save_new': 'Als neu speichern',\n",
    "        'delete': 'Löschen',\n",
    "        'export': 'Get XML from Fusion',\n",
    "        'import': 'Patch Fusion XML',\n",
    "        'venv': 'Rebuild .venv',\n",
    "        'status': '⏳ Noch kein Export oder Import ausgeführt.'\n",
    "    },\n",
    "    'EN': {\n",
    "        'headline': 'Fusion 360 Thread Tool – XML Editor with Jupyter Notebook',\n",
    "        'thread_dropdown': 'Existing Threads:',\n",
    "        'size': 'Nominal Diameter (Size):',\n",
    "        'designation_de': 'Custom Thread designation (free text, CTD):',\n",
    "        'designation_en': 'Technical designation (ThreadDesignation) e.g. M56x0.75:',\n",
    "        'pitch': 'Pitch:',\n",
    "        'ext_6g': '<b>External 6g</b>',\n",
    "        'int_6H': '<b>Internal 6H</b>',\n",
    "        'ext_4g6g': '<b>External 4g6g</b>',\n",
    "        'save': 'Save',\n",
    "        'save_new': 'Save as New',\n",
    "        'delete': 'Delete',\n",
    "        'export': 'Get XML from Fusion',\n",
    "        'import': 'Patch Fusion XML',\n",
    "        'venv': 'Rebuild .venv',\n",
    "        'status': '⏳ No export or import done yet.'\n",
    "    }\n",
    "}\n",
    "\n",
    "def update_labels():\n",
    "    lang = current_language['lang']\n",
    "    headline.value = f\"<h1>{labels[lang]['headline']}</h1>\"\n",
    "    thread_dropdown.description = labels[lang]['thread_dropdown']\n",
    "    size.description = labels[lang]['size']\n",
    "    designation_de.description = labels[lang]['designation_de']\n",
    "    designation_en.description = labels[lang]['designation_en']\n",
    "    pitch.description = labels[lang]['pitch']\n",
    "    label_ext_6g.value = labels[lang]['ext_6g']\n",
    "    label_int_6H.value = labels[lang]['int_6H']\n",
    "    label_ext_4g6g.value = labels[lang]['ext_4g6g']\n",
    "    save_button.description = labels[lang]['save']\n",
    "    save_new_button.description = labels[lang]['save_new']\n",
    "    delete_button.description = labels[lang]['delete']\n",
    "    export_button.description = labels[lang]['export']\n",
    "    import_button.description = labels[lang]['import']\n",
    "    venv_button.description = labels[lang]['venv']\n",
    "    status_label.value = labels[lang]['status']\n",
    "    \n",
    "toggle_lang_button = widgets.Button(description='🇩🇪 Auf Deutsch umschalten')\n",
    "\n",
    "def on_toggle_lang_clicked(b):\n",
    "    if current_language['lang'] == 'EN':\n",
    "        current_language['lang'] = 'DE'\n",
    "        toggle_lang_button.description = '🇬🇧 Switch to English'\n",
    "    else:\n",
    "        current_language['lang'] = 'EN'\n",
    "        toggle_lang_button.description = '🇩🇪 Auf Deutsch umschalten'\n",
    "    update_labels()\n",
    "\n",
    "toggle_lang_button.on_click(on_toggle_lang_clicked)\n",
    "\n",
    "\n",
    "# Letzter Importzeitpunkt\n",
    "last_import_time = [None]\n",
    "\n",
    "# Sprachumschalter anzeigen\n",
    "display(toggle_lang_button)\n",
    "\n",
    "# obere Eingabezeile und Button-Block\n",
    "display(top_row)\n",
    "\n",
    "# Anzeige-Teil\n",
    "display(\n",
    "    control_buttons,\n",
    "    status_label,\n",
    ")\n",
    "\n",
    "# Gewinde-Bereiche anzeigen\n",
    "display(\n",
    "    label_ext_6g, major_dia_ext, pitch_dia_ext, minor_dia_ext,\n",
    "    label_int_6H, major_dia_int, pitch_dia_int, minor_dia_int, tap_drill,\n",
    "    label_ext_4g6g, major_dia_4g6g, pitch_dia_4g6g, minor_dia_4g6g\n",
    ")\n",
    "\n",
    "# Unsichtbarer Spacer am Ende der App\n",
    "spacer = widgets.Box(layout=widgets.Layout(height='30px'))\n",
    "display(spacer)\n",
    "\n",
    "update_labels()\n",
    "\n",
    "\n"
   ]
  }
 ],
 "metadata": {
  "kernelspec": {
   "display_name": ".venv",
   "language": "python",
   "name": "python3"
  },
  "language_info": {
   "codemirror_mode": {
    "name": "ipython",
    "version": 3
   },
   "file_extension": ".py",
   "mimetype": "text/x-python",
   "name": "python",
   "nbconvert_exporter": "python",
   "pygments_lexer": "ipython3",
   "version": "3.13.3"
  }
 },
 "nbformat": 4,
 "nbformat_minor": 5
}
