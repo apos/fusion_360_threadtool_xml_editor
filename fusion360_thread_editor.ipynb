{
 "cells": [
  {
   "cell_type": "markdown",
   "id": "4c989a17",
   "metadata": {},
   "source": [
    "# Fusion 360 Gewindetool – XML-Editor mit Jupyter Notebook"
   ]
  },
  {
   "cell_type": "markdown",
   "id": "auto-generated-project-desc",
   "metadata": {},
   "source": [
    "Dieses Projekt hilft dir, benutzerdefinierte Gewinde für Autodesk Fusion 360 einfach in eine XML-Datei einzutragen.\n",
    "Es verwendet ein interaktives Jupyter Notebook mit `ipywidgets`, um Eingaben auf Deutsch zu erfassen und korrekt in das englischsprachige XML-Format zu übertragen."
   ]
  },
  {
   "cell_type": "code",
   "execution_count": null,
   "id": "39a9101f",
   "metadata": {},
   "outputs": [
    {
     "data": {
      "text/html": [
       "<style>.highlighted select { border: 3px solid lightgreen !important; }</style>"
      ],
      "text/plain": [
       "<IPython.core.display.HTML object>"
      ]
     },
     "metadata": {},
     "output_type": "display_data"
    },
    {
     "data": {
      "application/vnd.jupyter.widget-view+json": {
       "model_id": "7121813c4bf448e7a6fd69a4a23488e4",
       "version_major": 2,
       "version_minor": 0
      },
      "text/plain": [
       "HTML(value='<h1>Fusion 360 Gewindetool – XML-Editor mit Jupyter Notebook</h1>')"
      ]
     },
     "metadata": {},
     "output_type": "display_data"
    },
    {
     "data": {
      "application/vnd.jupyter.widget-view+json": {
       "model_id": "e79441c36d7e47628d0e98d3065684e1",
       "version_major": 2,
       "version_minor": 0
      },
      "text/plain": [
       "Button(description='🇩🇪 Auf Deutsch umschalten', style=ButtonStyle())"
      ]
     },
     "metadata": {},
     "output_type": "display_data"
    },
    {
     "data": {
      "application/vnd.jupyter.widget-view+json": {
       "model_id": "a44bf35642f24cf8bb2cc8f4180c6e70",
       "version_major": 2,
       "version_minor": 0
      },
      "text/plain": [
       "HBox(children=(VBox(children=(Dropdown(description='Vorhandene Gewinde:', layout=Layout(width='500px'), option…"
      ]
     },
     "metadata": {},
     "output_type": "display_data"
    },
    {
     "data": {
      "application/vnd.jupyter.widget-view+json": {
       "model_id": "0ee9931391c74986bf1455659a19b5b4",
       "version_major": 2,
       "version_minor": 0
      },
      "text/plain": [
       "HBox(children=(Button(description='Get XML from Fusion', style=ButtonStyle(button_color='lightgreen')), Button…"
      ]
     },
     "metadata": {},
     "output_type": "display_data"
    },
    {
     "data": {
      "application/vnd.jupyter.widget-view+json": {
       "model_id": "bb45b41889d2478e84f422de851a950c",
       "version_major": 2,
       "version_minor": 0
      },
      "text/plain": [
       "Label(value='⏳ Noch kein Export oder Import ausgeführt.')"
      ]
     },
     "metadata": {},
     "output_type": "display_data"
    },
    {
     "data": {
      "application/vnd.jupyter.widget-view+json": {
       "model_id": "99e3cd8d77be4718adb0c4ee0c9eeb45",
       "version_major": 2,
       "version_minor": 0
      },
      "text/plain": [
       "HTML(value='<div style=\"text-align:right;\"><b>External 6g</b></div>')"
      ]
     },
     "metadata": {},
     "output_type": "display_data"
    },
    {
     "data": {
      "application/vnd.jupyter.widget-view+json": {
       "model_id": "1a9320aa72cc4e8393d59dbb24f636ab",
       "version_major": 2,
       "version_minor": 0
      },
      "text/plain": [
       "FloatText(value=0.0, description='MajorDia:', layout=Layout(width='500px'), style=DescriptionStyle(description…"
      ]
     },
     "metadata": {},
     "output_type": "display_data"
    },
    {
     "data": {
      "application/vnd.jupyter.widget-view+json": {
       "model_id": "21af557a6f1148aeab3d2739c04ccd3c",
       "version_major": 2,
       "version_minor": 0
      },
      "text/plain": [
       "FloatText(value=0.0, description='PitchDia:', layout=Layout(width='500px'), style=DescriptionStyle(description…"
      ]
     },
     "metadata": {},
     "output_type": "display_data"
    },
    {
     "data": {
      "application/vnd.jupyter.widget-view+json": {
       "model_id": "08f3117a7257475d93460bdf67f589e3",
       "version_major": 2,
       "version_minor": 0
      },
      "text/plain": [
       "FloatText(value=0.0, description='MinorDia:', layout=Layout(width='500px'), style=DescriptionStyle(description…"
      ]
     },
     "metadata": {},
     "output_type": "display_data"
    },
    {
     "data": {
      "application/vnd.jupyter.widget-view+json": {
       "model_id": "a42df3a9ad264d34a927bb4546c603e6",
       "version_major": 2,
       "version_minor": 0
      },
      "text/plain": [
       "HTML(value='<div style=\"text-align:right;\"><b>Internal 6H</b></div>')"
      ]
     },
     "metadata": {},
     "output_type": "display_data"
    },
    {
     "data": {
      "application/vnd.jupyter.widget-view+json": {
       "model_id": "01438c14ba44498bbc453af9f6211edc",
       "version_major": 2,
       "version_minor": 0
      },
      "text/plain": [
       "FloatText(value=0.0, description='MajorDia:', layout=Layout(width='500px'), style=DescriptionStyle(description…"
      ]
     },
     "metadata": {},
     "output_type": "display_data"
    },
    {
     "data": {
      "application/vnd.jupyter.widget-view+json": {
       "model_id": "4987985673b443bf832f99506985f9f0",
       "version_major": 2,
       "version_minor": 0
      },
      "text/plain": [
       "FloatText(value=0.0, description='PitchDia:', layout=Layout(width='500px'), style=DescriptionStyle(description…"
      ]
     },
     "metadata": {},
     "output_type": "display_data"
    },
    {
     "data": {
      "application/vnd.jupyter.widget-view+json": {
       "model_id": "c441fdd848e14f8d9ee7dfaa9ba2c243",
       "version_major": 2,
       "version_minor": 0
      },
      "text/plain": [
       "FloatText(value=0.0, description='MinorDia:', layout=Layout(width='500px'), style=DescriptionStyle(description…"
      ]
     },
     "metadata": {},
     "output_type": "display_data"
    },
    {
     "data": {
      "application/vnd.jupyter.widget-view+json": {
       "model_id": "93b37f41c3b14fd681bd5cae81bf146a",
       "version_major": 2,
       "version_minor": 0
      },
      "text/plain": [
       "FloatText(value=0.0, description='TapDrill:', layout=Layout(width='500px'), style=DescriptionStyle(description…"
      ]
     },
     "metadata": {},
     "output_type": "display_data"
    },
    {
     "data": {
      "application/vnd.jupyter.widget-view+json": {
       "model_id": "080216b8f60e4440ac36811e8dea51a5",
       "version_major": 2,
       "version_minor": 0
      },
      "text/plain": [
       "HTML(value='<div style=\"text-align:right;\"><b>External 4g6g</b></div>')"
      ]
     },
     "metadata": {},
     "output_type": "display_data"
    },
    {
     "data": {
      "application/vnd.jupyter.widget-view+json": {
       "model_id": "5dc331975c5e4ef9877dda8a6c77e29c",
       "version_major": 2,
       "version_minor": 0
      },
      "text/plain": [
       "FloatText(value=0.0, description='MajorDia:', layout=Layout(width='500px'), style=DescriptionStyle(description…"
      ]
     },
     "metadata": {},
     "output_type": "display_data"
    },
    {
     "data": {
      "application/vnd.jupyter.widget-view+json": {
       "model_id": "1cc62cefd4d54cbdb308672cb7022f97",
       "version_major": 2,
       "version_minor": 0
      },
      "text/plain": [
       "FloatText(value=0.0, description='PitchDia:', layout=Layout(width='500px'), style=DescriptionStyle(description…"
      ]
     },
     "metadata": {},
     "output_type": "display_data"
    },
    {
     "data": {
      "application/vnd.jupyter.widget-view+json": {
       "model_id": "572baa8ed1bf4bd89c0ad574958687ae",
       "version_major": 2,
       "version_minor": 0
      },
      "text/plain": [
       "FloatText(value=0.0, description='MinorDia:', layout=Layout(width='500px'), style=DescriptionStyle(description…"
      ]
     },
     "metadata": {},
     "output_type": "display_data"
    },
    {
     "data": {
      "application/vnd.jupyter.widget-view+json": {
       "model_id": "a7d82a08904c469084b338278379111e",
       "version_major": 2,
       "version_minor": 0
      },
      "text/plain": [
       "Box(layout=Layout(height='30px'))"
      ]
     },
     "metadata": {},
     "output_type": "display_data"
    },
    {
     "ename": "TraitError",
     "evalue": "Invalid selection: value not found",
     "output_type": "error",
     "traceback": [
      "\u001b[31m---------------------------------------------------------------------------\u001b[39m",
      "\u001b[31mStopIteration\u001b[39m                             Traceback (most recent call last)",
      "\u001b[36mFile \u001b[39m\u001b[32m~/Nextcloud/WORKSPACE/Fusion360/fusion_360_threadtool_xml_editor/.venv/lib/python3.13/site-packages/ipywidgets/widgets/widget_selection.py:133\u001b[39m, in \u001b[36mfindvalue\u001b[39m\u001b[34m(array, value, compare)\u001b[39m\n\u001b[32m    132\u001b[39m \u001b[38;5;28;01mtry\u001b[39;00m:\n\u001b[32m--> \u001b[39m\u001b[32m133\u001b[39m     \u001b[38;5;28;01mreturn\u001b[39;00m \u001b[38;5;28;43mnext\u001b[39;49m\u001b[43m(\u001b[49m\u001b[43mx\u001b[49m\u001b[43m \u001b[49m\u001b[38;5;28;43;01mfor\u001b[39;49;00m\u001b[43m \u001b[49m\u001b[43mx\u001b[49m\u001b[43m \u001b[49m\u001b[38;5;129;43;01min\u001b[39;49;00m\u001b[43m \u001b[49m\u001b[43marray\u001b[49m\u001b[43m \u001b[49m\u001b[38;5;28;43;01mif\u001b[39;49;00m\u001b[43m \u001b[49m\u001b[43mcompare\u001b[49m\u001b[43m(\u001b[49m\u001b[43mx\u001b[49m\u001b[43m,\u001b[49m\u001b[43m \u001b[49m\u001b[43mvalue\u001b[49m\u001b[43m)\u001b[49m\u001b[43m)\u001b[49m\n\u001b[32m    134\u001b[39m \u001b[38;5;28;01mexcept\u001b[39;00m \u001b[38;5;167;01mStopIteration\u001b[39;00m:\n",
      "\u001b[31mStopIteration\u001b[39m: ",
      "\nDuring handling of the above exception, another exception occurred:\n",
      "\u001b[31mValueError\u001b[39m                                Traceback (most recent call last)",
      "\u001b[36mFile \u001b[39m\u001b[32m~/Nextcloud/WORKSPACE/Fusion360/fusion_360_threadtool_xml_editor/.venv/lib/python3.13/site-packages/ipywidgets/widgets/widget_selection.py:242\u001b[39m, in \u001b[36m_Selection._validate_value\u001b[39m\u001b[34m(self, proposal)\u001b[39m\n\u001b[32m    241\u001b[39m \u001b[38;5;28;01mtry\u001b[39;00m:\n\u001b[32m--> \u001b[39m\u001b[32m242\u001b[39m     \u001b[38;5;28;01mreturn\u001b[39;00m \u001b[43mfindvalue\u001b[49m\u001b[43m(\u001b[49m\u001b[38;5;28;43mself\u001b[39;49m\u001b[43m.\u001b[49m\u001b[43m_options_values\u001b[49m\u001b[43m,\u001b[49m\u001b[43m \u001b[49m\u001b[43mvalue\u001b[49m\u001b[43m,\u001b[49m\u001b[43m \u001b[49m\u001b[38;5;28;43mself\u001b[39;49m\u001b[43m.\u001b[49m\u001b[43mequals\u001b[49m\u001b[43m)\u001b[49m \u001b[38;5;28;01mif\u001b[39;00m value \u001b[38;5;129;01mis\u001b[39;00m \u001b[38;5;129;01mnot\u001b[39;00m \u001b[38;5;28;01mNone\u001b[39;00m \u001b[38;5;28;01melse\u001b[39;00m \u001b[38;5;28;01mNone\u001b[39;00m\n\u001b[32m    243\u001b[39m \u001b[38;5;28;01mexcept\u001b[39;00m \u001b[38;5;167;01mValueError\u001b[39;00m:\n",
      "\u001b[36mFile \u001b[39m\u001b[32m~/Nextcloud/WORKSPACE/Fusion360/fusion_360_threadtool_xml_editor/.venv/lib/python3.13/site-packages/ipywidgets/widgets/widget_selection.py:135\u001b[39m, in \u001b[36mfindvalue\u001b[39m\u001b[34m(array, value, compare)\u001b[39m\n\u001b[32m    134\u001b[39m \u001b[38;5;28;01mexcept\u001b[39;00m \u001b[38;5;167;01mStopIteration\u001b[39;00m:\n\u001b[32m--> \u001b[39m\u001b[32m135\u001b[39m     \u001b[38;5;28;01mraise\u001b[39;00m \u001b[38;5;167;01mValueError\u001b[39;00m(\u001b[33m'\u001b[39m\u001b[38;5;132;01m%r\u001b[39;00m\u001b[33m not in array\u001b[39m\u001b[33m'\u001b[39m%value)\n",
      "\u001b[31mValueError\u001b[39m: 'M56x0.75_neu3' not in array",
      "\nDuring handling of the above exception, another exception occurred:\n",
      "\u001b[31mTraitError\u001b[39m                                Traceback (most recent call last)",
      "\u001b[36mCell\u001b[39m\u001b[36m \u001b[39m\u001b[32mIn[84]\u001b[39m\u001b[32m, line 353\u001b[39m, in \u001b[36mon_save_clicked\u001b[39m\u001b[34m(b)\u001b[39m\n\u001b[32m    346\u001b[39m add_thread_to_xml(xml_path, size.value, current_designation_de, current_designation_en, pitch.value,\n\u001b[32m    347\u001b[39m                   major_dia_ext.value, pitch_dia_ext.value, minor_dia_ext.value,\n\u001b[32m    348\u001b[39m                   major_dia_int.value, pitch_dia_int.value, minor_dia_int.value,\n\u001b[32m    349\u001b[39m                   major_dia_4g6g.value, pitch_dia_4g6g.value, minor_dia_4g6g.value,\n\u001b[32m    350\u001b[39m                   tap_drill.value, old_designation=original_designation)\n\u001b[32m    352\u001b[39m load_dropdown_options()\n\u001b[32m--> \u001b[39m\u001b[32m353\u001b[39m \u001b[43mthread_dropdown\u001b[49m\u001b[43m.\u001b[49m\u001b[43mvalue\u001b[49m = original_designation\n\u001b[32m    355\u001b[39m save_button.style.button_color = \u001b[33m'\u001b[39m\u001b[33mlightgreen\u001b[39m\u001b[33m'\u001b[39m\n\u001b[32m    356\u001b[39m save_new_button.style.button_color = \u001b[33m'\u001b[39m\u001b[33m'\u001b[39m\n",
      "\u001b[36mFile \u001b[39m\u001b[32m~/Nextcloud/WORKSPACE/Fusion360/fusion_360_threadtool_xml_editor/.venv/lib/python3.13/site-packages/traitlets/traitlets.py:716\u001b[39m, in \u001b[36mTraitType.__set__\u001b[39m\u001b[34m(self, obj, value)\u001b[39m\n\u001b[32m    714\u001b[39m \u001b[38;5;28;01mif\u001b[39;00m \u001b[38;5;28mself\u001b[39m.read_only:\n\u001b[32m    715\u001b[39m     \u001b[38;5;28;01mraise\u001b[39;00m TraitError(\u001b[33m'\u001b[39m\u001b[33mThe \u001b[39m\u001b[33m\"\u001b[39m\u001b[38;5;132;01m%s\u001b[39;00m\u001b[33m\"\u001b[39m\u001b[33m trait is read-only.\u001b[39m\u001b[33m'\u001b[39m % \u001b[38;5;28mself\u001b[39m.name)\n\u001b[32m--> \u001b[39m\u001b[32m716\u001b[39m \u001b[38;5;28;43mself\u001b[39;49m\u001b[43m.\u001b[49m\u001b[43mset\u001b[49m\u001b[43m(\u001b[49m\u001b[43mobj\u001b[49m\u001b[43m,\u001b[49m\u001b[43m \u001b[49m\u001b[43mvalue\u001b[49m\u001b[43m)\u001b[49m\n",
      "\u001b[36mFile \u001b[39m\u001b[32m~/Nextcloud/WORKSPACE/Fusion360/fusion_360_threadtool_xml_editor/.venv/lib/python3.13/site-packages/traitlets/traitlets.py:690\u001b[39m, in \u001b[36mTraitType.set\u001b[39m\u001b[34m(self, obj, value)\u001b[39m\n\u001b[32m    689\u001b[39m \u001b[38;5;28;01mdef\u001b[39;00m\u001b[38;5;250m \u001b[39m\u001b[34mset\u001b[39m(\u001b[38;5;28mself\u001b[39m, obj: HasTraits, value: S) -> \u001b[38;5;28;01mNone\u001b[39;00m:\n\u001b[32m--> \u001b[39m\u001b[32m690\u001b[39m     new_value = \u001b[38;5;28;43mself\u001b[39;49m\u001b[43m.\u001b[49m\u001b[43m_validate\u001b[49m\u001b[43m(\u001b[49m\u001b[43mobj\u001b[49m\u001b[43m,\u001b[49m\u001b[43m \u001b[49m\u001b[43mvalue\u001b[49m\u001b[43m)\u001b[49m\n\u001b[32m    691\u001b[39m     \u001b[38;5;28;01massert\u001b[39;00m \u001b[38;5;28mself\u001b[39m.name \u001b[38;5;129;01mis\u001b[39;00m \u001b[38;5;129;01mnot\u001b[39;00m \u001b[38;5;28;01mNone\u001b[39;00m\n\u001b[32m    692\u001b[39m     \u001b[38;5;28;01mtry\u001b[39;00m:\n",
      "\u001b[36mFile \u001b[39m\u001b[32m~/Nextcloud/WORKSPACE/Fusion360/fusion_360_threadtool_xml_editor/.venv/lib/python3.13/site-packages/traitlets/traitlets.py:724\u001b[39m, in \u001b[36mTraitType._validate\u001b[39m\u001b[34m(self, obj, value)\u001b[39m\n\u001b[32m    722\u001b[39m     value = \u001b[38;5;28mself\u001b[39m.validate(obj, value)\n\u001b[32m    723\u001b[39m \u001b[38;5;28;01mif\u001b[39;00m obj._cross_validation_lock \u001b[38;5;129;01mis\u001b[39;00m \u001b[38;5;28;01mFalse\u001b[39;00m:\n\u001b[32m--> \u001b[39m\u001b[32m724\u001b[39m     value = \u001b[38;5;28;43mself\u001b[39;49m\u001b[43m.\u001b[49m\u001b[43m_cross_validate\u001b[49m\u001b[43m(\u001b[49m\u001b[43mobj\u001b[49m\u001b[43m,\u001b[49m\u001b[43m \u001b[49m\u001b[43mvalue\u001b[49m\u001b[43m)\u001b[49m\n\u001b[32m    725\u001b[39m \u001b[38;5;28;01mreturn\u001b[39;00m t.cast(G, value)\n",
      "\u001b[36mFile \u001b[39m\u001b[32m~/Nextcloud/WORKSPACE/Fusion360/fusion_360_threadtool_xml_editor/.venv/lib/python3.13/site-packages/traitlets/traitlets.py:730\u001b[39m, in \u001b[36mTraitType._cross_validate\u001b[39m\u001b[34m(self, obj, value)\u001b[39m\n\u001b[32m    728\u001b[39m \u001b[38;5;28;01mif\u001b[39;00m \u001b[38;5;28mself\u001b[39m.name \u001b[38;5;129;01min\u001b[39;00m obj._trait_validators:\n\u001b[32m    729\u001b[39m     proposal = Bunch({\u001b[33m\"\u001b[39m\u001b[33mtrait\u001b[39m\u001b[33m\"\u001b[39m: \u001b[38;5;28mself\u001b[39m, \u001b[33m\"\u001b[39m\u001b[33mvalue\u001b[39m\u001b[33m\"\u001b[39m: value, \u001b[33m\"\u001b[39m\u001b[33mowner\u001b[39m\u001b[33m\"\u001b[39m: obj})\n\u001b[32m--> \u001b[39m\u001b[32m730\u001b[39m     value = \u001b[43mobj\u001b[49m\u001b[43m.\u001b[49m\u001b[43m_trait_validators\u001b[49m\u001b[43m[\u001b[49m\u001b[38;5;28;43mself\u001b[39;49m\u001b[43m.\u001b[49m\u001b[43mname\u001b[49m\u001b[43m]\u001b[49m\u001b[43m(\u001b[49m\u001b[43mobj\u001b[49m\u001b[43m,\u001b[49m\u001b[43m \u001b[49m\u001b[43mproposal\u001b[49m\u001b[43m)\u001b[49m\n\u001b[32m    731\u001b[39m \u001b[38;5;28;01melif\u001b[39;00m \u001b[38;5;28mhasattr\u001b[39m(obj, \u001b[33m\"\u001b[39m\u001b[33m_\u001b[39m\u001b[38;5;132;01m%s\u001b[39;00m\u001b[33m_validate\u001b[39m\u001b[33m\"\u001b[39m % \u001b[38;5;28mself\u001b[39m.name):\n\u001b[32m    732\u001b[39m     meth_name = \u001b[33m\"\u001b[39m\u001b[33m_\u001b[39m\u001b[38;5;132;01m%s\u001b[39;00m\u001b[33m_validate\u001b[39m\u001b[33m\"\u001b[39m % \u001b[38;5;28mself\u001b[39m.name\n",
      "\u001b[36mFile \u001b[39m\u001b[32m~/Nextcloud/WORKSPACE/Fusion360/fusion_360_threadtool_xml_editor/.venv/lib/python3.13/site-packages/traitlets/traitlets.py:1241\u001b[39m, in \u001b[36mEventHandler.__call__\u001b[39m\u001b[34m(self, *args, **kwargs)\u001b[39m\n\u001b[32m   1239\u001b[39m \u001b[38;5;250m\u001b[39m\u001b[33;03m\"\"\"Pass `*args` and `**kwargs` to the handler's function if it exists.\"\"\"\u001b[39;00m\n\u001b[32m   1240\u001b[39m \u001b[38;5;28;01mif\u001b[39;00m \u001b[38;5;28mhasattr\u001b[39m(\u001b[38;5;28mself\u001b[39m, \u001b[33m\"\u001b[39m\u001b[33mfunc\u001b[39m\u001b[33m\"\u001b[39m):\n\u001b[32m-> \u001b[39m\u001b[32m1241\u001b[39m     \u001b[38;5;28;01mreturn\u001b[39;00m \u001b[38;5;28;43mself\u001b[39;49m\u001b[43m.\u001b[49m\u001b[43mfunc\u001b[49m\u001b[43m(\u001b[49m\u001b[43m*\u001b[49m\u001b[43margs\u001b[49m\u001b[43m,\u001b[49m\u001b[43m \u001b[49m\u001b[43m*\u001b[49m\u001b[43m*\u001b[49m\u001b[43mkwargs\u001b[49m\u001b[43m)\u001b[49m\n\u001b[32m   1242\u001b[39m \u001b[38;5;28;01melse\u001b[39;00m:\n\u001b[32m   1243\u001b[39m     \u001b[38;5;28;01mreturn\u001b[39;00m \u001b[38;5;28mself\u001b[39m._init_call(*args, **kwargs)\n",
      "\u001b[36mFile \u001b[39m\u001b[32m~/Nextcloud/WORKSPACE/Fusion360/fusion_360_threadtool_xml_editor/.venv/lib/python3.13/site-packages/ipywidgets/widgets/widget_selection.py:244\u001b[39m, in \u001b[36m_Selection._validate_value\u001b[39m\u001b[34m(self, proposal)\u001b[39m\n\u001b[32m    242\u001b[39m     \u001b[38;5;28;01mreturn\u001b[39;00m findvalue(\u001b[38;5;28mself\u001b[39m._options_values, value, \u001b[38;5;28mself\u001b[39m.equals) \u001b[38;5;28;01mif\u001b[39;00m value \u001b[38;5;129;01mis\u001b[39;00m \u001b[38;5;129;01mnot\u001b[39;00m \u001b[38;5;28;01mNone\u001b[39;00m \u001b[38;5;28;01melse\u001b[39;00m \u001b[38;5;28;01mNone\u001b[39;00m\n\u001b[32m    243\u001b[39m \u001b[38;5;28;01mexcept\u001b[39;00m \u001b[38;5;167;01mValueError\u001b[39;00m:\n\u001b[32m--> \u001b[39m\u001b[32m244\u001b[39m     \u001b[38;5;28;01mraise\u001b[39;00m TraitError(\u001b[33m'\u001b[39m\u001b[33mInvalid selection: value not found\u001b[39m\u001b[33m'\u001b[39m)\n",
      "\u001b[31mTraitError\u001b[39m: Invalid selection: value not found"
     ]
    },
    {
     "ename": "TraitError",
     "evalue": "The 'button_color' trait of a ButtonStyle instance expected a valid HTML color, not the str ''.",
     "output_type": "error",
     "traceback": [
      "\u001b[31m---------------------------------------------------------------------------\u001b[39m",
      "\u001b[31mTraitError\u001b[39m                                Traceback (most recent call last)",
      "\u001b[36mCell\u001b[39m\u001b[36m \u001b[39m\u001b[32mIn[84]\u001b[39m\u001b[32m, line 356\u001b[39m, in \u001b[36mon_save_clicked\u001b[39m\u001b[34m(b)\u001b[39m\n\u001b[32m    353\u001b[39m thread_dropdown.value = original_designation\n\u001b[32m    355\u001b[39m save_button.style.button_color = \u001b[33m'\u001b[39m\u001b[33mlightgreen\u001b[39m\u001b[33m'\u001b[39m\n\u001b[32m--> \u001b[39m\u001b[32m356\u001b[39m \u001b[43msave_new_button\u001b[49m\u001b[43m.\u001b[49m\u001b[43mstyle\u001b[49m\u001b[43m.\u001b[49m\u001b[43mbutton_color\u001b[49m = \u001b[33m'\u001b[39m\u001b[33m'\u001b[39m\n\u001b[32m    357\u001b[39m delete_button.style.button_color = \u001b[33m'\u001b[39m\u001b[33m'\u001b[39m\n\u001b[32m    358\u001b[39m delete_button.style.button_color = \u001b[33m'\u001b[39m\u001b[33m'\u001b[39m\n",
      "\u001b[36mFile \u001b[39m\u001b[32m~/Nextcloud/WORKSPACE/Fusion360/fusion_360_threadtool_xml_editor/.venv/lib/python3.13/site-packages/traitlets/traitlets.py:716\u001b[39m, in \u001b[36mTraitType.__set__\u001b[39m\u001b[34m(self, obj, value)\u001b[39m\n\u001b[32m    714\u001b[39m \u001b[38;5;28;01mif\u001b[39;00m \u001b[38;5;28mself\u001b[39m.read_only:\n\u001b[32m    715\u001b[39m     \u001b[38;5;28;01mraise\u001b[39;00m TraitError(\u001b[33m'\u001b[39m\u001b[33mThe \u001b[39m\u001b[33m\"\u001b[39m\u001b[38;5;132;01m%s\u001b[39;00m\u001b[33m\"\u001b[39m\u001b[33m trait is read-only.\u001b[39m\u001b[33m'\u001b[39m % \u001b[38;5;28mself\u001b[39m.name)\n\u001b[32m--> \u001b[39m\u001b[32m716\u001b[39m \u001b[38;5;28;43mself\u001b[39;49m\u001b[43m.\u001b[49m\u001b[43mset\u001b[49m\u001b[43m(\u001b[49m\u001b[43mobj\u001b[49m\u001b[43m,\u001b[49m\u001b[43m \u001b[49m\u001b[43mvalue\u001b[49m\u001b[43m)\u001b[49m\n",
      "\u001b[36mFile \u001b[39m\u001b[32m~/Nextcloud/WORKSPACE/Fusion360/fusion_360_threadtool_xml_editor/.venv/lib/python3.13/site-packages/traitlets/traitlets.py:690\u001b[39m, in \u001b[36mTraitType.set\u001b[39m\u001b[34m(self, obj, value)\u001b[39m\n\u001b[32m    689\u001b[39m \u001b[38;5;28;01mdef\u001b[39;00m\u001b[38;5;250m \u001b[39m\u001b[34mset\u001b[39m(\u001b[38;5;28mself\u001b[39m, obj: HasTraits, value: S) -> \u001b[38;5;28;01mNone\u001b[39;00m:\n\u001b[32m--> \u001b[39m\u001b[32m690\u001b[39m     new_value = \u001b[38;5;28;43mself\u001b[39;49m\u001b[43m.\u001b[49m\u001b[43m_validate\u001b[49m\u001b[43m(\u001b[49m\u001b[43mobj\u001b[49m\u001b[43m,\u001b[49m\u001b[43m \u001b[49m\u001b[43mvalue\u001b[49m\u001b[43m)\u001b[49m\n\u001b[32m    691\u001b[39m     \u001b[38;5;28;01massert\u001b[39;00m \u001b[38;5;28mself\u001b[39m.name \u001b[38;5;129;01mis\u001b[39;00m \u001b[38;5;129;01mnot\u001b[39;00m \u001b[38;5;28;01mNone\u001b[39;00m\n\u001b[32m    692\u001b[39m     \u001b[38;5;28;01mtry\u001b[39;00m:\n",
      "\u001b[36mFile \u001b[39m\u001b[32m~/Nextcloud/WORKSPACE/Fusion360/fusion_360_threadtool_xml_editor/.venv/lib/python3.13/site-packages/traitlets/traitlets.py:722\u001b[39m, in \u001b[36mTraitType._validate\u001b[39m\u001b[34m(self, obj, value)\u001b[39m\n\u001b[32m    720\u001b[39m     \u001b[38;5;28;01mreturn\u001b[39;00m value\n\u001b[32m    721\u001b[39m \u001b[38;5;28;01mif\u001b[39;00m \u001b[38;5;28mhasattr\u001b[39m(\u001b[38;5;28mself\u001b[39m, \u001b[33m\"\u001b[39m\u001b[33mvalidate\u001b[39m\u001b[33m\"\u001b[39m):\n\u001b[32m--> \u001b[39m\u001b[32m722\u001b[39m     value = \u001b[38;5;28;43mself\u001b[39;49m\u001b[43m.\u001b[49m\u001b[43mvalidate\u001b[49m\u001b[43m(\u001b[49m\u001b[43mobj\u001b[49m\u001b[43m,\u001b[49m\u001b[43m \u001b[49m\u001b[43mvalue\u001b[49m\u001b[43m)\u001b[49m\n\u001b[32m    723\u001b[39m \u001b[38;5;28;01mif\u001b[39;00m obj._cross_validation_lock \u001b[38;5;129;01mis\u001b[39;00m \u001b[38;5;28;01mFalse\u001b[39;00m:\n\u001b[32m    724\u001b[39m     value = \u001b[38;5;28mself\u001b[39m._cross_validate(obj, value)\n",
      "\u001b[36mFile \u001b[39m\u001b[32m~/Nextcloud/WORKSPACE/Fusion360/fusion_360_threadtool_xml_editor/.venv/lib/python3.13/site-packages/ipywidgets/widgets/trait_types.py:94\u001b[39m, in \u001b[36mColor.validate\u001b[39m\u001b[34m(self, obj, value)\u001b[39m\n\u001b[32m     89\u001b[39m     \u001b[38;5;28;01mif\u001b[39;00m (value.lower() \u001b[38;5;129;01min\u001b[39;00m _color_names \u001b[38;5;129;01mor\u001b[39;00m _color_hex_re.match(value) \u001b[38;5;129;01mor\u001b[39;00m\n\u001b[32m     90\u001b[39m         _color_hexa_re.match(value) \u001b[38;5;129;01mor\u001b[39;00m _color_rgbhsl_re.match(value) \u001b[38;5;129;01mor\u001b[39;00m\n\u001b[32m     91\u001b[39m         _color_var_re.match(value)):\n\u001b[32m     92\u001b[39m         \u001b[38;5;28;01mreturn\u001b[39;00m value\n\u001b[32m---> \u001b[39m\u001b[32m94\u001b[39m \u001b[38;5;28;43mself\u001b[39;49m\u001b[43m.\u001b[49m\u001b[43merror\u001b[49m\u001b[43m(\u001b[49m\u001b[43mobj\u001b[49m\u001b[43m,\u001b[49m\u001b[43m \u001b[49m\u001b[43mvalue\u001b[49m\u001b[43m)\u001b[49m\n",
      "\u001b[36mFile \u001b[39m\u001b[32m~/Nextcloud/WORKSPACE/Fusion360/fusion_360_threadtool_xml_editor/.venv/lib/python3.13/site-packages/traitlets/traitlets.py:831\u001b[39m, in \u001b[36mTraitType.error\u001b[39m\u001b[34m(self, obj, value, error, info)\u001b[39m\n\u001b[32m    825\u001b[39m \u001b[38;5;28;01melse\u001b[39;00m:\n\u001b[32m    826\u001b[39m     e = \u001b[33m\"\u001b[39m\u001b[33mThe \u001b[39m\u001b[33m'\u001b[39m\u001b[38;5;132;01m{}\u001b[39;00m\u001b[33m'\u001b[39m\u001b[33m trait expected \u001b[39m\u001b[38;5;132;01m{}\u001b[39;00m\u001b[33m, not \u001b[39m\u001b[38;5;132;01m{}\u001b[39;00m\u001b[33m.\u001b[39m\u001b[33m\"\u001b[39m.format(\n\u001b[32m    827\u001b[39m         \u001b[38;5;28mself\u001b[39m.name,\n\u001b[32m    828\u001b[39m         info \u001b[38;5;129;01mor\u001b[39;00m \u001b[38;5;28mself\u001b[39m.info(),\n\u001b[32m    829\u001b[39m         describe(\u001b[33m\"\u001b[39m\u001b[33mthe\u001b[39m\u001b[33m\"\u001b[39m, value),\n\u001b[32m    830\u001b[39m     )\n\u001b[32m--> \u001b[39m\u001b[32m831\u001b[39m \u001b[38;5;28;01mraise\u001b[39;00m TraitError(e)\n",
      "\u001b[31mTraitError\u001b[39m: The 'button_color' trait of a ButtonStyle instance expected a valid HTML color, not the str ''."
     ]
    },
    {
     "ename": "TraitError",
     "evalue": "The 'button_color' trait of a ButtonStyle instance expected a valid HTML color, not the str ''.",
     "output_type": "error",
     "traceback": [
      "\u001b[31m---------------------------------------------------------------------------\u001b[39m",
      "\u001b[31mTraitError\u001b[39m                                Traceback (most recent call last)",
      "\u001b[36mCell\u001b[39m\u001b[36m \u001b[39m\u001b[32mIn[84]\u001b[39m\u001b[32m, line 356\u001b[39m, in \u001b[36mon_save_clicked\u001b[39m\u001b[34m(b)\u001b[39m\n\u001b[32m    353\u001b[39m thread_dropdown.value = original_designation\n\u001b[32m    355\u001b[39m save_button.style.button_color = \u001b[33m'\u001b[39m\u001b[33mlightgreen\u001b[39m\u001b[33m'\u001b[39m\n\u001b[32m--> \u001b[39m\u001b[32m356\u001b[39m \u001b[43msave_new_button\u001b[49m\u001b[43m.\u001b[49m\u001b[43mstyle\u001b[49m\u001b[43m.\u001b[49m\u001b[43mbutton_color\u001b[49m = \u001b[33m'\u001b[39m\u001b[33m'\u001b[39m\n\u001b[32m    357\u001b[39m delete_button.style.button_color = \u001b[33m'\u001b[39m\u001b[33m'\u001b[39m\n\u001b[32m    358\u001b[39m delete_button.style.button_color = \u001b[33m'\u001b[39m\u001b[33m'\u001b[39m\n",
      "\u001b[36mFile \u001b[39m\u001b[32m~/Nextcloud/WORKSPACE/Fusion360/fusion_360_threadtool_xml_editor/.venv/lib/python3.13/site-packages/traitlets/traitlets.py:716\u001b[39m, in \u001b[36mTraitType.__set__\u001b[39m\u001b[34m(self, obj, value)\u001b[39m\n\u001b[32m    714\u001b[39m \u001b[38;5;28;01mif\u001b[39;00m \u001b[38;5;28mself\u001b[39m.read_only:\n\u001b[32m    715\u001b[39m     \u001b[38;5;28;01mraise\u001b[39;00m TraitError(\u001b[33m'\u001b[39m\u001b[33mThe \u001b[39m\u001b[33m\"\u001b[39m\u001b[38;5;132;01m%s\u001b[39;00m\u001b[33m\"\u001b[39m\u001b[33m trait is read-only.\u001b[39m\u001b[33m'\u001b[39m % \u001b[38;5;28mself\u001b[39m.name)\n\u001b[32m--> \u001b[39m\u001b[32m716\u001b[39m \u001b[38;5;28;43mself\u001b[39;49m\u001b[43m.\u001b[49m\u001b[43mset\u001b[49m\u001b[43m(\u001b[49m\u001b[43mobj\u001b[49m\u001b[43m,\u001b[49m\u001b[43m \u001b[49m\u001b[43mvalue\u001b[49m\u001b[43m)\u001b[49m\n",
      "\u001b[36mFile \u001b[39m\u001b[32m~/Nextcloud/WORKSPACE/Fusion360/fusion_360_threadtool_xml_editor/.venv/lib/python3.13/site-packages/traitlets/traitlets.py:690\u001b[39m, in \u001b[36mTraitType.set\u001b[39m\u001b[34m(self, obj, value)\u001b[39m\n\u001b[32m    689\u001b[39m \u001b[38;5;28;01mdef\u001b[39;00m\u001b[38;5;250m \u001b[39m\u001b[34mset\u001b[39m(\u001b[38;5;28mself\u001b[39m, obj: HasTraits, value: S) -> \u001b[38;5;28;01mNone\u001b[39;00m:\n\u001b[32m--> \u001b[39m\u001b[32m690\u001b[39m     new_value = \u001b[38;5;28;43mself\u001b[39;49m\u001b[43m.\u001b[49m\u001b[43m_validate\u001b[49m\u001b[43m(\u001b[49m\u001b[43mobj\u001b[49m\u001b[43m,\u001b[49m\u001b[43m \u001b[49m\u001b[43mvalue\u001b[49m\u001b[43m)\u001b[49m\n\u001b[32m    691\u001b[39m     \u001b[38;5;28;01massert\u001b[39;00m \u001b[38;5;28mself\u001b[39m.name \u001b[38;5;129;01mis\u001b[39;00m \u001b[38;5;129;01mnot\u001b[39;00m \u001b[38;5;28;01mNone\u001b[39;00m\n\u001b[32m    692\u001b[39m     \u001b[38;5;28;01mtry\u001b[39;00m:\n",
      "\u001b[36mFile \u001b[39m\u001b[32m~/Nextcloud/WORKSPACE/Fusion360/fusion_360_threadtool_xml_editor/.venv/lib/python3.13/site-packages/traitlets/traitlets.py:722\u001b[39m, in \u001b[36mTraitType._validate\u001b[39m\u001b[34m(self, obj, value)\u001b[39m\n\u001b[32m    720\u001b[39m     \u001b[38;5;28;01mreturn\u001b[39;00m value\n\u001b[32m    721\u001b[39m \u001b[38;5;28;01mif\u001b[39;00m \u001b[38;5;28mhasattr\u001b[39m(\u001b[38;5;28mself\u001b[39m, \u001b[33m\"\u001b[39m\u001b[33mvalidate\u001b[39m\u001b[33m\"\u001b[39m):\n\u001b[32m--> \u001b[39m\u001b[32m722\u001b[39m     value = \u001b[38;5;28;43mself\u001b[39;49m\u001b[43m.\u001b[49m\u001b[43mvalidate\u001b[49m\u001b[43m(\u001b[49m\u001b[43mobj\u001b[49m\u001b[43m,\u001b[49m\u001b[43m \u001b[49m\u001b[43mvalue\u001b[49m\u001b[43m)\u001b[49m\n\u001b[32m    723\u001b[39m \u001b[38;5;28;01mif\u001b[39;00m obj._cross_validation_lock \u001b[38;5;129;01mis\u001b[39;00m \u001b[38;5;28;01mFalse\u001b[39;00m:\n\u001b[32m    724\u001b[39m     value = \u001b[38;5;28mself\u001b[39m._cross_validate(obj, value)\n",
      "\u001b[36mFile \u001b[39m\u001b[32m~/Nextcloud/WORKSPACE/Fusion360/fusion_360_threadtool_xml_editor/.venv/lib/python3.13/site-packages/ipywidgets/widgets/trait_types.py:94\u001b[39m, in \u001b[36mColor.validate\u001b[39m\u001b[34m(self, obj, value)\u001b[39m\n\u001b[32m     89\u001b[39m     \u001b[38;5;28;01mif\u001b[39;00m (value.lower() \u001b[38;5;129;01min\u001b[39;00m _color_names \u001b[38;5;129;01mor\u001b[39;00m _color_hex_re.match(value) \u001b[38;5;129;01mor\u001b[39;00m\n\u001b[32m     90\u001b[39m         _color_hexa_re.match(value) \u001b[38;5;129;01mor\u001b[39;00m _color_rgbhsl_re.match(value) \u001b[38;5;129;01mor\u001b[39;00m\n\u001b[32m     91\u001b[39m         _color_var_re.match(value)):\n\u001b[32m     92\u001b[39m         \u001b[38;5;28;01mreturn\u001b[39;00m value\n\u001b[32m---> \u001b[39m\u001b[32m94\u001b[39m \u001b[38;5;28;43mself\u001b[39;49m\u001b[43m.\u001b[49m\u001b[43merror\u001b[49m\u001b[43m(\u001b[49m\u001b[43mobj\u001b[49m\u001b[43m,\u001b[49m\u001b[43m \u001b[49m\u001b[43mvalue\u001b[49m\u001b[43m)\u001b[49m\n",
      "\u001b[36mFile \u001b[39m\u001b[32m~/Nextcloud/WORKSPACE/Fusion360/fusion_360_threadtool_xml_editor/.venv/lib/python3.13/site-packages/traitlets/traitlets.py:831\u001b[39m, in \u001b[36mTraitType.error\u001b[39m\u001b[34m(self, obj, value, error, info)\u001b[39m\n\u001b[32m    825\u001b[39m \u001b[38;5;28;01melse\u001b[39;00m:\n\u001b[32m    826\u001b[39m     e = \u001b[33m\"\u001b[39m\u001b[33mThe \u001b[39m\u001b[33m'\u001b[39m\u001b[38;5;132;01m{}\u001b[39;00m\u001b[33m'\u001b[39m\u001b[33m trait expected \u001b[39m\u001b[38;5;132;01m{}\u001b[39;00m\u001b[33m, not \u001b[39m\u001b[38;5;132;01m{}\u001b[39;00m\u001b[33m.\u001b[39m\u001b[33m\"\u001b[39m.format(\n\u001b[32m    827\u001b[39m         \u001b[38;5;28mself\u001b[39m.name,\n\u001b[32m    828\u001b[39m         info \u001b[38;5;129;01mor\u001b[39;00m \u001b[38;5;28mself\u001b[39m.info(),\n\u001b[32m    829\u001b[39m         describe(\u001b[33m\"\u001b[39m\u001b[33mthe\u001b[39m\u001b[33m\"\u001b[39m, value),\n\u001b[32m    830\u001b[39m     )\n\u001b[32m--> \u001b[39m\u001b[32m831\u001b[39m \u001b[38;5;28;01mraise\u001b[39;00m TraitError(e)\n",
      "\u001b[31mTraitError\u001b[39m: The 'button_color' trait of a ButtonStyle instance expected a valid HTML color, not the str ''."
     ]
    },
    {
     "ename": "TraitError",
     "evalue": "The 'button_color' trait of a ButtonStyle instance expected a valid HTML color, not the str ''.",
     "output_type": "error",
     "traceback": [
      "\u001b[31m---------------------------------------------------------------------------\u001b[39m",
      "\u001b[31mTraitError\u001b[39m                                Traceback (most recent call last)",
      "\u001b[36mCell\u001b[39m\u001b[36m \u001b[39m\u001b[32mIn[84]\u001b[39m\u001b[32m, line 356\u001b[39m, in \u001b[36mon_save_clicked\u001b[39m\u001b[34m(b)\u001b[39m\n\u001b[32m    353\u001b[39m thread_dropdown.value = original_designation\n\u001b[32m    355\u001b[39m save_button.style.button_color = \u001b[33m'\u001b[39m\u001b[33mlightgreen\u001b[39m\u001b[33m'\u001b[39m\n\u001b[32m--> \u001b[39m\u001b[32m356\u001b[39m \u001b[43msave_new_button\u001b[49m\u001b[43m.\u001b[49m\u001b[43mstyle\u001b[49m\u001b[43m.\u001b[49m\u001b[43mbutton_color\u001b[49m = \u001b[33m'\u001b[39m\u001b[33m'\u001b[39m\n\u001b[32m    357\u001b[39m delete_button.style.button_color = \u001b[33m'\u001b[39m\u001b[33m'\u001b[39m\n\u001b[32m    358\u001b[39m delete_button.style.button_color = \u001b[33m'\u001b[39m\u001b[33m'\u001b[39m\n",
      "\u001b[36mFile \u001b[39m\u001b[32m~/Nextcloud/WORKSPACE/Fusion360/fusion_360_threadtool_xml_editor/.venv/lib/python3.13/site-packages/traitlets/traitlets.py:716\u001b[39m, in \u001b[36mTraitType.__set__\u001b[39m\u001b[34m(self, obj, value)\u001b[39m\n\u001b[32m    714\u001b[39m \u001b[38;5;28;01mif\u001b[39;00m \u001b[38;5;28mself\u001b[39m.read_only:\n\u001b[32m    715\u001b[39m     \u001b[38;5;28;01mraise\u001b[39;00m TraitError(\u001b[33m'\u001b[39m\u001b[33mThe \u001b[39m\u001b[33m\"\u001b[39m\u001b[38;5;132;01m%s\u001b[39;00m\u001b[33m\"\u001b[39m\u001b[33m trait is read-only.\u001b[39m\u001b[33m'\u001b[39m % \u001b[38;5;28mself\u001b[39m.name)\n\u001b[32m--> \u001b[39m\u001b[32m716\u001b[39m \u001b[38;5;28;43mself\u001b[39;49m\u001b[43m.\u001b[49m\u001b[43mset\u001b[49m\u001b[43m(\u001b[49m\u001b[43mobj\u001b[49m\u001b[43m,\u001b[49m\u001b[43m \u001b[49m\u001b[43mvalue\u001b[49m\u001b[43m)\u001b[49m\n",
      "\u001b[36mFile \u001b[39m\u001b[32m~/Nextcloud/WORKSPACE/Fusion360/fusion_360_threadtool_xml_editor/.venv/lib/python3.13/site-packages/traitlets/traitlets.py:690\u001b[39m, in \u001b[36mTraitType.set\u001b[39m\u001b[34m(self, obj, value)\u001b[39m\n\u001b[32m    689\u001b[39m \u001b[38;5;28;01mdef\u001b[39;00m\u001b[38;5;250m \u001b[39m\u001b[34mset\u001b[39m(\u001b[38;5;28mself\u001b[39m, obj: HasTraits, value: S) -> \u001b[38;5;28;01mNone\u001b[39;00m:\n\u001b[32m--> \u001b[39m\u001b[32m690\u001b[39m     new_value = \u001b[38;5;28;43mself\u001b[39;49m\u001b[43m.\u001b[49m\u001b[43m_validate\u001b[49m\u001b[43m(\u001b[49m\u001b[43mobj\u001b[49m\u001b[43m,\u001b[49m\u001b[43m \u001b[49m\u001b[43mvalue\u001b[49m\u001b[43m)\u001b[49m\n\u001b[32m    691\u001b[39m     \u001b[38;5;28;01massert\u001b[39;00m \u001b[38;5;28mself\u001b[39m.name \u001b[38;5;129;01mis\u001b[39;00m \u001b[38;5;129;01mnot\u001b[39;00m \u001b[38;5;28;01mNone\u001b[39;00m\n\u001b[32m    692\u001b[39m     \u001b[38;5;28;01mtry\u001b[39;00m:\n",
      "\u001b[36mFile \u001b[39m\u001b[32m~/Nextcloud/WORKSPACE/Fusion360/fusion_360_threadtool_xml_editor/.venv/lib/python3.13/site-packages/traitlets/traitlets.py:722\u001b[39m, in \u001b[36mTraitType._validate\u001b[39m\u001b[34m(self, obj, value)\u001b[39m\n\u001b[32m    720\u001b[39m     \u001b[38;5;28;01mreturn\u001b[39;00m value\n\u001b[32m    721\u001b[39m \u001b[38;5;28;01mif\u001b[39;00m \u001b[38;5;28mhasattr\u001b[39m(\u001b[38;5;28mself\u001b[39m, \u001b[33m\"\u001b[39m\u001b[33mvalidate\u001b[39m\u001b[33m\"\u001b[39m):\n\u001b[32m--> \u001b[39m\u001b[32m722\u001b[39m     value = \u001b[38;5;28;43mself\u001b[39;49m\u001b[43m.\u001b[49m\u001b[43mvalidate\u001b[49m\u001b[43m(\u001b[49m\u001b[43mobj\u001b[49m\u001b[43m,\u001b[49m\u001b[43m \u001b[49m\u001b[43mvalue\u001b[49m\u001b[43m)\u001b[49m\n\u001b[32m    723\u001b[39m \u001b[38;5;28;01mif\u001b[39;00m obj._cross_validation_lock \u001b[38;5;129;01mis\u001b[39;00m \u001b[38;5;28;01mFalse\u001b[39;00m:\n\u001b[32m    724\u001b[39m     value = \u001b[38;5;28mself\u001b[39m._cross_validate(obj, value)\n",
      "\u001b[36mFile \u001b[39m\u001b[32m~/Nextcloud/WORKSPACE/Fusion360/fusion_360_threadtool_xml_editor/.venv/lib/python3.13/site-packages/ipywidgets/widgets/trait_types.py:94\u001b[39m, in \u001b[36mColor.validate\u001b[39m\u001b[34m(self, obj, value)\u001b[39m\n\u001b[32m     89\u001b[39m     \u001b[38;5;28;01mif\u001b[39;00m (value.lower() \u001b[38;5;129;01min\u001b[39;00m _color_names \u001b[38;5;129;01mor\u001b[39;00m _color_hex_re.match(value) \u001b[38;5;129;01mor\u001b[39;00m\n\u001b[32m     90\u001b[39m         _color_hexa_re.match(value) \u001b[38;5;129;01mor\u001b[39;00m _color_rgbhsl_re.match(value) \u001b[38;5;129;01mor\u001b[39;00m\n\u001b[32m     91\u001b[39m         _color_var_re.match(value)):\n\u001b[32m     92\u001b[39m         \u001b[38;5;28;01mreturn\u001b[39;00m value\n\u001b[32m---> \u001b[39m\u001b[32m94\u001b[39m \u001b[38;5;28;43mself\u001b[39;49m\u001b[43m.\u001b[49m\u001b[43merror\u001b[49m\u001b[43m(\u001b[49m\u001b[43mobj\u001b[49m\u001b[43m,\u001b[49m\u001b[43m \u001b[49m\u001b[43mvalue\u001b[49m\u001b[43m)\u001b[49m\n",
      "\u001b[36mFile \u001b[39m\u001b[32m~/Nextcloud/WORKSPACE/Fusion360/fusion_360_threadtool_xml_editor/.venv/lib/python3.13/site-packages/traitlets/traitlets.py:831\u001b[39m, in \u001b[36mTraitType.error\u001b[39m\u001b[34m(self, obj, value, error, info)\u001b[39m\n\u001b[32m    825\u001b[39m \u001b[38;5;28;01melse\u001b[39;00m:\n\u001b[32m    826\u001b[39m     e = \u001b[33m\"\u001b[39m\u001b[33mThe \u001b[39m\u001b[33m'\u001b[39m\u001b[38;5;132;01m{}\u001b[39;00m\u001b[33m'\u001b[39m\u001b[33m trait expected \u001b[39m\u001b[38;5;132;01m{}\u001b[39;00m\u001b[33m, not \u001b[39m\u001b[38;5;132;01m{}\u001b[39;00m\u001b[33m.\u001b[39m\u001b[33m\"\u001b[39m.format(\n\u001b[32m    827\u001b[39m         \u001b[38;5;28mself\u001b[39m.name,\n\u001b[32m    828\u001b[39m         info \u001b[38;5;129;01mor\u001b[39;00m \u001b[38;5;28mself\u001b[39m.info(),\n\u001b[32m    829\u001b[39m         describe(\u001b[33m\"\u001b[39m\u001b[33mthe\u001b[39m\u001b[33m\"\u001b[39m, value),\n\u001b[32m    830\u001b[39m     )\n\u001b[32m--> \u001b[39m\u001b[32m831\u001b[39m \u001b[38;5;28;01mraise\u001b[39;00m TraitError(e)\n",
      "\u001b[31mTraitError\u001b[39m: The 'button_color' trait of a ButtonStyle instance expected a valid HTML color, not the str ''."
     ]
    },
    {
     "ename": "TraitError",
     "evalue": "The 'button_color' trait of a ButtonStyle instance expected a valid HTML color, not the str ''.",
     "output_type": "error",
     "traceback": [
      "\u001b[31m---------------------------------------------------------------------------\u001b[39m",
      "\u001b[31mTraitError\u001b[39m                                Traceback (most recent call last)",
      "\u001b[36mCell\u001b[39m\u001b[36m \u001b[39m\u001b[32mIn[84]\u001b[39m\u001b[32m, line 356\u001b[39m, in \u001b[36mon_save_clicked\u001b[39m\u001b[34m(b)\u001b[39m\n\u001b[32m    353\u001b[39m thread_dropdown.value = original_designation\n\u001b[32m    355\u001b[39m save_button.style.button_color = \u001b[33m'\u001b[39m\u001b[33mlightgreen\u001b[39m\u001b[33m'\u001b[39m\n\u001b[32m--> \u001b[39m\u001b[32m356\u001b[39m \u001b[43msave_new_button\u001b[49m\u001b[43m.\u001b[49m\u001b[43mstyle\u001b[49m\u001b[43m.\u001b[49m\u001b[43mbutton_color\u001b[49m = \u001b[33m'\u001b[39m\u001b[33m'\u001b[39m\n\u001b[32m    357\u001b[39m delete_button.style.button_color = \u001b[33m'\u001b[39m\u001b[33m'\u001b[39m\n\u001b[32m    358\u001b[39m delete_button.style.button_color = \u001b[33m'\u001b[39m\u001b[33m'\u001b[39m\n",
      "\u001b[36mFile \u001b[39m\u001b[32m~/Nextcloud/WORKSPACE/Fusion360/fusion_360_threadtool_xml_editor/.venv/lib/python3.13/site-packages/traitlets/traitlets.py:716\u001b[39m, in \u001b[36mTraitType.__set__\u001b[39m\u001b[34m(self, obj, value)\u001b[39m\n\u001b[32m    714\u001b[39m \u001b[38;5;28;01mif\u001b[39;00m \u001b[38;5;28mself\u001b[39m.read_only:\n\u001b[32m    715\u001b[39m     \u001b[38;5;28;01mraise\u001b[39;00m TraitError(\u001b[33m'\u001b[39m\u001b[33mThe \u001b[39m\u001b[33m\"\u001b[39m\u001b[38;5;132;01m%s\u001b[39;00m\u001b[33m\"\u001b[39m\u001b[33m trait is read-only.\u001b[39m\u001b[33m'\u001b[39m % \u001b[38;5;28mself\u001b[39m.name)\n\u001b[32m--> \u001b[39m\u001b[32m716\u001b[39m \u001b[38;5;28;43mself\u001b[39;49m\u001b[43m.\u001b[49m\u001b[43mset\u001b[49m\u001b[43m(\u001b[49m\u001b[43mobj\u001b[49m\u001b[43m,\u001b[49m\u001b[43m \u001b[49m\u001b[43mvalue\u001b[49m\u001b[43m)\u001b[49m\n",
      "\u001b[36mFile \u001b[39m\u001b[32m~/Nextcloud/WORKSPACE/Fusion360/fusion_360_threadtool_xml_editor/.venv/lib/python3.13/site-packages/traitlets/traitlets.py:690\u001b[39m, in \u001b[36mTraitType.set\u001b[39m\u001b[34m(self, obj, value)\u001b[39m\n\u001b[32m    689\u001b[39m \u001b[38;5;28;01mdef\u001b[39;00m\u001b[38;5;250m \u001b[39m\u001b[34mset\u001b[39m(\u001b[38;5;28mself\u001b[39m, obj: HasTraits, value: S) -> \u001b[38;5;28;01mNone\u001b[39;00m:\n\u001b[32m--> \u001b[39m\u001b[32m690\u001b[39m     new_value = \u001b[38;5;28;43mself\u001b[39;49m\u001b[43m.\u001b[49m\u001b[43m_validate\u001b[49m\u001b[43m(\u001b[49m\u001b[43mobj\u001b[49m\u001b[43m,\u001b[49m\u001b[43m \u001b[49m\u001b[43mvalue\u001b[49m\u001b[43m)\u001b[49m\n\u001b[32m    691\u001b[39m     \u001b[38;5;28;01massert\u001b[39;00m \u001b[38;5;28mself\u001b[39m.name \u001b[38;5;129;01mis\u001b[39;00m \u001b[38;5;129;01mnot\u001b[39;00m \u001b[38;5;28;01mNone\u001b[39;00m\n\u001b[32m    692\u001b[39m     \u001b[38;5;28;01mtry\u001b[39;00m:\n",
      "\u001b[36mFile \u001b[39m\u001b[32m~/Nextcloud/WORKSPACE/Fusion360/fusion_360_threadtool_xml_editor/.venv/lib/python3.13/site-packages/traitlets/traitlets.py:722\u001b[39m, in \u001b[36mTraitType._validate\u001b[39m\u001b[34m(self, obj, value)\u001b[39m\n\u001b[32m    720\u001b[39m     \u001b[38;5;28;01mreturn\u001b[39;00m value\n\u001b[32m    721\u001b[39m \u001b[38;5;28;01mif\u001b[39;00m \u001b[38;5;28mhasattr\u001b[39m(\u001b[38;5;28mself\u001b[39m, \u001b[33m\"\u001b[39m\u001b[33mvalidate\u001b[39m\u001b[33m\"\u001b[39m):\n\u001b[32m--> \u001b[39m\u001b[32m722\u001b[39m     value = \u001b[38;5;28;43mself\u001b[39;49m\u001b[43m.\u001b[49m\u001b[43mvalidate\u001b[49m\u001b[43m(\u001b[49m\u001b[43mobj\u001b[49m\u001b[43m,\u001b[49m\u001b[43m \u001b[49m\u001b[43mvalue\u001b[49m\u001b[43m)\u001b[49m\n\u001b[32m    723\u001b[39m \u001b[38;5;28;01mif\u001b[39;00m obj._cross_validation_lock \u001b[38;5;129;01mis\u001b[39;00m \u001b[38;5;28;01mFalse\u001b[39;00m:\n\u001b[32m    724\u001b[39m     value = \u001b[38;5;28mself\u001b[39m._cross_validate(obj, value)\n",
      "\u001b[36mFile \u001b[39m\u001b[32m~/Nextcloud/WORKSPACE/Fusion360/fusion_360_threadtool_xml_editor/.venv/lib/python3.13/site-packages/ipywidgets/widgets/trait_types.py:94\u001b[39m, in \u001b[36mColor.validate\u001b[39m\u001b[34m(self, obj, value)\u001b[39m\n\u001b[32m     89\u001b[39m     \u001b[38;5;28;01mif\u001b[39;00m (value.lower() \u001b[38;5;129;01min\u001b[39;00m _color_names \u001b[38;5;129;01mor\u001b[39;00m _color_hex_re.match(value) \u001b[38;5;129;01mor\u001b[39;00m\n\u001b[32m     90\u001b[39m         _color_hexa_re.match(value) \u001b[38;5;129;01mor\u001b[39;00m _color_rgbhsl_re.match(value) \u001b[38;5;129;01mor\u001b[39;00m\n\u001b[32m     91\u001b[39m         _color_var_re.match(value)):\n\u001b[32m     92\u001b[39m         \u001b[38;5;28;01mreturn\u001b[39;00m value\n\u001b[32m---> \u001b[39m\u001b[32m94\u001b[39m \u001b[38;5;28;43mself\u001b[39;49m\u001b[43m.\u001b[49m\u001b[43merror\u001b[49m\u001b[43m(\u001b[49m\u001b[43mobj\u001b[49m\u001b[43m,\u001b[49m\u001b[43m \u001b[49m\u001b[43mvalue\u001b[49m\u001b[43m)\u001b[49m\n",
      "\u001b[36mFile \u001b[39m\u001b[32m~/Nextcloud/WORKSPACE/Fusion360/fusion_360_threadtool_xml_editor/.venv/lib/python3.13/site-packages/traitlets/traitlets.py:831\u001b[39m, in \u001b[36mTraitType.error\u001b[39m\u001b[34m(self, obj, value, error, info)\u001b[39m\n\u001b[32m    825\u001b[39m \u001b[38;5;28;01melse\u001b[39;00m:\n\u001b[32m    826\u001b[39m     e = \u001b[33m\"\u001b[39m\u001b[33mThe \u001b[39m\u001b[33m'\u001b[39m\u001b[38;5;132;01m{}\u001b[39;00m\u001b[33m'\u001b[39m\u001b[33m trait expected \u001b[39m\u001b[38;5;132;01m{}\u001b[39;00m\u001b[33m, not \u001b[39m\u001b[38;5;132;01m{}\u001b[39;00m\u001b[33m.\u001b[39m\u001b[33m\"\u001b[39m.format(\n\u001b[32m    827\u001b[39m         \u001b[38;5;28mself\u001b[39m.name,\n\u001b[32m    828\u001b[39m         info \u001b[38;5;129;01mor\u001b[39;00m \u001b[38;5;28mself\u001b[39m.info(),\n\u001b[32m    829\u001b[39m         describe(\u001b[33m\"\u001b[39m\u001b[33mthe\u001b[39m\u001b[33m\"\u001b[39m, value),\n\u001b[32m    830\u001b[39m     )\n\u001b[32m--> \u001b[39m\u001b[32m831\u001b[39m \u001b[38;5;28;01mraise\u001b[39;00m TraitError(e)\n",
      "\u001b[31mTraitError\u001b[39m: The 'button_color' trait of a ButtonStyle instance expected a valid HTML color, not the str ''."
     ]
    },
    {
     "ename": "TraitError",
     "evalue": "Invalid selection: value not found",
     "output_type": "error",
     "traceback": [
      "\u001b[31m---------------------------------------------------------------------------\u001b[39m",
      "\u001b[31mStopIteration\u001b[39m                             Traceback (most recent call last)",
      "\u001b[36mFile \u001b[39m\u001b[32m~/Nextcloud/WORKSPACE/Fusion360/fusion_360_threadtool_xml_editor/.venv/lib/python3.13/site-packages/ipywidgets/widgets/widget_selection.py:133\u001b[39m, in \u001b[36mfindvalue\u001b[39m\u001b[34m(array, value, compare)\u001b[39m\n\u001b[32m    132\u001b[39m \u001b[38;5;28;01mtry\u001b[39;00m:\n\u001b[32m--> \u001b[39m\u001b[32m133\u001b[39m     \u001b[38;5;28;01mreturn\u001b[39;00m \u001b[38;5;28;43mnext\u001b[39;49m\u001b[43m(\u001b[49m\u001b[43mx\u001b[49m\u001b[43m \u001b[49m\u001b[38;5;28;43;01mfor\u001b[39;49;00m\u001b[43m \u001b[49m\u001b[43mx\u001b[49m\u001b[43m \u001b[49m\u001b[38;5;129;43;01min\u001b[39;49;00m\u001b[43m \u001b[49m\u001b[43marray\u001b[49m\u001b[43m \u001b[49m\u001b[38;5;28;43;01mif\u001b[39;49;00m\u001b[43m \u001b[49m\u001b[43mcompare\u001b[49m\u001b[43m(\u001b[49m\u001b[43mx\u001b[49m\u001b[43m,\u001b[49m\u001b[43m \u001b[49m\u001b[43mvalue\u001b[49m\u001b[43m)\u001b[49m\u001b[43m)\u001b[49m\n\u001b[32m    134\u001b[39m \u001b[38;5;28;01mexcept\u001b[39;00m \u001b[38;5;167;01mStopIteration\u001b[39;00m:\n",
      "\u001b[31mStopIteration\u001b[39m: ",
      "\nDuring handling of the above exception, another exception occurred:\n",
      "\u001b[31mValueError\u001b[39m                                Traceback (most recent call last)",
      "\u001b[36mFile \u001b[39m\u001b[32m~/Nextcloud/WORKSPACE/Fusion360/fusion_360_threadtool_xml_editor/.venv/lib/python3.13/site-packages/ipywidgets/widgets/widget_selection.py:242\u001b[39m, in \u001b[36m_Selection._validate_value\u001b[39m\u001b[34m(self, proposal)\u001b[39m\n\u001b[32m    241\u001b[39m \u001b[38;5;28;01mtry\u001b[39;00m:\n\u001b[32m--> \u001b[39m\u001b[32m242\u001b[39m     \u001b[38;5;28;01mreturn\u001b[39;00m \u001b[43mfindvalue\u001b[49m\u001b[43m(\u001b[49m\u001b[38;5;28;43mself\u001b[39;49m\u001b[43m.\u001b[49m\u001b[43m_options_values\u001b[49m\u001b[43m,\u001b[49m\u001b[43m \u001b[49m\u001b[43mvalue\u001b[49m\u001b[43m,\u001b[49m\u001b[43m \u001b[49m\u001b[38;5;28;43mself\u001b[39;49m\u001b[43m.\u001b[49m\u001b[43mequals\u001b[49m\u001b[43m)\u001b[49m \u001b[38;5;28;01mif\u001b[39;00m value \u001b[38;5;129;01mis\u001b[39;00m \u001b[38;5;129;01mnot\u001b[39;00m \u001b[38;5;28;01mNone\u001b[39;00m \u001b[38;5;28;01melse\u001b[39;00m \u001b[38;5;28;01mNone\u001b[39;00m\n\u001b[32m    243\u001b[39m \u001b[38;5;28;01mexcept\u001b[39;00m \u001b[38;5;167;01mValueError\u001b[39;00m:\n",
      "\u001b[36mFile \u001b[39m\u001b[32m~/Nextcloud/WORKSPACE/Fusion360/fusion_360_threadtool_xml_editor/.venv/lib/python3.13/site-packages/ipywidgets/widgets/widget_selection.py:135\u001b[39m, in \u001b[36mfindvalue\u001b[39m\u001b[34m(array, value, compare)\u001b[39m\n\u001b[32m    134\u001b[39m \u001b[38;5;28;01mexcept\u001b[39;00m \u001b[38;5;167;01mStopIteration\u001b[39;00m:\n\u001b[32m--> \u001b[39m\u001b[32m135\u001b[39m     \u001b[38;5;28;01mraise\u001b[39;00m \u001b[38;5;167;01mValueError\u001b[39;00m(\u001b[33m'\u001b[39m\u001b[38;5;132;01m%r\u001b[39;00m\u001b[33m not in array\u001b[39m\u001b[33m'\u001b[39m%value)\n",
      "\u001b[31mValueError\u001b[39m: 'M56x0.75_neu4' not in array",
      "\nDuring handling of the above exception, another exception occurred:\n",
      "\u001b[31mTraitError\u001b[39m                                Traceback (most recent call last)",
      "\u001b[36mCell\u001b[39m\u001b[36m \u001b[39m\u001b[32mIn[84]\u001b[39m\u001b[32m, line 353\u001b[39m, in \u001b[36mon_save_clicked\u001b[39m\u001b[34m(b)\u001b[39m\n\u001b[32m    346\u001b[39m add_thread_to_xml(xml_path, size.value, current_designation_de, current_designation_en, pitch.value,\n\u001b[32m    347\u001b[39m                   major_dia_ext.value, pitch_dia_ext.value, minor_dia_ext.value,\n\u001b[32m    348\u001b[39m                   major_dia_int.value, pitch_dia_int.value, minor_dia_int.value,\n\u001b[32m    349\u001b[39m                   major_dia_4g6g.value, pitch_dia_4g6g.value, minor_dia_4g6g.value,\n\u001b[32m    350\u001b[39m                   tap_drill.value, old_designation=original_designation)\n\u001b[32m    352\u001b[39m load_dropdown_options()\n\u001b[32m--> \u001b[39m\u001b[32m353\u001b[39m \u001b[43mthread_dropdown\u001b[49m\u001b[43m.\u001b[49m\u001b[43mvalue\u001b[49m = original_designation\n\u001b[32m    355\u001b[39m save_button.style.button_color = \u001b[33m'\u001b[39m\u001b[33mlightgreen\u001b[39m\u001b[33m'\u001b[39m\n\u001b[32m    356\u001b[39m save_new_button.style.button_color = \u001b[33m'\u001b[39m\u001b[33m'\u001b[39m\n",
      "\u001b[36mFile \u001b[39m\u001b[32m~/Nextcloud/WORKSPACE/Fusion360/fusion_360_threadtool_xml_editor/.venv/lib/python3.13/site-packages/traitlets/traitlets.py:716\u001b[39m, in \u001b[36mTraitType.__set__\u001b[39m\u001b[34m(self, obj, value)\u001b[39m\n\u001b[32m    714\u001b[39m \u001b[38;5;28;01mif\u001b[39;00m \u001b[38;5;28mself\u001b[39m.read_only:\n\u001b[32m    715\u001b[39m     \u001b[38;5;28;01mraise\u001b[39;00m TraitError(\u001b[33m'\u001b[39m\u001b[33mThe \u001b[39m\u001b[33m\"\u001b[39m\u001b[38;5;132;01m%s\u001b[39;00m\u001b[33m\"\u001b[39m\u001b[33m trait is read-only.\u001b[39m\u001b[33m'\u001b[39m % \u001b[38;5;28mself\u001b[39m.name)\n\u001b[32m--> \u001b[39m\u001b[32m716\u001b[39m \u001b[38;5;28;43mself\u001b[39;49m\u001b[43m.\u001b[49m\u001b[43mset\u001b[49m\u001b[43m(\u001b[49m\u001b[43mobj\u001b[49m\u001b[43m,\u001b[49m\u001b[43m \u001b[49m\u001b[43mvalue\u001b[49m\u001b[43m)\u001b[49m\n",
      "\u001b[36mFile \u001b[39m\u001b[32m~/Nextcloud/WORKSPACE/Fusion360/fusion_360_threadtool_xml_editor/.venv/lib/python3.13/site-packages/traitlets/traitlets.py:690\u001b[39m, in \u001b[36mTraitType.set\u001b[39m\u001b[34m(self, obj, value)\u001b[39m\n\u001b[32m    689\u001b[39m \u001b[38;5;28;01mdef\u001b[39;00m\u001b[38;5;250m \u001b[39m\u001b[34mset\u001b[39m(\u001b[38;5;28mself\u001b[39m, obj: HasTraits, value: S) -> \u001b[38;5;28;01mNone\u001b[39;00m:\n\u001b[32m--> \u001b[39m\u001b[32m690\u001b[39m     new_value = \u001b[38;5;28;43mself\u001b[39;49m\u001b[43m.\u001b[49m\u001b[43m_validate\u001b[49m\u001b[43m(\u001b[49m\u001b[43mobj\u001b[49m\u001b[43m,\u001b[49m\u001b[43m \u001b[49m\u001b[43mvalue\u001b[49m\u001b[43m)\u001b[49m\n\u001b[32m    691\u001b[39m     \u001b[38;5;28;01massert\u001b[39;00m \u001b[38;5;28mself\u001b[39m.name \u001b[38;5;129;01mis\u001b[39;00m \u001b[38;5;129;01mnot\u001b[39;00m \u001b[38;5;28;01mNone\u001b[39;00m\n\u001b[32m    692\u001b[39m     \u001b[38;5;28;01mtry\u001b[39;00m:\n",
      "\u001b[36mFile \u001b[39m\u001b[32m~/Nextcloud/WORKSPACE/Fusion360/fusion_360_threadtool_xml_editor/.venv/lib/python3.13/site-packages/traitlets/traitlets.py:724\u001b[39m, in \u001b[36mTraitType._validate\u001b[39m\u001b[34m(self, obj, value)\u001b[39m\n\u001b[32m    722\u001b[39m     value = \u001b[38;5;28mself\u001b[39m.validate(obj, value)\n\u001b[32m    723\u001b[39m \u001b[38;5;28;01mif\u001b[39;00m obj._cross_validation_lock \u001b[38;5;129;01mis\u001b[39;00m \u001b[38;5;28;01mFalse\u001b[39;00m:\n\u001b[32m--> \u001b[39m\u001b[32m724\u001b[39m     value = \u001b[38;5;28;43mself\u001b[39;49m\u001b[43m.\u001b[49m\u001b[43m_cross_validate\u001b[49m\u001b[43m(\u001b[49m\u001b[43mobj\u001b[49m\u001b[43m,\u001b[49m\u001b[43m \u001b[49m\u001b[43mvalue\u001b[49m\u001b[43m)\u001b[49m\n\u001b[32m    725\u001b[39m \u001b[38;5;28;01mreturn\u001b[39;00m t.cast(G, value)\n",
      "\u001b[36mFile \u001b[39m\u001b[32m~/Nextcloud/WORKSPACE/Fusion360/fusion_360_threadtool_xml_editor/.venv/lib/python3.13/site-packages/traitlets/traitlets.py:730\u001b[39m, in \u001b[36mTraitType._cross_validate\u001b[39m\u001b[34m(self, obj, value)\u001b[39m\n\u001b[32m    728\u001b[39m \u001b[38;5;28;01mif\u001b[39;00m \u001b[38;5;28mself\u001b[39m.name \u001b[38;5;129;01min\u001b[39;00m obj._trait_validators:\n\u001b[32m    729\u001b[39m     proposal = Bunch({\u001b[33m\"\u001b[39m\u001b[33mtrait\u001b[39m\u001b[33m\"\u001b[39m: \u001b[38;5;28mself\u001b[39m, \u001b[33m\"\u001b[39m\u001b[33mvalue\u001b[39m\u001b[33m\"\u001b[39m: value, \u001b[33m\"\u001b[39m\u001b[33mowner\u001b[39m\u001b[33m\"\u001b[39m: obj})\n\u001b[32m--> \u001b[39m\u001b[32m730\u001b[39m     value = \u001b[43mobj\u001b[49m\u001b[43m.\u001b[49m\u001b[43m_trait_validators\u001b[49m\u001b[43m[\u001b[49m\u001b[38;5;28;43mself\u001b[39;49m\u001b[43m.\u001b[49m\u001b[43mname\u001b[49m\u001b[43m]\u001b[49m\u001b[43m(\u001b[49m\u001b[43mobj\u001b[49m\u001b[43m,\u001b[49m\u001b[43m \u001b[49m\u001b[43mproposal\u001b[49m\u001b[43m)\u001b[49m\n\u001b[32m    731\u001b[39m \u001b[38;5;28;01melif\u001b[39;00m \u001b[38;5;28mhasattr\u001b[39m(obj, \u001b[33m\"\u001b[39m\u001b[33m_\u001b[39m\u001b[38;5;132;01m%s\u001b[39;00m\u001b[33m_validate\u001b[39m\u001b[33m\"\u001b[39m % \u001b[38;5;28mself\u001b[39m.name):\n\u001b[32m    732\u001b[39m     meth_name = \u001b[33m\"\u001b[39m\u001b[33m_\u001b[39m\u001b[38;5;132;01m%s\u001b[39;00m\u001b[33m_validate\u001b[39m\u001b[33m\"\u001b[39m % \u001b[38;5;28mself\u001b[39m.name\n",
      "\u001b[36mFile \u001b[39m\u001b[32m~/Nextcloud/WORKSPACE/Fusion360/fusion_360_threadtool_xml_editor/.venv/lib/python3.13/site-packages/traitlets/traitlets.py:1241\u001b[39m, in \u001b[36mEventHandler.__call__\u001b[39m\u001b[34m(self, *args, **kwargs)\u001b[39m\n\u001b[32m   1239\u001b[39m \u001b[38;5;250m\u001b[39m\u001b[33;03m\"\"\"Pass `*args` and `**kwargs` to the handler's function if it exists.\"\"\"\u001b[39;00m\n\u001b[32m   1240\u001b[39m \u001b[38;5;28;01mif\u001b[39;00m \u001b[38;5;28mhasattr\u001b[39m(\u001b[38;5;28mself\u001b[39m, \u001b[33m\"\u001b[39m\u001b[33mfunc\u001b[39m\u001b[33m\"\u001b[39m):\n\u001b[32m-> \u001b[39m\u001b[32m1241\u001b[39m     \u001b[38;5;28;01mreturn\u001b[39;00m \u001b[38;5;28;43mself\u001b[39;49m\u001b[43m.\u001b[49m\u001b[43mfunc\u001b[49m\u001b[43m(\u001b[49m\u001b[43m*\u001b[49m\u001b[43margs\u001b[49m\u001b[43m,\u001b[49m\u001b[43m \u001b[49m\u001b[43m*\u001b[49m\u001b[43m*\u001b[49m\u001b[43mkwargs\u001b[49m\u001b[43m)\u001b[49m\n\u001b[32m   1242\u001b[39m \u001b[38;5;28;01melse\u001b[39;00m:\n\u001b[32m   1243\u001b[39m     \u001b[38;5;28;01mreturn\u001b[39;00m \u001b[38;5;28mself\u001b[39m._init_call(*args, **kwargs)\n",
      "\u001b[36mFile \u001b[39m\u001b[32m~/Nextcloud/WORKSPACE/Fusion360/fusion_360_threadtool_xml_editor/.venv/lib/python3.13/site-packages/ipywidgets/widgets/widget_selection.py:244\u001b[39m, in \u001b[36m_Selection._validate_value\u001b[39m\u001b[34m(self, proposal)\u001b[39m\n\u001b[32m    242\u001b[39m     \u001b[38;5;28;01mreturn\u001b[39;00m findvalue(\u001b[38;5;28mself\u001b[39m._options_values, value, \u001b[38;5;28mself\u001b[39m.equals) \u001b[38;5;28;01mif\u001b[39;00m value \u001b[38;5;129;01mis\u001b[39;00m \u001b[38;5;129;01mnot\u001b[39;00m \u001b[38;5;28;01mNone\u001b[39;00m \u001b[38;5;28;01melse\u001b[39;00m \u001b[38;5;28;01mNone\u001b[39;00m\n\u001b[32m    243\u001b[39m \u001b[38;5;28;01mexcept\u001b[39;00m \u001b[38;5;167;01mValueError\u001b[39;00m:\n\u001b[32m--> \u001b[39m\u001b[32m244\u001b[39m     \u001b[38;5;28;01mraise\u001b[39;00m TraitError(\u001b[33m'\u001b[39m\u001b[33mInvalid selection: value not found\u001b[39m\u001b[33m'\u001b[39m)\n",
      "\u001b[31mTraitError\u001b[39m: Invalid selection: value not found"
     ]
    },
    {
     "ename": "NameError",
     "evalue": "name 'update_status_label' is not defined",
     "output_type": "error",
     "traceback": [
      "\u001b[31m---------------------------------------------------------------------------\u001b[39m",
      "\u001b[31mNameError\u001b[39m                                 Traceback (most recent call last)",
      "\u001b[36mCell\u001b[39m\u001b[36m \u001b[39m\u001b[32mIn[84]\u001b[39m\u001b[32m, line 433\u001b[39m, in \u001b[36mon_import_clicked\u001b[39m\u001b[34m(b)\u001b[39m\n\u001b[32m    431\u001b[39m clean_invalid_threads(xml_path)\n\u001b[32m    432\u001b[39m last_import_time[\u001b[32m0\u001b[39m] = datetime.datetime.now()\n\u001b[32m--> \u001b[39m\u001b[32m433\u001b[39m \u001b[43mupdate_status_label\u001b[49m()\n\u001b[32m    434\u001b[39m status_label.value = \u001b[33mf\u001b[39m\u001b[33m\"\u001b[39m\u001b[33m✅ Import in Fusion abgeschlossen am \u001b[39m\u001b[38;5;132;01m{\u001b[39;00mlast_import_time[\u001b[32m0\u001b[39m].strftime(\u001b[33m'\u001b[39m\u001b[38;5;132;01m%d\u001b[39;00m\u001b[33m.\u001b[39m\u001b[33m%\u001b[39m\u001b[33mm.\u001b[39m\u001b[33m%\u001b[39m\u001b[33mY \u001b[39m\u001b[33m%\u001b[39m\u001b[33mH:\u001b[39m\u001b[33m%\u001b[39m\u001b[33mM:\u001b[39m\u001b[33m%\u001b[39m\u001b[33mS\u001b[39m\u001b[33m'\u001b[39m)\u001b[38;5;132;01m}\u001b[39;00m\u001b[33m\"\u001b[39m\n\u001b[32m    435\u001b[39m save_button.style.button_color = \u001b[33m'\u001b[39m\u001b[33mlightgreen\u001b[39m\u001b[33m'\u001b[39m\n",
      "\u001b[31mNameError\u001b[39m: name 'update_status_label' is not defined"
     ]
    },
    {
     "ename": "TraitError",
     "evalue": "Invalid selection: value not found",
     "output_type": "error",
     "traceback": [
      "\u001b[31m---------------------------------------------------------------------------\u001b[39m",
      "\u001b[31mStopIteration\u001b[39m                             Traceback (most recent call last)",
      "\u001b[36mFile \u001b[39m\u001b[32m~/Nextcloud/WORKSPACE/Fusion360/fusion_360_threadtool_xml_editor/.venv/lib/python3.13/site-packages/ipywidgets/widgets/widget_selection.py:133\u001b[39m, in \u001b[36mfindvalue\u001b[39m\u001b[34m(array, value, compare)\u001b[39m\n\u001b[32m    132\u001b[39m \u001b[38;5;28;01mtry\u001b[39;00m:\n\u001b[32m--> \u001b[39m\u001b[32m133\u001b[39m     \u001b[38;5;28;01mreturn\u001b[39;00m \u001b[38;5;28;43mnext\u001b[39;49m\u001b[43m(\u001b[49m\u001b[43mx\u001b[49m\u001b[43m \u001b[49m\u001b[38;5;28;43;01mfor\u001b[39;49;00m\u001b[43m \u001b[49m\u001b[43mx\u001b[49m\u001b[43m \u001b[49m\u001b[38;5;129;43;01min\u001b[39;49;00m\u001b[43m \u001b[49m\u001b[43marray\u001b[49m\u001b[43m \u001b[49m\u001b[38;5;28;43;01mif\u001b[39;49;00m\u001b[43m \u001b[49m\u001b[43mcompare\u001b[49m\u001b[43m(\u001b[49m\u001b[43mx\u001b[49m\u001b[43m,\u001b[49m\u001b[43m \u001b[49m\u001b[43mvalue\u001b[49m\u001b[43m)\u001b[49m\u001b[43m)\u001b[49m\n\u001b[32m    134\u001b[39m \u001b[38;5;28;01mexcept\u001b[39;00m \u001b[38;5;167;01mStopIteration\u001b[39;00m:\n",
      "\u001b[31mStopIteration\u001b[39m: ",
      "\nDuring handling of the above exception, another exception occurred:\n",
      "\u001b[31mValueError\u001b[39m                                Traceback (most recent call last)",
      "\u001b[36mFile \u001b[39m\u001b[32m~/Nextcloud/WORKSPACE/Fusion360/fusion_360_threadtool_xml_editor/.venv/lib/python3.13/site-packages/ipywidgets/widgets/widget_selection.py:242\u001b[39m, in \u001b[36m_Selection._validate_value\u001b[39m\u001b[34m(self, proposal)\u001b[39m\n\u001b[32m    241\u001b[39m \u001b[38;5;28;01mtry\u001b[39;00m:\n\u001b[32m--> \u001b[39m\u001b[32m242\u001b[39m     \u001b[38;5;28;01mreturn\u001b[39;00m \u001b[43mfindvalue\u001b[49m\u001b[43m(\u001b[49m\u001b[38;5;28;43mself\u001b[39;49m\u001b[43m.\u001b[49m\u001b[43m_options_values\u001b[49m\u001b[43m,\u001b[49m\u001b[43m \u001b[49m\u001b[43mvalue\u001b[49m\u001b[43m,\u001b[49m\u001b[43m \u001b[49m\u001b[38;5;28;43mself\u001b[39;49m\u001b[43m.\u001b[49m\u001b[43mequals\u001b[49m\u001b[43m)\u001b[49m \u001b[38;5;28;01mif\u001b[39;00m value \u001b[38;5;129;01mis\u001b[39;00m \u001b[38;5;129;01mnot\u001b[39;00m \u001b[38;5;28;01mNone\u001b[39;00m \u001b[38;5;28;01melse\u001b[39;00m \u001b[38;5;28;01mNone\u001b[39;00m\n\u001b[32m    243\u001b[39m \u001b[38;5;28;01mexcept\u001b[39;00m \u001b[38;5;167;01mValueError\u001b[39;00m:\n",
      "\u001b[36mFile \u001b[39m\u001b[32m~/Nextcloud/WORKSPACE/Fusion360/fusion_360_threadtool_xml_editor/.venv/lib/python3.13/site-packages/ipywidgets/widgets/widget_selection.py:135\u001b[39m, in \u001b[36mfindvalue\u001b[39m\u001b[34m(array, value, compare)\u001b[39m\n\u001b[32m    134\u001b[39m \u001b[38;5;28;01mexcept\u001b[39;00m \u001b[38;5;167;01mStopIteration\u001b[39;00m:\n\u001b[32m--> \u001b[39m\u001b[32m135\u001b[39m     \u001b[38;5;28;01mraise\u001b[39;00m \u001b[38;5;167;01mValueError\u001b[39;00m(\u001b[33m'\u001b[39m\u001b[38;5;132;01m%r\u001b[39;00m\u001b[33m not in array\u001b[39m\u001b[33m'\u001b[39m%value)\n",
      "\u001b[31mValueError\u001b[39m: 'M56x0.75_neu' not in array",
      "\nDuring handling of the above exception, another exception occurred:\n",
      "\u001b[31mTraitError\u001b[39m                                Traceback (most recent call last)",
      "\u001b[36mCell\u001b[39m\u001b[36m \u001b[39m\u001b[32mIn[84]\u001b[39m\u001b[32m, line 353\u001b[39m, in \u001b[36mon_save_clicked\u001b[39m\u001b[34m(b)\u001b[39m\n\u001b[32m    346\u001b[39m add_thread_to_xml(xml_path, size.value, current_designation_de, current_designation_en, pitch.value,\n\u001b[32m    347\u001b[39m                   major_dia_ext.value, pitch_dia_ext.value, minor_dia_ext.value,\n\u001b[32m    348\u001b[39m                   major_dia_int.value, pitch_dia_int.value, minor_dia_int.value,\n\u001b[32m    349\u001b[39m                   major_dia_4g6g.value, pitch_dia_4g6g.value, minor_dia_4g6g.value,\n\u001b[32m    350\u001b[39m                   tap_drill.value, old_designation=original_designation)\n\u001b[32m    352\u001b[39m load_dropdown_options()\n\u001b[32m--> \u001b[39m\u001b[32m353\u001b[39m \u001b[43mthread_dropdown\u001b[49m\u001b[43m.\u001b[49m\u001b[43mvalue\u001b[49m = original_designation\n\u001b[32m    355\u001b[39m save_button.style.button_color = \u001b[33m'\u001b[39m\u001b[33mlightgreen\u001b[39m\u001b[33m'\u001b[39m\n\u001b[32m    356\u001b[39m save_new_button.style.button_color = \u001b[33m'\u001b[39m\u001b[33m'\u001b[39m\n",
      "\u001b[36mFile \u001b[39m\u001b[32m~/Nextcloud/WORKSPACE/Fusion360/fusion_360_threadtool_xml_editor/.venv/lib/python3.13/site-packages/traitlets/traitlets.py:716\u001b[39m, in \u001b[36mTraitType.__set__\u001b[39m\u001b[34m(self, obj, value)\u001b[39m\n\u001b[32m    714\u001b[39m \u001b[38;5;28;01mif\u001b[39;00m \u001b[38;5;28mself\u001b[39m.read_only:\n\u001b[32m    715\u001b[39m     \u001b[38;5;28;01mraise\u001b[39;00m TraitError(\u001b[33m'\u001b[39m\u001b[33mThe \u001b[39m\u001b[33m\"\u001b[39m\u001b[38;5;132;01m%s\u001b[39;00m\u001b[33m\"\u001b[39m\u001b[33m trait is read-only.\u001b[39m\u001b[33m'\u001b[39m % \u001b[38;5;28mself\u001b[39m.name)\n\u001b[32m--> \u001b[39m\u001b[32m716\u001b[39m \u001b[38;5;28;43mself\u001b[39;49m\u001b[43m.\u001b[49m\u001b[43mset\u001b[49m\u001b[43m(\u001b[49m\u001b[43mobj\u001b[49m\u001b[43m,\u001b[49m\u001b[43m \u001b[49m\u001b[43mvalue\u001b[49m\u001b[43m)\u001b[49m\n",
      "\u001b[36mFile \u001b[39m\u001b[32m~/Nextcloud/WORKSPACE/Fusion360/fusion_360_threadtool_xml_editor/.venv/lib/python3.13/site-packages/traitlets/traitlets.py:690\u001b[39m, in \u001b[36mTraitType.set\u001b[39m\u001b[34m(self, obj, value)\u001b[39m\n\u001b[32m    689\u001b[39m \u001b[38;5;28;01mdef\u001b[39;00m\u001b[38;5;250m \u001b[39m\u001b[34mset\u001b[39m(\u001b[38;5;28mself\u001b[39m, obj: HasTraits, value: S) -> \u001b[38;5;28;01mNone\u001b[39;00m:\n\u001b[32m--> \u001b[39m\u001b[32m690\u001b[39m     new_value = \u001b[38;5;28;43mself\u001b[39;49m\u001b[43m.\u001b[49m\u001b[43m_validate\u001b[49m\u001b[43m(\u001b[49m\u001b[43mobj\u001b[49m\u001b[43m,\u001b[49m\u001b[43m \u001b[49m\u001b[43mvalue\u001b[49m\u001b[43m)\u001b[49m\n\u001b[32m    691\u001b[39m     \u001b[38;5;28;01massert\u001b[39;00m \u001b[38;5;28mself\u001b[39m.name \u001b[38;5;129;01mis\u001b[39;00m \u001b[38;5;129;01mnot\u001b[39;00m \u001b[38;5;28;01mNone\u001b[39;00m\n\u001b[32m    692\u001b[39m     \u001b[38;5;28;01mtry\u001b[39;00m:\n",
      "\u001b[36mFile \u001b[39m\u001b[32m~/Nextcloud/WORKSPACE/Fusion360/fusion_360_threadtool_xml_editor/.venv/lib/python3.13/site-packages/traitlets/traitlets.py:724\u001b[39m, in \u001b[36mTraitType._validate\u001b[39m\u001b[34m(self, obj, value)\u001b[39m\n\u001b[32m    722\u001b[39m     value = \u001b[38;5;28mself\u001b[39m.validate(obj, value)\n\u001b[32m    723\u001b[39m \u001b[38;5;28;01mif\u001b[39;00m obj._cross_validation_lock \u001b[38;5;129;01mis\u001b[39;00m \u001b[38;5;28;01mFalse\u001b[39;00m:\n\u001b[32m--> \u001b[39m\u001b[32m724\u001b[39m     value = \u001b[38;5;28;43mself\u001b[39;49m\u001b[43m.\u001b[49m\u001b[43m_cross_validate\u001b[49m\u001b[43m(\u001b[49m\u001b[43mobj\u001b[49m\u001b[43m,\u001b[49m\u001b[43m \u001b[49m\u001b[43mvalue\u001b[49m\u001b[43m)\u001b[49m\n\u001b[32m    725\u001b[39m \u001b[38;5;28;01mreturn\u001b[39;00m t.cast(G, value)\n",
      "\u001b[36mFile \u001b[39m\u001b[32m~/Nextcloud/WORKSPACE/Fusion360/fusion_360_threadtool_xml_editor/.venv/lib/python3.13/site-packages/traitlets/traitlets.py:730\u001b[39m, in \u001b[36mTraitType._cross_validate\u001b[39m\u001b[34m(self, obj, value)\u001b[39m\n\u001b[32m    728\u001b[39m \u001b[38;5;28;01mif\u001b[39;00m \u001b[38;5;28mself\u001b[39m.name \u001b[38;5;129;01min\u001b[39;00m obj._trait_validators:\n\u001b[32m    729\u001b[39m     proposal = Bunch({\u001b[33m\"\u001b[39m\u001b[33mtrait\u001b[39m\u001b[33m\"\u001b[39m: \u001b[38;5;28mself\u001b[39m, \u001b[33m\"\u001b[39m\u001b[33mvalue\u001b[39m\u001b[33m\"\u001b[39m: value, \u001b[33m\"\u001b[39m\u001b[33mowner\u001b[39m\u001b[33m\"\u001b[39m: obj})\n\u001b[32m--> \u001b[39m\u001b[32m730\u001b[39m     value = \u001b[43mobj\u001b[49m\u001b[43m.\u001b[49m\u001b[43m_trait_validators\u001b[49m\u001b[43m[\u001b[49m\u001b[38;5;28;43mself\u001b[39;49m\u001b[43m.\u001b[49m\u001b[43mname\u001b[49m\u001b[43m]\u001b[49m\u001b[43m(\u001b[49m\u001b[43mobj\u001b[49m\u001b[43m,\u001b[49m\u001b[43m \u001b[49m\u001b[43mproposal\u001b[49m\u001b[43m)\u001b[49m\n\u001b[32m    731\u001b[39m \u001b[38;5;28;01melif\u001b[39;00m \u001b[38;5;28mhasattr\u001b[39m(obj, \u001b[33m\"\u001b[39m\u001b[33m_\u001b[39m\u001b[38;5;132;01m%s\u001b[39;00m\u001b[33m_validate\u001b[39m\u001b[33m\"\u001b[39m % \u001b[38;5;28mself\u001b[39m.name):\n\u001b[32m    732\u001b[39m     meth_name = \u001b[33m\"\u001b[39m\u001b[33m_\u001b[39m\u001b[38;5;132;01m%s\u001b[39;00m\u001b[33m_validate\u001b[39m\u001b[33m\"\u001b[39m % \u001b[38;5;28mself\u001b[39m.name\n",
      "\u001b[36mFile \u001b[39m\u001b[32m~/Nextcloud/WORKSPACE/Fusion360/fusion_360_threadtool_xml_editor/.venv/lib/python3.13/site-packages/traitlets/traitlets.py:1241\u001b[39m, in \u001b[36mEventHandler.__call__\u001b[39m\u001b[34m(self, *args, **kwargs)\u001b[39m\n\u001b[32m   1239\u001b[39m \u001b[38;5;250m\u001b[39m\u001b[33;03m\"\"\"Pass `*args` and `**kwargs` to the handler's function if it exists.\"\"\"\u001b[39;00m\n\u001b[32m   1240\u001b[39m \u001b[38;5;28;01mif\u001b[39;00m \u001b[38;5;28mhasattr\u001b[39m(\u001b[38;5;28mself\u001b[39m, \u001b[33m\"\u001b[39m\u001b[33mfunc\u001b[39m\u001b[33m\"\u001b[39m):\n\u001b[32m-> \u001b[39m\u001b[32m1241\u001b[39m     \u001b[38;5;28;01mreturn\u001b[39;00m \u001b[38;5;28;43mself\u001b[39;49m\u001b[43m.\u001b[49m\u001b[43mfunc\u001b[49m\u001b[43m(\u001b[49m\u001b[43m*\u001b[49m\u001b[43margs\u001b[49m\u001b[43m,\u001b[49m\u001b[43m \u001b[49m\u001b[43m*\u001b[49m\u001b[43m*\u001b[49m\u001b[43mkwargs\u001b[49m\u001b[43m)\u001b[49m\n\u001b[32m   1242\u001b[39m \u001b[38;5;28;01melse\u001b[39;00m:\n\u001b[32m   1243\u001b[39m     \u001b[38;5;28;01mreturn\u001b[39;00m \u001b[38;5;28mself\u001b[39m._init_call(*args, **kwargs)\n",
      "\u001b[36mFile \u001b[39m\u001b[32m~/Nextcloud/WORKSPACE/Fusion360/fusion_360_threadtool_xml_editor/.venv/lib/python3.13/site-packages/ipywidgets/widgets/widget_selection.py:244\u001b[39m, in \u001b[36m_Selection._validate_value\u001b[39m\u001b[34m(self, proposal)\u001b[39m\n\u001b[32m    242\u001b[39m     \u001b[38;5;28;01mreturn\u001b[39;00m findvalue(\u001b[38;5;28mself\u001b[39m._options_values, value, \u001b[38;5;28mself\u001b[39m.equals) \u001b[38;5;28;01mif\u001b[39;00m value \u001b[38;5;129;01mis\u001b[39;00m \u001b[38;5;129;01mnot\u001b[39;00m \u001b[38;5;28;01mNone\u001b[39;00m \u001b[38;5;28;01melse\u001b[39;00m \u001b[38;5;28;01mNone\u001b[39;00m\n\u001b[32m    243\u001b[39m \u001b[38;5;28;01mexcept\u001b[39;00m \u001b[38;5;167;01mValueError\u001b[39;00m:\n\u001b[32m--> \u001b[39m\u001b[32m244\u001b[39m     \u001b[38;5;28;01mraise\u001b[39;00m TraitError(\u001b[33m'\u001b[39m\u001b[33mInvalid selection: value not found\u001b[39m\u001b[33m'\u001b[39m)\n",
      "\u001b[31mTraitError\u001b[39m: Invalid selection: value not found"
     ]
    },
    {
     "ename": "NameError",
     "evalue": "name 'update_status_label' is not defined",
     "output_type": "error",
     "traceback": [
      "\u001b[31m---------------------------------------------------------------------------\u001b[39m",
      "\u001b[31mNameError\u001b[39m                                 Traceback (most recent call last)",
      "\u001b[36mCell\u001b[39m\u001b[36m \u001b[39m\u001b[32mIn[84]\u001b[39m\u001b[32m, line 433\u001b[39m, in \u001b[36mon_import_clicked\u001b[39m\u001b[34m(b)\u001b[39m\n\u001b[32m    431\u001b[39m clean_invalid_threads(xml_path)\n\u001b[32m    432\u001b[39m last_import_time[\u001b[32m0\u001b[39m] = datetime.datetime.now()\n\u001b[32m--> \u001b[39m\u001b[32m433\u001b[39m \u001b[43mupdate_status_label\u001b[49m()\n\u001b[32m    434\u001b[39m status_label.value = \u001b[33mf\u001b[39m\u001b[33m\"\u001b[39m\u001b[33m✅ Import in Fusion abgeschlossen am \u001b[39m\u001b[38;5;132;01m{\u001b[39;00mlast_import_time[\u001b[32m0\u001b[39m].strftime(\u001b[33m'\u001b[39m\u001b[38;5;132;01m%d\u001b[39;00m\u001b[33m.\u001b[39m\u001b[33m%\u001b[39m\u001b[33mm.\u001b[39m\u001b[33m%\u001b[39m\u001b[33mY \u001b[39m\u001b[33m%\u001b[39m\u001b[33mH:\u001b[39m\u001b[33m%\u001b[39m\u001b[33mM:\u001b[39m\u001b[33m%\u001b[39m\u001b[33mS\u001b[39m\u001b[33m'\u001b[39m)\u001b[38;5;132;01m}\u001b[39;00m\u001b[33m\"\u001b[39m\n\u001b[32m    435\u001b[39m save_button.style.button_color = \u001b[33m'\u001b[39m\u001b[33mlightgreen\u001b[39m\u001b[33m'\u001b[39m\n",
      "\u001b[31mNameError\u001b[39m: name 'update_status_label' is not defined"
     ]
    },
    {
     "ename": "NameError",
     "evalue": "name 'update_status_label' is not defined",
     "output_type": "error",
     "traceback": [
      "\u001b[31m---------------------------------------------------------------------------\u001b[39m",
      "\u001b[31mNameError\u001b[39m                                 Traceback (most recent call last)",
      "\u001b[36mCell\u001b[39m\u001b[36m \u001b[39m\u001b[32mIn[84]\u001b[39m\u001b[32m, line 433\u001b[39m, in \u001b[36mon_import_clicked\u001b[39m\u001b[34m(b)\u001b[39m\n\u001b[32m    431\u001b[39m clean_invalid_threads(xml_path)\n\u001b[32m    432\u001b[39m last_import_time[\u001b[32m0\u001b[39m] = datetime.datetime.now()\n\u001b[32m--> \u001b[39m\u001b[32m433\u001b[39m \u001b[43mupdate_status_label\u001b[49m()\n\u001b[32m    434\u001b[39m status_label.value = \u001b[33mf\u001b[39m\u001b[33m\"\u001b[39m\u001b[33m✅ Import in Fusion abgeschlossen am \u001b[39m\u001b[38;5;132;01m{\u001b[39;00mlast_import_time[\u001b[32m0\u001b[39m].strftime(\u001b[33m'\u001b[39m\u001b[38;5;132;01m%d\u001b[39;00m\u001b[33m.\u001b[39m\u001b[33m%\u001b[39m\u001b[33mm.\u001b[39m\u001b[33m%\u001b[39m\u001b[33mY \u001b[39m\u001b[33m%\u001b[39m\u001b[33mH:\u001b[39m\u001b[33m%\u001b[39m\u001b[33mM:\u001b[39m\u001b[33m%\u001b[39m\u001b[33mS\u001b[39m\u001b[33m'\u001b[39m)\u001b[38;5;132;01m}\u001b[39;00m\u001b[33m\"\u001b[39m\n\u001b[32m    435\u001b[39m save_button.style.button_color = \u001b[33m'\u001b[39m\u001b[33mlightgreen\u001b[39m\u001b[33m'\u001b[39m\n",
      "\u001b[31mNameError\u001b[39m: name 'update_status_label' is not defined"
     ]
    },
    {
     "ename": "NameError",
     "evalue": "name 'update_status_label' is not defined",
     "output_type": "error",
     "traceback": [
      "\u001b[31m---------------------------------------------------------------------------\u001b[39m",
      "\u001b[31mNameError\u001b[39m                                 Traceback (most recent call last)",
      "\u001b[36mCell\u001b[39m\u001b[36m \u001b[39m\u001b[32mIn[84]\u001b[39m\u001b[32m, line 433\u001b[39m, in \u001b[36mon_import_clicked\u001b[39m\u001b[34m(b)\u001b[39m\n\u001b[32m    431\u001b[39m clean_invalid_threads(xml_path)\n\u001b[32m    432\u001b[39m last_import_time[\u001b[32m0\u001b[39m] = datetime.datetime.now()\n\u001b[32m--> \u001b[39m\u001b[32m433\u001b[39m \u001b[43mupdate_status_label\u001b[49m()\n\u001b[32m    434\u001b[39m status_label.value = \u001b[33mf\u001b[39m\u001b[33m\"\u001b[39m\u001b[33m✅ Import in Fusion abgeschlossen am \u001b[39m\u001b[38;5;132;01m{\u001b[39;00mlast_import_time[\u001b[32m0\u001b[39m].strftime(\u001b[33m'\u001b[39m\u001b[38;5;132;01m%d\u001b[39;00m\u001b[33m.\u001b[39m\u001b[33m%\u001b[39m\u001b[33mm.\u001b[39m\u001b[33m%\u001b[39m\u001b[33mY \u001b[39m\u001b[33m%\u001b[39m\u001b[33mH:\u001b[39m\u001b[33m%\u001b[39m\u001b[33mM:\u001b[39m\u001b[33m%\u001b[39m\u001b[33mS\u001b[39m\u001b[33m'\u001b[39m)\u001b[38;5;132;01m}\u001b[39;00m\u001b[33m\"\u001b[39m\n\u001b[32m    435\u001b[39m save_button.style.button_color = \u001b[33m'\u001b[39m\u001b[33mlightgreen\u001b[39m\u001b[33m'\u001b[39m\n",
      "\u001b[31mNameError\u001b[39m: name 'update_status_label' is not defined"
     ]
    },
    {
     "ename": "NameError",
     "evalue": "name 'update_status_label' is not defined",
     "output_type": "error",
     "traceback": [
      "\u001b[31m---------------------------------------------------------------------------\u001b[39m",
      "\u001b[31mNameError\u001b[39m                                 Traceback (most recent call last)",
      "\u001b[36mCell\u001b[39m\u001b[36m \u001b[39m\u001b[32mIn[84]\u001b[39m\u001b[32m, line 433\u001b[39m, in \u001b[36mon_import_clicked\u001b[39m\u001b[34m(b)\u001b[39m\n\u001b[32m    431\u001b[39m clean_invalid_threads(xml_path)\n\u001b[32m    432\u001b[39m last_import_time[\u001b[32m0\u001b[39m] = datetime.datetime.now()\n\u001b[32m--> \u001b[39m\u001b[32m433\u001b[39m \u001b[43mupdate_status_label\u001b[49m()\n\u001b[32m    434\u001b[39m status_label.value = \u001b[33mf\u001b[39m\u001b[33m\"\u001b[39m\u001b[33m✅ Import in Fusion abgeschlossen am \u001b[39m\u001b[38;5;132;01m{\u001b[39;00mlast_import_time[\u001b[32m0\u001b[39m].strftime(\u001b[33m'\u001b[39m\u001b[38;5;132;01m%d\u001b[39;00m\u001b[33m.\u001b[39m\u001b[33m%\u001b[39m\u001b[33mm.\u001b[39m\u001b[33m%\u001b[39m\u001b[33mY \u001b[39m\u001b[33m%\u001b[39m\u001b[33mH:\u001b[39m\u001b[33m%\u001b[39m\u001b[33mM:\u001b[39m\u001b[33m%\u001b[39m\u001b[33mS\u001b[39m\u001b[33m'\u001b[39m)\u001b[38;5;132;01m}\u001b[39;00m\u001b[33m\"\u001b[39m\n\u001b[32m    435\u001b[39m save_button.style.button_color = \u001b[33m'\u001b[39m\u001b[33mlightgreen\u001b[39m\u001b[33m'\u001b[39m\n",
      "\u001b[31mNameError\u001b[39m: name 'update_status_label' is not defined"
     ]
    }
   ],
   "source": [
    "from IPython.display import display, HTML\n",
    "import ipywidgets as widgets\n",
    "from ipywidgets import Layout, HBox, VBox\n",
    "import xml.etree.ElementTree as ET\n",
    "import subprocess\n",
    "import datetime\n",
    "import threading\n",
    "import time\n",
    "import xml.dom.minidom\n",
    "\n",
    "\n",
    "# Sprachumschalter und Übersetzungen\n",
    "current_language = {'lang': 'EN'}\n",
    "selected_designation = {'value': None}\n",
    "\n",
    "labels = {\n",
    "    'DE': {\n",
    "        'headline': 'Fusion 360 Gewindetool – XML-Editor mit Jupyter Notebook',\n",
    "        'thread_dropdown': 'Vorhandene Gewinde:',\n",
    "        'size': 'Nenndurchmesser (Size):',\n",
    "        'designation_de': 'Custom Thread designation - Freitext (CTD):',\n",
    "        'designation_en': 'Technische Bezeichnung (ThreadDesignation) z.B. M56x0.75:',\n",
    "        'pitch': 'Steigung (Pitch):',\n",
    "        'ext_6g': '<b>External 6g</b>',\n",
    "        'int_6H': '<b>Internal 6H</b>',\n",
    "        'ext_4g6g': '<b>External 4g6g</b>',\n",
    "        'save': 'Speichern',\n",
    "        'save_new': 'Als neu speichern',\n",
    "        'delete': 'Löschen',\n",
    "        'export': 'Get XML from Fusion',\n",
    "        'import': 'Patch Fusion XML',\n",
    "        'venv': 'Rebuild .venv',\n",
    "        'status': '⏳ Noch kein Export oder Import ausgeführt.'\n",
    "    },\n",
    "    'EN': {\n",
    "        'headline': 'Fusion 360 Thread Tool – XML Editor with Jupyter Notebook',\n",
    "        'thread_dropdown': 'Existing Threads:',\n",
    "        'size': 'Nominal Diameter (Size):',\n",
    "        'designation_de': 'Custom Thread designation (free text, CTD):',\n",
    "        'designation_en': 'Technical designation (ThreadDesignation) e.g. M56x0.75:',\n",
    "        'pitch': 'Pitch:',\n",
    "        'ext_6g': '<b>External 6g</b>',\n",
    "        'int_6H': '<b>Internal 6H</b>',\n",
    "        'ext_4g6g': '<b>External 4g6g</b>',\n",
    "        'save': 'Save',\n",
    "        'save_new': 'Save as New',\n",
    "        'delete': 'Delete',\n",
    "        'export': 'Get XML from Fusion',\n",
    "        'import': 'Patch Fusion XML',\n",
    "        'venv': 'Rebuild .venv',\n",
    "        'status': '⏳ No export or import done yet.'\n",
    "    }\n",
    "}\n",
    "\n",
    "# Headline Widget\n",
    "headline = widgets.HTML(value=f\"<h1>{labels[current_language['lang']]['headline']}</h1>\")\n",
    "# display(headline)\n",
    "\n",
    "# Sprachumschalter-Button mit Flaggen\n",
    "toggle_lang_button = widgets.Button(description='🇬🇧 / 🇩🇪')\n",
    "\n",
    "def update_labels():\n",
    "    lang = current_language['lang']\n",
    "    headline.value = f\"<h1>{labels[lang]['headline']}</h1>\"\n",
    "    thread_dropdown.description = labels[lang]['thread_dropdown']\n",
    "    size.description = labels[lang]['size']\n",
    "    designation_de.description = labels[lang]['designation_de']\n",
    "    designation_en.description = labels[lang]['designation_en']\n",
    "    pitch.description = labels[lang]['pitch']\n",
    "    label_ext_6g.value = labels[lang]['ext_6g']\n",
    "    label_int_6H.value = labels[lang]['int_6H']\n",
    "    label_ext_4g6g.value = labels[lang]['ext_4g6g']\n",
    "    save_button.description = labels[lang]['save']\n",
    "    save_new_button.description = labels[lang]['save_new']\n",
    "    delete_button.description = labels[lang]['delete']\n",
    "    export_button.description = labels[lang]['export']\n",
    "    import_button.description = labels[lang]['import']\n",
    "    venv_button.description = labels[lang]['venv']\n",
    "    status_label.value = labels[lang]['status']\n",
    "\n",
    "def on_toggle_lang_clicked(b):\n",
    "    if current_language['lang'] == 'EN':\n",
    "        current_language['lang'] = 'DE'\n",
    "        toggle_lang_button.description = '🇬🇧 Switch to English'\n",
    "    else:\n",
    "        current_language['lang'] = 'EN'\n",
    "        toggle_lang_button.description = '🇩🇪 Auf Deutsch umschalten'\n",
    "    update_labels()\n",
    "\n",
    "toggle_lang_button = widgets.Button(description='🇩🇪 Auf Deutsch umschalten')\n",
    "toggle_lang_button.on_click(on_toggle_lang_clicked)\n",
    "\n",
    "\n",
    "\n",
    "# CSS hacks\n",
    "display(HTML(\"<style>.highlighted select { border: 3px solid lightgreen !important; }</style>\"))\n",
    "headline = widgets.HTML(value=\"<h1>Fusion 360 Gewindetool – XML-Editor mit Jupyter Notebook</h1>\")\n",
    "display(headline)\n",
    "\n",
    "\n",
    "# Feste XML-Datei\n",
    "xml_path = 'data/AstroISOmetric.xml'\n",
    "\n",
    "def remove_blank_lines(xml_string):\n",
    "    lines = xml_string.split('\\n')\n",
    "    non_empty_lines = [line for line in lines if line.strip() != '']\n",
    "    return '\\n'.join(non_empty_lines)\n",
    "\n",
    "def pretty_print_xml(path):\n",
    "    with open(path, 'r') as f:\n",
    "        xml_string = f.read()\n",
    "    parsed = xml.dom.minidom.parseString(xml_string)\n",
    "    with open(path, 'w') as f:\n",
    "        f.write(parsed.toprettyxml(indent=\"  \"))\n",
    "\n",
    "            \n",
    "def clean_invalid_threads(path):\n",
    "    tree = ET.parse(path)\n",
    "    root = tree.getroot()\n",
    "    to_remove = []\n",
    "    for ts in root.findall('ThreadSize'):\n",
    "        size = ts.find('Size').text\n",
    "        pitch = ts.find('Designation/Pitch').text\n",
    "        designation = ts.find('Designation/ThreadDesignation').text\n",
    "        # Prüfen, ob leer, None oder null\n",
    "        if (designation is None or designation.strip() == '' or\n",
    "            size is None or size.strip() == '' or float(size) == 0.0 or\n",
    "            pitch is None or pitch.strip() == '' or float(pitch) == 0.0):\n",
    "            to_remove.append(ts)\n",
    "    # Entfernen\n",
    "    for ts in to_remove:\n",
    "        root.remove(ts)\n",
    "    tree.write(path)\n",
    "    with open(path, 'r') as f:\n",
    "        xml_str = f.read()\n",
    "    pretty_xml = xml.dom.minidom.parseString(xml_str).toprettyxml(indent=\"  \")\n",
    "    pretty_xml_clean = remove_blank_lines(pretty_xml)\n",
    "    with open(path, 'w') as f:\n",
    "        f.write(pretty_xml_clean)\n",
    "    print(f\"✅ {len(to_remove)} ungültige Einträge entfernt.\")\n",
    "    \n",
    "    \n",
    "def validate_thread_entry(path, designation_en):\n",
    "    tree = ET.parse(path)\n",
    "    root = tree.getroot()\n",
    "    for ts in root.findall('ThreadSize'):\n",
    "        designation = ts.find('Designation/ThreadDesignation').text\n",
    "        if designation == designation_en:\n",
    "            size = ts.find('Size').text\n",
    "            pitch = ts.find('Designation/Pitch').text\n",
    "            threads = ts.find('Designation').findall('Thread')\n",
    "            gender_classes = [(t.find('Gender').text, t.find('Class').text) for t in threads]\n",
    "\n",
    "            missing_genders = []\n",
    "            for expected in [('external', '6g'), ('internal', '6H'), ('external', '4g6g')]:\n",
    "                if expected not in gender_classes:\n",
    "                    missing_genders.append(expected)\n",
    "\n",
    "            print(f\"🔍 Überprüfung von {designation_en}:\")\n",
    "            print(f\"  Size: {size}\")\n",
    "            print(f\"  Pitch: {pitch}\")\n",
    "            print(f\"  Gefundene Gender/Class: {gender_classes}\")\n",
    "\n",
    "            if not size or not pitch:\n",
    "                print(\"⚠️ Size oder Pitch fehlt oder ist leer!\")\n",
    "            if missing_genders:\n",
    "                print(f\"⚠️ Fehlende Gender/Class-Kombinationen: {missing_genders}\")\n",
    "            else:\n",
    "                print(\"✅ Alle Pflichtfelder und Gender/Class-Kombinationen vorhanden.\")\n",
    "            return\n",
    "    print(f\"❌ Eintrag {designation_en} nicht gefunden.\")\n",
    "\n",
    "def load_dropdown_options():\n",
    "    tree = ET.parse(xml_path)\n",
    "    root = tree.getroot()\n",
    "    options = ['<Neu laden>']\n",
    "    for thread_size in root.findall('ThreadSize'):\n",
    "        for designation in thread_size.findall('Designation'):\n",
    "            thread_designation = designation.find('ThreadDesignation').text\n",
    "            if thread_designation:\n",
    "                options.append(thread_designation)\n",
    "    thread_dropdown.options = options\n",
    "\n",
    "def delete_thread_from_xml(designation_en):\n",
    "    tree = ET.parse(xml_path)\n",
    "    root = tree.getroot()\n",
    "    found = False\n",
    "    for ts in root.findall('ThreadSize'):\n",
    "        designations = ts.findall('Designation')\n",
    "        for des in designations:\n",
    "            if des.find('ThreadDesignation').text == designation_en:\n",
    "                ts.remove(des)\n",
    "                found = True\n",
    "                break  # nur eine löschen\n",
    "        # Wenn danach keine Designation mehr drin ist → ganzen Block löschen\n",
    "        if len(ts.findall('Designation')) == 0:\n",
    "            root.remove(ts)\n",
    "    if found:\n",
    "        tree.write(xml_path)\n",
    "        print(f\"🗑️ Gewinde {designation_en} gelöscht.\")\n",
    "    else:\n",
    "        print(f\"⚠️ Gewinde {designation_en} nicht gefunden.\")\n",
    "\n",
    "def on_delete_clicked(b):\n",
    "    delete_thread_from_xml(thread_dropdown.value)\n",
    "    load_dropdown_options()\n",
    "    thread_dropdown.value = '<Neu laden>'\n",
    "    \n",
    "    \n",
    "\n",
    "\n",
    "def fill_fields_from_selection(change):\n",
    "    selection = change['new']\n",
    "    if selection == '<Neu laden>':\n",
    "        for w in all_widgets:\n",
    "            w.value = '' if isinstance(w, widgets.Text) else 0\n",
    "        selected_designation['value'] = None\n",
    "        return\n",
    "    \n",
    "    selected_designation['value'] = selection  # Merke ursprüngliche Auswahl\n",
    "\n",
    "    tree = ET.parse(xml_path)\n",
    "    root = tree.getroot()\n",
    "    for thread_size in root.findall('ThreadSize'):\n",
    "        for designation in thread_size.findall('Designation'):\n",
    "            thread_designation = designation.find('ThreadDesignation').text\n",
    "            if thread_designation == selection:\n",
    "                size.value = float(thread_size.find('Size').text)\n",
    "                designation_de.value = designation.find('CTD').text\n",
    "                designation_en.value = thread_designation\n",
    "                pitch.value = float(designation.find('Pitch').text)\n",
    "                for t in designation.findall('Thread'):\n",
    "                    gender = t.find('Gender').text\n",
    "                    cls = t.find('Class').text\n",
    "                    major = float(t.find('MajorDia').text)\n",
    "                    pitch_dia = float(t.find('PitchDia').text)\n",
    "                    minor = float(t.find('MinorDia').text)\n",
    "                    if gender == 'external' and cls == '6g':\n",
    "                        major_dia_ext.value, pitch_dia_ext.value, minor_dia_ext.value = major, pitch_dia, minor\n",
    "                    elif gender == 'internal' and cls == '6H':\n",
    "                        major_dia_int.value, pitch_dia_int.value, minor_dia_int.value = major, pitch_dia, minor\n",
    "                        tap_drill.value = float(t.find('TapDrill').text)\n",
    "                    elif gender == 'external' and cls == '4g6g':\n",
    "                        major_dia_4g6g.value, pitch_dia_4g6g.value, minor_dia_4g6g.value = major, pitch_dia, minor\n",
    "                break  # <--- nur diese Bezeichnung befüllen\n",
    "\n",
    "def add_thread_to_xml(path, size, designation_de, designation_en, pitch,\n",
    "                      major_dia_ext, pitch_dia_ext, minor_dia_ext,\n",
    "                      major_dia_int, pitch_dia_int, minor_dia_int,\n",
    "                      major_dia_4g6g, pitch_dia_4g6g, minor_dia_4g6g,\n",
    "                      tap_drill, old_designation=None):\n",
    "    tree = ET.parse(path)\n",
    "    root = tree.getroot()\n",
    "\n",
    "    # Finde oder erstelle passenden ThreadSize-Knoten\n",
    "    for ts in root.findall('ThreadSize'):\n",
    "        if ts.find('Size').text == str(size):\n",
    "            # Innerhalb des gefundenen Size-Blocks:\n",
    "            # Alte Designation entfernen, falls vorhanden\n",
    "            for des in ts.findall('Designation'):\n",
    "                if old_designation and des.find('ThreadDesignation').text == old_designation:\n",
    "                    ts.remove(des)\n",
    "                elif not old_designation and des.find('ThreadDesignation').text == designation_en:\n",
    "                    ts.remove(des)\n",
    "            target_ts = ts\n",
    "            break\n",
    "    else:\n",
    "        # Size-Block noch nicht vorhanden → neu anlegen\n",
    "        target_ts = ET.SubElement(root, 'ThreadSize')\n",
    "        ET.SubElement(target_ts, 'Size').text = str(size)\n",
    "\n",
    "    # Neue Designation anhängen\n",
    "    des_el = ET.SubElement(target_ts, 'Designation')\n",
    "    ET.SubElement(des_el, 'ThreadDesignation').text = designation_en\n",
    "    ET.SubElement(des_el, 'CTD').text = designation_de\n",
    "    ET.SubElement(des_el, 'Pitch').text = str(pitch)\n",
    "\n",
    "    for g, c, mj, pd, mn, tap in [\n",
    "        ('external', '6g', major_dia_ext, pitch_dia_ext, minor_dia_ext, None),\n",
    "        ('internal', '6H', major_dia_int, pitch_dia_int, minor_dia_int, tap_drill),\n",
    "        ('external', '4g6g', major_dia_4g6g, pitch_dia_4g6g, minor_dia_4g6g, None)\n",
    "    ]:\n",
    "        th = ET.SubElement(des_el, 'Thread')\n",
    "        ET.SubElement(th, 'Gender').text = g\n",
    "        ET.SubElement(th, 'Class').text = c\n",
    "        ET.SubElement(th, 'MajorDia').text = str(mj)\n",
    "        ET.SubElement(th, 'PitchDia').text = str(pd)\n",
    "        ET.SubElement(th, 'MinorDia').text = str(mn)\n",
    "        if tap is not None:\n",
    "            ET.SubElement(th, 'TapDrill').text = str(tap)\n",
    "\n",
    "    # Datei speichern + schön formatieren\n",
    "    tree.write(path)\n",
    "    with open(path, 'r') as f:\n",
    "        xml_str = f.read()\n",
    "    pretty_xml = xml.dom.minidom.parseString(xml_str).toprettyxml(indent=\"  \")\n",
    "    pretty_xml_clean = remove_blank_lines(pretty_xml)\n",
    "    with open(path, 'w') as f:\n",
    "        f.write(pretty_xml_clean)\n",
    "\n",
    "    print(f\"✅ Gewinde {designation_en} ({designation_de}) erfolgreich in {path} gespeichert und formatiert.\")\n",
    "    \n",
    "# --- Widgets und Layouts ---    \n",
    "field_layout = Layout(width='500px')\n",
    "vbox_layout = Layout(width='550px', margin='0 40px 20px 0')\n",
    "style = {'description_width': '350px'}\n",
    "\n",
    "# Widgets für die Eingabefelder\n",
    "thread_dropdown = widgets.Dropdown(description='Vorhandene Gewinde:', options=['<Neu laden>'], layout=field_layout, style=style)\n",
    "size = widgets.FloatText(description='Nenndurchmesser (Size):', layout=field_layout, style=style)\n",
    "designation_de = widgets.Text(description='Custom Thread designation:', layout=field_layout, style=style)\n",
    "designation_en = widgets.Text(description='Technical designation:', layout=field_layout, style=style)\n",
    "pitch = widgets.FloatText(description='Steigung (Pitch):', layout=field_layout, style=style)\n",
    "\n",
    "\n",
    "# Widgets für die Gewinde-Parameter\n",
    "label_ext_6g = widgets.HTML(value='<div style=\"text-align:right;\"><b>External 6g</b></div>')\n",
    "major_dia_ext, pitch_dia_ext, minor_dia_ext = [widgets.FloatText(description=d, layout=field_layout, style=style)\n",
    "                                               for d in ['MajorDia:', 'PitchDia:', 'MinorDia:']]\n",
    "\n",
    "label_int_6H = widgets.HTML(value='<div style=\"text-align:right;\"><b>Internal 6H</b></div>')\n",
    "major_dia_int, pitch_dia_int, minor_dia_int, tap_drill = [widgets.FloatText(description=d, layout=field_layout, style=style)\n",
    "                                                          for d in ['MajorDia:', 'PitchDia:', 'MinorDia:', 'TapDrill:']]\n",
    "\n",
    "label_ext_4g6g = widgets.HTML(value='<div style=\"text-align:right;\"><b>External 4g6g</b></div>')\n",
    "major_dia_4g6g, pitch_dia_4g6g, minor_dia_4g6g = [widgets.FloatText(description=d, layout=field_layout, style=style)\n",
    "                                                  for d in ['MajorDia:', 'PitchDia:', 'MinorDia:']]\n",
    "\n",
    "# Button-Widgets\n",
    "save_button = widgets.Button(description='Speichern', style=style)\n",
    "save_new_button = widgets.Button(description='Als neu speichern', style=style)\n",
    "delete_button = widgets.Button(description='Löschen', style=style)\n",
    "\n",
    "# Save-Buttons initial deaktivieren\n",
    "save_button.disabled = True\n",
    "save_new_button.disabled = True\n",
    "delete_button.disabled = True\n",
    "\n",
    "def on_save_clicked(b):\n",
    "    original_designation = selected_designation['value']\n",
    "\n",
    "    if not original_designation:\n",
    "        print(\"⚠️ Kein Eintrag ausgewählt. Bitte zuerst aus Dropdown wählen.\")\n",
    "        return\n",
    "\n",
    "    # CDT ignorieren → stattdessen aus designation_en übernehmen\n",
    "    current_designation_en = designation_en.value\n",
    "    current_designation_de = current_designation_en  # gleichsetzen\n",
    "\n",
    "    # Speichern mit gleicher Technical und CDT Bezeichnung\n",
    "    add_thread_to_xml(xml_path, size.value, current_designation_de, current_designation_en, pitch.value,\n",
    "                      major_dia_ext.value, pitch_dia_ext.value, minor_dia_ext.value,\n",
    "                      major_dia_int.value, pitch_dia_int.value, minor_dia_int.value,\n",
    "                      major_dia_4g6g.value, pitch_dia_4g6g.value, minor_dia_4g6g.value,\n",
    "                      tap_drill.value, old_designation=original_designation)\n",
    "\n",
    "    load_dropdown_options()\n",
    "    thread_dropdown.value = original_designation\n",
    "\n",
    "    save_button.style.button_color = 'lightgreen'\n",
    "    save_new_button.style.button_color = ''\n",
    "    delete_button.style.button_color = ''\n",
    "    delete_button.style.button_color = ''\n",
    "\n",
    "def on_save_new_clicked(b):\n",
    "    base_name = designation_en.value.rstrip('_neu')\n",
    "    counter = 1\n",
    "    new_designation = f\"{base_name}_neu\"\n",
    "    existing_designations = [opt for opt in thread_dropdown.options if opt != '<Neu laden>']\n",
    "\n",
    "    while new_designation in existing_designations:\n",
    "        new_designation = f\"{base_name}_neu{counter}\"\n",
    "        counter += 1\n",
    "\n",
    "    # CDT gleichsetzen\n",
    "    current_designation_de = new_designation\n",
    "\n",
    "    designation_en.value = new_designation\n",
    "\n",
    "    add_thread_to_xml(xml_path, size.value, current_designation_de, new_designation, pitch.value,\n",
    "                      major_dia_ext.value, pitch_dia_ext.value, minor_dia_ext.value,\n",
    "                      major_dia_int.value, pitch_dia_int.value, minor_dia_int.value,\n",
    "                      major_dia_4g6g.value, pitch_dia_4g6g.value, minor_dia_4g6g.value,\n",
    "                      tap_drill.value)\n",
    "\n",
    "    load_dropdown_options()\n",
    "    thread_dropdown.value = new_designation\n",
    "\n",
    "    save_new_button.style.button_color = 'lightgreen'\n",
    "    save_button.style.button_color = ''\n",
    "    delete_button.style.button_color = ''\n",
    "    \n",
    "\n",
    "save_button.on_click(on_save_clicked)\n",
    "save_new_button.on_click(on_save_new_clicked)\n",
    "delete_button.on_click(on_delete_clicked)\n",
    "\n",
    "button_box = VBox([save_button, save_new_button, delete_button])\n",
    "\n",
    "all_widgets = [size, designation_de, designation_en, pitch,\n",
    "               major_dia_ext, pitch_dia_ext, minor_dia_ext,\n",
    "               major_dia_int, pitch_dia_int, minor_dia_int, tap_drill,\n",
    "               major_dia_4g6g, pitch_dia_4g6g, minor_dia_4g6g]\n",
    "\n",
    "top_row = HBox([VBox([thread_dropdown, size, designation_en, pitch], layout=vbox_layout), button_box])\n",
    "\n",
    "# Lade Dropdown mit Fehlerbehandlung\n",
    "try:\n",
    "    load_dropdown_options()\n",
    "except Exception as e:\n",
    "    print(f\"⚠️ Fehler beim Laden der Dropdown-Optionen: {e}\")\n",
    "    thread_dropdown.options = ['<Neu laden>']\n",
    "\n",
    "# Setze Dropdown auf Startwert\n",
    "thread_dropdown.value = '<Neu laden>'\n",
    "thread_dropdown.observe(fill_fields_from_selection, names='value')\n",
    "\n",
    "\n",
    "\n",
    "def on_export_clicked(b):\n",
    "    subprocess.run(['./bin/sync_xml.sh', 'export'])\n",
    "    clean_invalid_threads(xml_path)\n",
    "    status_label.value = f\"✅ Export aus Fusion abgeschlossen am {datetime.datetime.now().strftime('%d.%m.%Y %H:%M:%S')}\"\n",
    "    save_button.disabled = False\n",
    "    save_new_button.disabled = False\n",
    "    delete_button.disabled = False\n",
    "    save_button.style.button_color = 'lightgreen'\n",
    "    save_new_button.style.button_color = 'lightgreen'\n",
    "    delete_button.style.button_color = 'lightgreen'\n",
    "    thread_dropdown.add_class('highlighted')\n",
    "    export_button.style.button_color = None  # Zurück auf neutral/grau\n",
    "    \n",
    "    \n",
    "def on_import_clicked(b):\n",
    "    subprocess.run(['./bin/sync_xml.sh', 'import'])\n",
    "    clean_invalid_threads(xml_path)\n",
    "    last_import_time[0] = datetime.datetime.now()\n",
    "    update_status_label()\n",
    "    status_label.value = f\"✅ Import in Fusion abgeschlossen am {last_import_time[0].strftime('%d.%m.%Y %H:%M:%S')}\"\n",
    "    save_button.style.button_color = 'lightgreen'\n",
    "    save_new_button.style.button_color = 'lightgreen'\n",
    "    delete_button.style.button_color = 'lightgreen'\n",
    "    thread_dropdown.add_class('highlighted')\n",
    "    \n",
    "def on_venv_clicked(b):\n",
    "    subprocess.run(['./bin/create_venv.sh'])\n",
    "    status_label.value = f\"✅ .venv neu erstellt: {datetime.datetime.now().strftime('%d.%m.%Y %H:%M:%S')}\"\n",
    "\n",
    "# --- Neue Buttons für Export, Import, venv ---\n",
    "export_button = widgets.Button(description='Get XML from Fusion')\n",
    "import_button = widgets.Button(description='Patch Fusion XML')\n",
    "venv_button = widgets.Button(description='Rebuild .venv')\n",
    "status_label = widgets.Label(value='⏳ Noch kein Export oder Import ausgeführt.')\n",
    "control_buttons = HBox([export_button, import_button, venv_button])\n",
    "\n",
    "export_button.on_click(on_export_clicked)\n",
    "import_button.on_click(on_import_clicked)\n",
    "venv_button.on_click(on_venv_clicked)\n",
    "\n",
    "# Buttons initial auf Grün (Get XML) setzen\n",
    "export_button.style.button_color = 'lightgreen'\n",
    "\n",
    "\n",
    "# Letzter Importzeitpunkt\n",
    "last_import_time = [None]\n",
    "\n",
    "# Sprachumschalter anzeigen\n",
    "display(toggle_lang_button)\n",
    "\n",
    "# obere Eingabezeile und Button-Block\n",
    "display(top_row)\n",
    "\n",
    "# Anzeige-Teil\n",
    "display(\n",
    "    control_buttons,\n",
    "    status_label,\n",
    ")\n",
    "\n",
    "# Gewinde-Bereiche anzeigen\n",
    "display(\n",
    "    label_ext_6g, major_dia_ext, pitch_dia_ext, minor_dia_ext,\n",
    "    label_int_6H, major_dia_int, pitch_dia_int, minor_dia_int, tap_drill,\n",
    "    label_ext_4g6g, major_dia_4g6g, pitch_dia_4g6g, minor_dia_4g6g\n",
    ")\n",
    "\n",
    "# Unsichtbarer Spacer am Ende der App\n",
    "spacer = widgets.Box(layout=widgets.Layout(height='30px'))\n",
    "display(spacer)\n",
    "\n",
    "update_labels()\n",
    "\n",
    "\n"
   ]
  }
 ],
 "metadata": {
  "kernelspec": {
   "display_name": ".venv",
   "language": "python",
   "name": "python3"
  },
  "language_info": {
   "codemirror_mode": {
    "name": "ipython",
    "version": 3
   },
   "file_extension": ".py",
   "mimetype": "text/x-python",
   "name": "python",
   "nbconvert_exporter": "python",
   "pygments_lexer": "ipython3",
   "version": "3.13.3"
  }
 },
 "nbformat": 4,
 "nbformat_minor": 5
}
