{
 "cells": [
  {
   "cell_type": "markdown",
   "id": "4c989a17",
   "metadata": {},
   "source": [
    "# Fusion 360 Gewindetool – XML-Editor mit Jupyter Notebook"
   ]
  },
  {
   "cell_type": "markdown",
   "id": "auto-generated-project-desc",
   "metadata": {},
   "source": [
    "Dieses Projekt hilft dir, benutzerdefinierte Gewinde für Autodesk Fusion 360 einfach in eine XML-Datei einzutragen.\n",
    "Es verwendet ein interaktives Jupyter Notebook mit `ipywidgets`, um Eingaben auf Deutsch zu erfassen und korrekt in das englischsprachige XML-Format zu übertragen."
   ]
  },
  {
   "cell_type": "code",
   "execution_count": 14,
   "id": "39a9101f",
   "metadata": {},
   "outputs": [
    {
     "name": "stdout",
     "output_type": "stream",
     "text": [
      "ℹ️ UID ist aktuell: 30bbf97dcd394de9009af5fcb50b947d5af1ceb6\n"
     ]
    },
    {
     "data": {
      "text/html": [
       "<style>.highlighted select { border: 3px solid lightgreen !important; }</style>"
      ],
      "text/plain": [
       "<IPython.core.display.HTML object>"
      ]
     },
     "metadata": {},
     "output_type": "display_data"
    },
    {
     "data": {
      "application/vnd.jupyter.widget-view+json": {
       "model_id": "719329b4c7254430bc20f4e88098d28f",
       "version_major": 2,
       "version_minor": 0
      },
      "text/plain": [
       "HTML(value='<h1>Fusion 360 Gewindetool – XML-Editor mit Jupyter Notebook</h1>')"
      ]
     },
     "metadata": {},
     "output_type": "display_data"
    },
    {
     "data": {
      "application/vnd.jupyter.widget-view+json": {
       "model_id": "f683e0fe9773450d88a617c9ea302a0e",
       "version_major": 2,
       "version_minor": 0
      },
      "text/plain": [
       "HBox(children=(Button(description='🇩🇪 Auf Deutsch umschalten', style=ButtonStyle()), Label(value='✅ Pfad gelad…"
      ]
     },
     "metadata": {},
     "output_type": "display_data"
    },
    {
     "data": {
      "application/vnd.jupyter.widget-view+json": {
       "model_id": "309c2e3c01114fc5b6ab94d3dfe34f59",
       "version_major": 2,
       "version_minor": 0
      },
      "text/plain": [
       "HBox(children=(VBox(children=(Dropdown(description='Vorhandene Gewinde:', layout=Layout(width='500px'), option…"
      ]
     },
     "metadata": {},
     "output_type": "display_data"
    },
    {
     "data": {
      "application/vnd.jupyter.widget-view+json": {
       "model_id": "833f819163dd44e1a65cf67f49c54920",
       "version_major": 2,
       "version_minor": 0
      },
      "text/plain": [
       "HBox(children=(Button(description='Get XML from Fusion', style=ButtonStyle(button_color='lightgreen')), Button…"
      ]
     },
     "metadata": {},
     "output_type": "display_data"
    },
    {
     "data": {
      "application/vnd.jupyter.widget-view+json": {
       "model_id": "63ebd92f2774413c91ff9e3aee8327dd",
       "version_major": 2,
       "version_minor": 0
      },
      "text/plain": [
       "HTML(value='<div style=\"text-align:right;\"><b>External 6g</b></div>')"
      ]
     },
     "metadata": {},
     "output_type": "display_data"
    },
    {
     "data": {
      "application/vnd.jupyter.widget-view+json": {
       "model_id": "e9cc298c7fcf4fe29ba279d8ef1c98c2",
       "version_major": 2,
       "version_minor": 0
      },
      "text/plain": [
       "FloatText(value=0.0, description='MajorDia:', layout=Layout(width='500px'), style=DescriptionStyle(description…"
      ]
     },
     "metadata": {},
     "output_type": "display_data"
    },
    {
     "data": {
      "application/vnd.jupyter.widget-view+json": {
       "model_id": "91ef52eabe5d4e24a34e83a740e11272",
       "version_major": 2,
       "version_minor": 0
      },
      "text/plain": [
       "FloatText(value=0.0, description='PitchDia:', layout=Layout(width='500px'), style=DescriptionStyle(description…"
      ]
     },
     "metadata": {},
     "output_type": "display_data"
    },
    {
     "data": {
      "application/vnd.jupyter.widget-view+json": {
       "model_id": "c1f0f5a958a24c5d92276a5f68342ed3",
       "version_major": 2,
       "version_minor": 0
      },
      "text/plain": [
       "FloatText(value=0.0, description='MinorDia:', layout=Layout(width='500px'), style=DescriptionStyle(description…"
      ]
     },
     "metadata": {},
     "output_type": "display_data"
    },
    {
     "data": {
      "application/vnd.jupyter.widget-view+json": {
       "model_id": "2b7990f277fc4b14b8fae274dd5cc77b",
       "version_major": 2,
       "version_minor": 0
      },
      "text/plain": [
       "HTML(value='<div style=\"text-align:right;\"><b>Internal 6H</b></div>')"
      ]
     },
     "metadata": {},
     "output_type": "display_data"
    },
    {
     "data": {
      "application/vnd.jupyter.widget-view+json": {
       "model_id": "300c6c3b13214cacb760f6c828ecbfc7",
       "version_major": 2,
       "version_minor": 0
      },
      "text/plain": [
       "FloatText(value=0.0, description='MajorDia:', layout=Layout(width='500px'), style=DescriptionStyle(description…"
      ]
     },
     "metadata": {},
     "output_type": "display_data"
    },
    {
     "data": {
      "application/vnd.jupyter.widget-view+json": {
       "model_id": "35ce21706a7f4174813dc3916e0c8878",
       "version_major": 2,
       "version_minor": 0
      },
      "text/plain": [
       "FloatText(value=0.0, description='PitchDia:', layout=Layout(width='500px'), style=DescriptionStyle(description…"
      ]
     },
     "metadata": {},
     "output_type": "display_data"
    },
    {
     "data": {
      "application/vnd.jupyter.widget-view+json": {
       "model_id": "252737c5cfc840e79f17607b564b9afd",
       "version_major": 2,
       "version_minor": 0
      },
      "text/plain": [
       "FloatText(value=0.0, description='MinorDia:', layout=Layout(width='500px'), style=DescriptionStyle(description…"
      ]
     },
     "metadata": {},
     "output_type": "display_data"
    },
    {
     "data": {
      "application/vnd.jupyter.widget-view+json": {
       "model_id": "f0c2cdc2ec58413f878f96dd3afc8df7",
       "version_major": 2,
       "version_minor": 0
      },
      "text/plain": [
       "FloatText(value=0.0, description='TapDrill:', layout=Layout(width='500px'), style=DescriptionStyle(description…"
      ]
     },
     "metadata": {},
     "output_type": "display_data"
    },
    {
     "data": {
      "application/vnd.jupyter.widget-view+json": {
       "model_id": "5409346f8889454c87c9b7765d40e7b1",
       "version_major": 2,
       "version_minor": 0
      },
      "text/plain": [
       "HTML(value='<div style=\"text-align:right;\"><b>External 4g6g</b></div>')"
      ]
     },
     "metadata": {},
     "output_type": "display_data"
    },
    {
     "data": {
      "application/vnd.jupyter.widget-view+json": {
       "model_id": "20d6b7d77db04a028e451a51a10e463a",
       "version_major": 2,
       "version_minor": 0
      },
      "text/plain": [
       "FloatText(value=0.0, description='MajorDia:', layout=Layout(width='500px'), style=DescriptionStyle(description…"
      ]
     },
     "metadata": {},
     "output_type": "display_data"
    },
    {
     "data": {
      "application/vnd.jupyter.widget-view+json": {
       "model_id": "c9e596b379c64a408e25acfc07b9e81c",
       "version_major": 2,
       "version_minor": 0
      },
      "text/plain": [
       "FloatText(value=0.0, description='PitchDia:', layout=Layout(width='500px'), style=DescriptionStyle(description…"
      ]
     },
     "metadata": {},
     "output_type": "display_data"
    },
    {
     "data": {
      "application/vnd.jupyter.widget-view+json": {
       "model_id": "f8bad98752da4a1ab795952e602d37e8",
       "version_major": 2,
       "version_minor": 0
      },
      "text/plain": [
       "FloatText(value=0.0, description='MinorDia:', layout=Layout(width='500px'), style=DescriptionStyle(description…"
      ]
     },
     "metadata": {},
     "output_type": "display_data"
    },
    {
     "data": {
      "application/vnd.jupyter.widget-view+json": {
       "model_id": "51f87b2ccd874dbab9e83363b341bdbe",
       "version_major": 2,
       "version_minor": 0
      },
      "text/plain": [
       "Box(layout=Layout(height='30px'))"
      ]
     },
     "metadata": {},
     "output_type": "display_data"
    },
    {
     "data": {
      "application/vnd.jupyter.widget-view+json": {
       "model_id": "7ebcee181339463e97fd5ab9e1e30ad2",
       "version_major": 2,
       "version_minor": 0
      },
      "text/plain": [
       "HTML(value='\\n    <p>\\n        <b>Links:</b>\\n        <a href=\"http://www.iso-gewinde.at/\" target=\"_blank\">ISO…"
      ]
     },
     "metadata": {},
     "output_type": "display_data"
    },
    {
     "data": {
      "application/vnd.jupyter.widget-view+json": {
       "model_id": "51f87b2ccd874dbab9e83363b341bdbe",
       "version_major": 2,
       "version_minor": 0
      },
      "text/plain": [
       "Box(layout=Layout(height='30px'))"
      ]
     },
     "metadata": {},
     "output_type": "display_data"
    }
   ],
   "source": [
    "from IPython.display import display, HTML\n",
    "import ipywidgets as widgets\n",
    "from ipywidgets import Layout, HBox, VBox\n",
    "import xml.etree.ElementTree as ET\n",
    "import subprocess\n",
    "import datetime\n",
    "import threading\n",
    "import time\n",
    "import xml.dom.minidom\n",
    "import shutil\n",
    "from pathlib import Path\n",
    "import configparser\n",
    "\n",
    "# --- Buttons für Export, Import, venv ---\n",
    "export_button = widgets.Button(description='Get XML from Fusion')\n",
    "import_button = widgets.Button(description='Patch Fusion XML')\n",
    "venv_button = widgets.Button(description='Rebuild .venv')\n",
    "status_label = widgets.Label(value='⏳ Noch kein Export oder Import ausgeführt.')\n",
    "control_buttons = HBox([export_button, import_button, venv_button])\n",
    "\n",
    "\n",
    "## Config-Management\n",
    "config_file = Path('./config_fusion_threaddata_path.ini')\n",
    "config = configparser.ConfigParser()\n",
    "\n",
    "# macOS-Basis mit Platzhalter für UID\n",
    "default_template = \"/Users/apos/Library/Application Support/Autodesk/webdeploy/production/__UID_FUSION_360__/Autodesk Fusion.app/Contents/Libraries/Applications/Fusion/Fusion/Server/Fusion/Configuration\"\n",
    "\n",
    "def find_latest_fusion_uid():\n",
    "    base_path = Path(\"/Users/apos/Library/Application Support/Autodesk/webdeploy/production\")\n",
    "    if not base_path.exists():\n",
    "        return None\n",
    "    uid_dirs = sorted(\n",
    "        [p for p in base_path.iterdir() if (p / \"Autodesk Fusion.app/Contents/Libraries/Applications/Fusion/Fusion/Server/Fusion/Configuration\").exists()],\n",
    "        key=lambda p: p.stat().st_mtime,\n",
    "        reverse=True\n",
    "    )\n",
    "    return uid_dirs[0].name if uid_dirs else None\n",
    "\n",
    "# UID und Template laden oder initialisieren\n",
    "if not config_file.exists():\n",
    "    detected_uid = find_latest_fusion_uid()\n",
    "    if detected_uid:\n",
    "        config['Fusion'] = {\n",
    "            'FusionUID': detected_uid,\n",
    "            'ThreadDataPathTemplate': default_template\n",
    "        }\n",
    "        with open(config_file, 'w') as f:\n",
    "            config.write(f)\n",
    "        print(f\"✅ UID automatisch erkannt: {detected_uid} und INI-Datei wurde neu angelegt.\")\n",
    "    else:\n",
    "        print(\"❌ Kein gültiger Fusion UID-Ordner gefunden.\")\n",
    "else:\n",
    "    config.read(config_file)\n",
    "    stored_uid = config['Fusion'].get('FusionUID')\n",
    "    latest_uid = find_latest_fusion_uid()\n",
    "\n",
    "    if latest_uid and stored_uid != latest_uid:\n",
    "        config['Fusion']['FusionUID'] = latest_uid\n",
    "        with open(config_file, 'w') as f:\n",
    "            config.write(f)\n",
    "        print(f\"🔄 UID wurde aktualisiert: {stored_uid} → {latest_uid}\")\n",
    "    elif latest_uid == stored_uid:\n",
    "        print(f\"ℹ️ UID ist aktuell: {stored_uid}\")\n",
    "\n",
    "# Pfad generieren\n",
    "uid = config['Fusion'].get('FusionUID')\n",
    "template_path = config['Fusion'].get('ThreadDataPathTemplate', default_template)\n",
    "fusion_path_str = template_path.replace('__UID_FUSION_360__', uid)\n",
    "fusion_path = Path(fusion_path_str)\n",
    "\n",
    "# --------------------------------------------------------\n",
    "# Automatische Migration der XML-Datei bei Fusion-Update\n",
    "# Wenn neue UID erkannt → kopiere alte XML aus Vorversion\n",
    "# --------------------------------------------------------\n",
    "production_path = Path.home() / \"Library/Application Support/Autodesk/webdeploy/production\"\n",
    "if production_path.exists():\n",
    "    uid_dirs = sorted([d for d in production_path.iterdir() if d.is_dir()], key=lambda d: d.stat().st_mtime, reverse=True)\n",
    "    if len(uid_dirs) > 1:\n",
    "        newest_uid = uid_dirs[0].name\n",
    "        previous_uid = uid_dirs[1].name\n",
    "        if newest_uid == uid:\n",
    "            old_path = Path(str(fusion_path).replace(newest_uid, previous_uid))\n",
    "            old_file = old_path / \"AstroISOmetric.xml\"\n",
    "            if old_file.exists():\n",
    "                shutil.copy(old_file, fusion_path / \"AstroISOmetric.xml\")\n",
    "                status_label.value = f\"✅ Konfiguration aus vorheriger UID-Version ({previous_uid}) übernommen.\"\n",
    "\n",
    "\n",
    "# Existenz prüfen\n",
    "if not fusion_path.exists():\n",
    "    status_label.value = f\"⚠️ Warnung: Der Pfad {fusion_path} existiert nicht!\"\n",
    "else:\n",
    "    status_label.value = f\"✅ Pfad geladen: {fusion_path}\"\n",
    "\n",
    "local_file = Path(\"./data/AstroISOmetric.xml\")\n",
    "backup_file = local_file.with_suffix('.xml.bak')\n",
    "\n",
    "def export_xml():\n",
    "    source_file = fusion_path / 'AstroISOmetric.xml'\n",
    "    if not source_file.exists():\n",
    "        status_label.value = f\"❌ Datei nicht gefunden: {source_file}\"\n",
    "        print(status_label.value)\n",
    "        return\n",
    "    shutil.copy(source_file, backup_file)\n",
    "    shutil.copy(source_file, local_file)\n",
    "    print(\"✅ Datei aus Fusion-Ordner ins data-Verzeichnis kopiert\")\n",
    "\n",
    "def import_xml():\n",
    "    shutil.copy(fusion_path / 'AstroISOmetric.xml', fusion_path / 'AstroISOmetric.xml.bak')\n",
    "    shutil.copy(local_file, fusion_path / 'AstroISOmetric.xml')\n",
    "    print(\"✅ Datei aus data-Verzeichnis zurück ins Fusion-Programm kopiert\")\n",
    "\n",
    "\n",
    "# Sprachumschalter und Übersetzungen\n",
    "current_language = {'lang': 'EN'}\n",
    "selected_designation = {'value': None}\n",
    "\n",
    "labels = {\n",
    "    'DE': {\n",
    "        'headline': 'Fusion 360 Gewindetool – XML-Editor mit Jupyter Notebook',\n",
    "        'thread_dropdown': 'Vorhandene Gewinde:',\n",
    "        'size': 'Nenndurchmesser (Size):',\n",
    "        'designation_de': 'Custom Thread designation - Freitext (CTD):',\n",
    "        'designation_en': 'Technische Bezeichnung (ThreadDesignation) z.B. M56x0.75:',\n",
    "        'pitch': 'Steigung (Pitch):',\n",
    "        'ext_6g': '<b>External 6g</b>',\n",
    "        'int_6H': '<b>Internal 6H</b>',\n",
    "        'ext_4g6g': '<b>External 4g6g</b>',\n",
    "        'save': 'Speichern',\n",
    "        'save_new': 'Als neu speichern',\n",
    "        'delete': 'Löschen',\n",
    "        'export': 'Get XML from Fusion',\n",
    "        'import': 'Patch Fusion XML',\n",
    "        'venv': 'Rebuild .venv',\n",
    "        'status': '⚠️ Buttons zum Speichern/Löschen nichst aktiv! Bitte zuerst den grünen Button \"Get XML from Fusion\" klicken, um die XML-Datei zu laden.'\n",
    "    },\n",
    "    'EN': {\n",
    "        'headline': 'Fusion 360 Thread Tool – XML Editor with Jupyter Notebook',\n",
    "        'thread_dropdown': 'Existing Threads:',\n",
    "        'size': 'Nominal Diameter (Size):',\n",
    "        'designation_de': 'Custom Thread designation (free text, CTD):',\n",
    "        'designation_en': 'Technical designation (ThreadDesignation) e.g. M56x0.75:',\n",
    "        'pitch': 'Pitch:',\n",
    "        'ext_6g': '<b>External 6g</b>',\n",
    "        'int_6H': '<b>Internal 6H</b>',\n",
    "        'ext_4g6g': '<b>External 4g6g</b>',\n",
    "        'save': 'Save',\n",
    "        'save_new': 'Save as New',\n",
    "        'delete': 'Delete',\n",
    "        'export': 'Get XML from Fusion',\n",
    "        'import': 'Patch Fusion XML',\n",
    "        'venv': 'Rebuild .venv',\n",
    "        'status': '⚠️ Buttons for Save/Delete are not active. First click the green button \"Get XML from Fusion\" to load the XML file.'\n",
    "    }\n",
    "}\n",
    "\n",
    "# Headline Widget\n",
    "headline = widgets.HTML(value=f\"<h1>{labels[current_language['lang']]['headline']}</h1>\")\n",
    "# display(headline)\n",
    "\n",
    "# Sprachumschalter-Button mit Flaggen\n",
    "toggle_lang_button = widgets.Button(description='🇬🇧 / 🇩🇪')\n",
    "status_row = HBox([toggle_lang_button, status_label])\n",
    "\n",
    "def update_labels():\n",
    "    lang = current_language['lang']\n",
    "    headline.value = f\"<h1>{labels[lang]['headline']}</h1>\"\n",
    "    thread_dropdown.description = labels[lang]['thread_dropdown']\n",
    "    size.description = labels[lang]['size']\n",
    "    designation_de.description = labels[lang]['designation_de']\n",
    "    designation_en.description = labels[lang]['designation_en']\n",
    "    pitch.description = labels[lang]['pitch']\n",
    "    label_ext_6g.value = labels[lang]['ext_6g']\n",
    "    label_int_6H.value = labels[lang]['int_6H']\n",
    "    label_ext_4g6g.value = labels[lang]['ext_4g6g']\n",
    "\n",
    "    # Buttons prüfen und entsprechend beschriften\n",
    "    save_button.description = 'Button not yet active' if save_button.disabled else labels[lang]['save']\n",
    "    save_new_button.description = 'Button not yet active' if save_new_button.disabled else labels[lang]['save_new']\n",
    "    delete_button.description = 'Button not yet active' if delete_button.disabled else labels[lang]['delete']\n",
    "\n",
    "    export_button.description = labels[lang]['export']\n",
    "    import_button.description = labels[lang]['import']\n",
    "    venv_button.description = labels[lang]['venv']\n",
    "    status_label.value = labels[lang]['status']\n",
    "\n",
    "def on_toggle_lang_clicked(b):\n",
    "    if current_language['lang'] == 'EN':\n",
    "        current_language['lang'] = 'DE'\n",
    "        toggle_lang_button.description = '🇬🇧 Switch to English'\n",
    "    else:\n",
    "        current_language['lang'] = 'EN'\n",
    "        toggle_lang_button.description = '🇩🇪 Auf Deutsch umschalten'\n",
    "    update_labels()\n",
    "\n",
    "toggle_lang_button = widgets.Button(description='🇩🇪 Auf Deutsch umschalten')\n",
    "toggle_lang_button.on_click(on_toggle_lang_clicked)\n",
    "\n",
    "\n",
    "\n",
    "# CSS hacks\n",
    "display(HTML(\"<style>.highlighted select { border: 3px solid lightgreen !important; }</style>\"))\n",
    "headline = widgets.HTML(value=\"<h1>Fusion 360 Gewindetool – XML-Editor mit Jupyter Notebook</h1>\")\n",
    "display(headline)\n",
    "\n",
    "\n",
    "# Feste XML-Datei\n",
    "xml_path = 'data/AstroISOmetric.xml'\n",
    "\n",
    "def remove_blank_lines(xml_string):\n",
    "    lines = xml_string.split('\\n')\n",
    "    non_empty_lines = [line for line in lines if line.strip() != '']\n",
    "    return '\\n'.join(non_empty_lines)\n",
    "\n",
    "def pretty_print_xml(path):\n",
    "    with open(path, 'r') as f:\n",
    "        xml_string = f.read()\n",
    "    parsed = xml.dom.minidom.parseString(xml_string)\n",
    "    with open(path, 'w') as f:\n",
    "        f.write(parsed.toprettyxml(indent=\"  \"))\n",
    "        \n",
    "# Wrapper-Funktion für deaktivierte Buttons\n",
    "def warn_if_disabled(action_name):\n",
    "    status_label.value = f\"⚠️ {action_name} button is disabled. Please run 'Get XML from Fusion' first!\"\n",
    "\n",
    "            \n",
    "def clean_invalid_threads(path):\n",
    "    tree = ET.parse(path)\n",
    "    root = tree.getroot()\n",
    "    to_remove = []\n",
    "    for ts in root.findall('ThreadSize'):\n",
    "        size = ts.find('Size').text\n",
    "        pitch = ts.find('Designation/Pitch').text\n",
    "        designation = ts.find('Designation/ThreadDesignation').text\n",
    "        # Prüfen, ob leer, None oder null\n",
    "        if (designation is None or designation.strip() == '' or\n",
    "            size is None or size.strip() == '' or float(size) == 0.0 or\n",
    "            pitch is None or pitch.strip() == '' or float(pitch) == 0.0):\n",
    "            to_remove.append(ts)\n",
    "    # Entfernen\n",
    "    for ts in to_remove:\n",
    "        root.remove(ts)\n",
    "    tree.write(path)\n",
    "    with open(path, 'r') as f:\n",
    "        xml_str = f.read()\n",
    "    pretty_xml = xml.dom.minidom.parseString(xml_str).toprettyxml(indent=\"  \")\n",
    "    pretty_xml_clean = remove_blank_lines(pretty_xml)\n",
    "    with open(path, 'w') as f:\n",
    "        f.write(pretty_xml_clean)\n",
    "    print(f\"✅ {len(to_remove)} ungültige Einträge entfernt.\")\n",
    "    \n",
    "    \n",
    "def validate_thread_entry(path, designation_en):\n",
    "    tree = ET.parse(path)\n",
    "    root = tree.getroot()\n",
    "    for ts in root.findall('ThreadSize'):\n",
    "        designation = ts.find('Designation/ThreadDesignation').text\n",
    "        if designation == designation_en:\n",
    "            size = ts.find('Size').text\n",
    "            pitch = ts.find('Designation/Pitch').text\n",
    "            threads = ts.find('Designation').findall('Thread')\n",
    "            gender_classes = [(t.find('Gender').text, t.find('Class').text) for t in threads]\n",
    "\n",
    "            missing_genders = []\n",
    "            for expected in [('external', '6g'), ('internal', '6H'), ('external', '4g6g')]:\n",
    "                if expected not in gender_classes:\n",
    "                    missing_genders.append(expected)\n",
    "\n",
    "            print(f\"🔍 Überprüfung von {designation_en}:\")\n",
    "            print(f\"  Size: {size}\")\n",
    "            print(f\"  Pitch: {pitch}\")\n",
    "            print(f\"  Gefundene Gender/Class: {gender_classes}\")\n",
    "\n",
    "            if not size or not pitch:\n",
    "                print(\"⚠️ Size oder Pitch fehlt oder ist leer!\")\n",
    "            if missing_genders:\n",
    "                print(f\"⚠️ Fehlende Gender/Class-Kombinationen: {missing_genders}\")\n",
    "            else:\n",
    "                print(\"✅ Alle Pflichtfelder und Gender/Class-Kombinationen vorhanden.\")\n",
    "            return\n",
    "    print(f\"❌ Eintrag {designation_en} nicht gefunden.\")\n",
    "\n",
    "def load_dropdown_options():\n",
    "    tree = ET.parse(xml_path)\n",
    "    root = tree.getroot()\n",
    "    options = ['<Neu laden>']\n",
    "    for thread_size in root.findall('ThreadSize'):\n",
    "        for designation in thread_size.findall('Designation'):\n",
    "            thread_designation = designation.find('ThreadDesignation').text\n",
    "            if thread_designation:\n",
    "                options.append(thread_designation)\n",
    "    thread_dropdown.options = options\n",
    "\n",
    "def delete_thread_from_xml(designation_en):\n",
    "    tree = ET.parse(xml_path)\n",
    "    root = tree.getroot()\n",
    "    found = False\n",
    "    for ts in root.findall('ThreadSize'):\n",
    "        designations = ts.findall('Designation')\n",
    "        for des in designations:\n",
    "            if des.find('ThreadDesignation').text == designation_en:\n",
    "                ts.remove(des)\n",
    "                found = True\n",
    "                break  # nur eine löschen\n",
    "        # Wenn danach keine Designation mehr drin ist → ganzen Block löschen\n",
    "        if len(ts.findall('Designation')) == 0:\n",
    "            root.remove(ts)\n",
    "    if found:\n",
    "        tree.write(xml_path)\n",
    "        print(f\"🗑️ Gewinde {designation_en} gelöscht.\")\n",
    "    else:\n",
    "        print(f\"⚠️ Gewinde {designation_en} nicht gefunden.\")\n",
    "   \n",
    "    \n",
    "\n",
    "\n",
    "def fill_fields_from_selection(change):\n",
    "    selection = change['new']\n",
    "    if selection == '<Neu laden>':\n",
    "        for w in all_widgets:\n",
    "            w.value = '' if isinstance(w, widgets.Text) else 0\n",
    "        selected_designation['value'] = None\n",
    "        return\n",
    "    \n",
    "    selected_designation['value'] = selection  # Merke ursprüngliche Auswahl\n",
    "\n",
    "    tree = ET.parse(xml_path)\n",
    "    root = tree.getroot()\n",
    "    for thread_size in root.findall('ThreadSize'):\n",
    "        for designation in thread_size.findall('Designation'):\n",
    "            thread_designation = designation.find('ThreadDesignation').text\n",
    "            if thread_designation == selection:\n",
    "                size.value = float(thread_size.find('Size').text)\n",
    "                designation_de.value = designation.find('CTD').text\n",
    "                designation_en.value = thread_designation\n",
    "                pitch.value = float(designation.find('Pitch').text)\n",
    "                for t in designation.findall('Thread'):\n",
    "                    gender = t.find('Gender').text\n",
    "                    cls = t.find('Class').text\n",
    "                    major = float(t.find('MajorDia').text)\n",
    "                    pitch_dia = float(t.find('PitchDia').text)\n",
    "                    minor = float(t.find('MinorDia').text)\n",
    "                    if gender == 'external' and cls == '6g':\n",
    "                        major_dia_ext.value, pitch_dia_ext.value, minor_dia_ext.value = major, pitch_dia, minor\n",
    "                    elif gender == 'internal' and cls == '6H':\n",
    "                        major_dia_int.value, pitch_dia_int.value, minor_dia_int.value = major, pitch_dia, minor\n",
    "                        tap_drill.value = float(t.find('TapDrill').text)\n",
    "                    elif gender == 'external' and cls == '4g6g':\n",
    "                        major_dia_4g6g.value, pitch_dia_4g6g.value, minor_dia_4g6g.value = major, pitch_dia, minor\n",
    "                break  # <--- nur diese Bezeichnung befüllen\n",
    "\n",
    "def add_thread_to_xml(path, size, designation_de, designation_en, pitch,\n",
    "                      major_dia_ext, pitch_dia_ext, minor_dia_ext,\n",
    "                      major_dia_int, pitch_dia_int, minor_dia_int,\n",
    "                      major_dia_4g6g, pitch_dia_4g6g, minor_dia_4g6g,\n",
    "                      tap_drill, old_designation=None):\n",
    "    tree = ET.parse(path)\n",
    "    root = tree.getroot()\n",
    "\n",
    "    # Finde oder erstelle passenden ThreadSize-Knoten\n",
    "    for ts in root.findall('ThreadSize'):\n",
    "        if ts.find('Size').text == str(size):\n",
    "            # Innerhalb des gefundenen Size-Blocks:\n",
    "            # Alte Designation entfernen, falls vorhanden\n",
    "            for des in ts.findall('Designation'):\n",
    "                if old_designation and des.find('ThreadDesignation').text == old_designation:\n",
    "                    ts.remove(des)\n",
    "                elif not old_designation and des.find('ThreadDesignation').text == designation_en:\n",
    "                    ts.remove(des)\n",
    "            target_ts = ts\n",
    "            break\n",
    "    else:\n",
    "        # Size-Block noch nicht vorhanden → neu anlegen\n",
    "        target_ts = ET.SubElement(root, 'ThreadSize')\n",
    "        ET.SubElement(target_ts, 'Size').text = str(size)\n",
    "\n",
    "    # Neue Designation anhängen\n",
    "    des_el = ET.SubElement(target_ts, 'Designation')\n",
    "    ET.SubElement(des_el, 'ThreadDesignation').text = designation_en\n",
    "    ET.SubElement(des_el, 'CTD').text = designation_de\n",
    "    ET.SubElement(des_el, 'Pitch').text = str(pitch)\n",
    "\n",
    "    for g, c, mj, pd, mn, tap in [\n",
    "        ('external', '6g', major_dia_ext, pitch_dia_ext, minor_dia_ext, None),\n",
    "        ('internal', '6H', major_dia_int, pitch_dia_int, minor_dia_int, tap_drill),\n",
    "        ('external', '4g6g', major_dia_4g6g, pitch_dia_4g6g, minor_dia_4g6g, None)\n",
    "    ]:\n",
    "        th = ET.SubElement(des_el, 'Thread')\n",
    "        ET.SubElement(th, 'Gender').text = g\n",
    "        ET.SubElement(th, 'Class').text = c\n",
    "        ET.SubElement(th, 'MajorDia').text = str(mj)\n",
    "        ET.SubElement(th, 'PitchDia').text = str(pd)\n",
    "        ET.SubElement(th, 'MinorDia').text = str(mn)\n",
    "        if tap is not None:\n",
    "            ET.SubElement(th, 'TapDrill').text = str(tap)\n",
    "\n",
    "    # Datei speichern + schön formatieren\n",
    "    tree.write(path)\n",
    "    with open(path, 'r') as f:\n",
    "        xml_str = f.read()\n",
    "    pretty_xml = xml.dom.minidom.parseString(xml_str).toprettyxml(indent=\"  \")\n",
    "    pretty_xml_clean = remove_blank_lines(pretty_xml)\n",
    "    with open(path, 'w') as f:\n",
    "        f.write(pretty_xml_clean)\n",
    "\n",
    "    print(f\"✅ Gewinde {designation_en} ({designation_de}) erfolgreich in {path} gespeichert und formatiert.\")\n",
    "    \n",
    "# --- Widgets und Layouts ---    \n",
    "field_layout = Layout(width='500px')\n",
    "vbox_layout = Layout(width='550px', margin='0 40px 20px 0')\n",
    "style = {'description_width': '350px'}\n",
    "\n",
    "# Widgets für die Eingabefelder\n",
    "thread_dropdown = widgets.Dropdown(description='Vorhandene Gewinde:', options=['<Neu laden>'], layout=field_layout, style=style)\n",
    "size = widgets.FloatText(description='Nenndurchmesser (Size):', layout=field_layout, style=style)\n",
    "designation_de = widgets.Text(description='Custom Thread designation:', layout=field_layout, style=style)\n",
    "designation_en = widgets.Text(description='Technical designation:', layout=field_layout, style=style)\n",
    "pitch = widgets.FloatText(description='Steigung (Pitch):', layout=field_layout, style=style)\n",
    "\n",
    "\n",
    "# Widgets für die Gewinde-Parameter\n",
    "label_ext_6g = widgets.HTML(value='<div style=\"text-align:right;\"><b>External 6g</b></div>')\n",
    "major_dia_ext, pitch_dia_ext, minor_dia_ext = [widgets.FloatText(description=d, layout=field_layout, style=style)\n",
    "                                               for d in ['MajorDia:', 'PitchDia:', 'MinorDia:']]\n",
    "\n",
    "label_int_6H = widgets.HTML(value='<div style=\"text-align:right;\"><b>Internal 6H</b></div>')\n",
    "major_dia_int, pitch_dia_int, minor_dia_int, tap_drill = [widgets.FloatText(description=d, layout=field_layout, style=style)\n",
    "                                                          for d in ['MajorDia:', 'PitchDia:', 'MinorDia:', 'TapDrill:']]\n",
    "\n",
    "label_ext_4g6g = widgets.HTML(value='<div style=\"text-align:right;\"><b>External 4g6g</b></div>')\n",
    "major_dia_4g6g, pitch_dia_4g6g, minor_dia_4g6g = [widgets.FloatText(description=d, layout=field_layout, style=style)\n",
    "                                                  for d in ['MajorDia:', 'PitchDia:', 'MinorDia:']]\n",
    "\n",
    "# Button-Widgets\n",
    "save_button = widgets.Button(description='Speichern', style=style)\n",
    "save_new_button = widgets.Button(description='Als neu speichern', style=style)\n",
    "delete_button = widgets.Button(description='Löschen', style=style)\n",
    "\n",
    "# Save-Buttons initial deaktivieren\n",
    "save_button.disabled = True\n",
    "save_new_button.disabled = True\n",
    "delete_button.disabled = True\n",
    "\n",
    "\n",
    "def on_save_clicked(b):\n",
    "    if save_button.disabled:\n",
    "        warn_if_disabled('Save')\n",
    "        return\n",
    "    original_designation = selected_designation['value']\n",
    "\n",
    "    if not original_designation:\n",
    "        print(\"⚠️ Kein Eintrag ausgewählt. Bitte zuerst aus Dropdown wählen.\")\n",
    "        return\n",
    "\n",
    "    # CDT ignorieren → stattdessen aus designation_en übernehmen\n",
    "    current_designation_en = designation_en.value\n",
    "    current_designation_de = current_designation_en  # gleichsetzen\n",
    "\n",
    "    # Speichern mit gleicher Technical und CDT Bezeichnung\n",
    "    add_thread_to_xml(xml_path, size.value, current_designation_de, current_designation_en, pitch.value,\n",
    "                      major_dia_ext.value, pitch_dia_ext.value, minor_dia_ext.value,\n",
    "                      major_dia_int.value, pitch_dia_int.value, minor_dia_int.value,\n",
    "                      major_dia_4g6g.value, pitch_dia_4g6g.value, minor_dia_4g6g.value,\n",
    "                      tap_drill.value, old_designation=original_designation)\n",
    "\n",
    "    load_dropdown_options()\n",
    "    thread_dropdown.value = original_designation\n",
    "\n",
    "    save_button.style.button_color = 'lightgreen'\n",
    "    save_new_button.style.button_color = ''\n",
    "    delete_button.style.button_color = ''\n",
    "    delete_button.style.button_color = ''\n",
    "\n",
    "def on_save_new_clicked(b):\n",
    "    if save_new_button.disabled:\n",
    "        warn_if_disabled('Save as New')\n",
    "        return\n",
    "    base_name = designation_en.value.rstrip('_neu')\n",
    "    counter = 1\n",
    "    new_designation = f\"{base_name}_neu\"\n",
    "    existing_designations = [opt for opt in thread_dropdown.options if opt != '<Neu laden>']\n",
    "\n",
    "    while new_designation in existing_designations:\n",
    "        new_designation = f\"{base_name}_neu{counter}\"\n",
    "        counter += 1\n",
    "\n",
    "    # CDT gleichsetzen\n",
    "    current_designation_de = new_designation\n",
    "\n",
    "    designation_en.value = new_designation\n",
    "\n",
    "    add_thread_to_xml(xml_path, size.value, current_designation_de, new_designation, pitch.value,\n",
    "                      major_dia_ext.value, pitch_dia_ext.value, minor_dia_ext.value,\n",
    "                      major_dia_int.value, pitch_dia_int.value, minor_dia_int.value,\n",
    "                      major_dia_4g6g.value, pitch_dia_4g6g.value, minor_dia_4g6g.value,\n",
    "                      tap_drill.value)\n",
    "\n",
    "    load_dropdown_options()\n",
    "    thread_dropdown.value = new_designation\n",
    "\n",
    "    save_new_button.style.button_color = 'lightgreen'\n",
    "    save_button.style.button_color = ''\n",
    "    delete_button.style.button_color = ''\n",
    "\n",
    "\n",
    "def on_delete_clicked(b):\n",
    "    if delete_button.disabled:\n",
    "        warn_if_disabled('Delete')\n",
    "        return\n",
    "    delete_thread_from_xml(thread_dropdown.value)\n",
    "    load_dropdown_options()\n",
    "    thread_dropdown.value = '<Neu laden>'    \n",
    "\n",
    "save_button.on_click(on_save_clicked)\n",
    "save_new_button.on_click(on_save_new_clicked)\n",
    "delete_button.on_click(on_delete_clicked)\n",
    "\n",
    "button_box = VBox([save_button, save_new_button, delete_button])\n",
    "\n",
    "all_widgets = [size, designation_de, designation_en, pitch,\n",
    "               major_dia_ext, pitch_dia_ext, minor_dia_ext,\n",
    "               major_dia_int, pitch_dia_int, minor_dia_int, tap_drill,\n",
    "               major_dia_4g6g, pitch_dia_4g6g, minor_dia_4g6g]\n",
    "\n",
    "top_row = HBox([VBox([thread_dropdown, size, designation_en, pitch], layout=vbox_layout), button_box])\n",
    "\n",
    "# Lade Dropdown mit Fehlerbehandlung\n",
    "try:\n",
    "    load_dropdown_options()\n",
    "except Exception as e:\n",
    "    print(f\"⚠️ Fehler beim Laden der Dropdown-Optionen: {e}\")\n",
    "    thread_dropdown.options = ['<Neu laden>']\n",
    "\n",
    "# Setze Dropdown auf Startwert\n",
    "thread_dropdown.value = '<Neu laden>'\n",
    "thread_dropdown.observe(fill_fields_from_selection, names='value')\n",
    "\n",
    "\n",
    "\n",
    "def on_export_clicked(b):\n",
    "    export_xml()\n",
    "    clean_invalid_threads(xml_path)\n",
    "    status_label.value = f\"✅ Export aus Fusion abgeschlossen am {datetime.datetime.now().strftime('%d.%m.%Y %H:%M:%S')}\"\n",
    "    save_button.disabled = False\n",
    "    save_new_button.disabled = False\n",
    "    delete_button.disabled = False\n",
    "    save_button.description = labels[current_language['lang']]['save']\n",
    "    save_new_button.description = labels[current_language['lang']]['save_new']\n",
    "    delete_button.description = labels[current_language['lang']]['delete']\n",
    "    save_button.style.button_color = 'lightgreen'\n",
    "    save_new_button.style.button_color = 'lightgreen'\n",
    "    delete_button.style.button_color = 'lightgreen'\n",
    "    thread_dropdown.add_class('highlighted')\n",
    "    export_button.style.button_color = None  # Zurück auf neutral/grau\n",
    "    \n",
    "    \n",
    "def on_import_clicked(b):\n",
    "    subprocess.run(['./bin/sync_xml.sh', 'import'])\n",
    "    clean_invalid_threads(xml_path)\n",
    "    last_import_time[0] = datetime.datetime.now()\n",
    "    update_status_label()\n",
    "    status_label.value = f\"✅ Import in Fusion abgeschlossen am {last_import_time[0].strftime('%d.%m.%Y %H:%M:%S')}\"\n",
    "    save_button.style.button_color = 'lightgreen'\n",
    "    save_new_button.style.button_color = 'lightgreen'\n",
    "    delete_button.style.button_color = 'lightgreen'\n",
    "    thread_dropdown.add_class('highlighted')\n",
    "    \n",
    "def on_venv_clicked(b):\n",
    "    subprocess.run(['./bin/create_venv.sh'])\n",
    "    status_label.value = f\"✅ .venv neu erstellt: {datetime.datetime.now().strftime('%d.%m.%Y %H:%M:%S')}\"\n",
    "\n",
    "\n",
    "export_button.on_click(on_export_clicked)\n",
    "import_button.on_click(on_import_clicked)\n",
    "venv_button.on_click(on_venv_clicked)\n",
    "\n",
    "# Buttons initial auf Grün (Get XML) setzen\n",
    "export_button.style.button_color = 'lightgreen'\n",
    "\n",
    "\n",
    "# Letzter Importzeitpunkt\n",
    "last_import_time = [None]\n",
    "\n",
    "# 2. Statusleiste neben Sprachumschalter\n",
    "top_status_bar = HBox([toggle_lang_button, status_label], layout=Layout(align_items='center', margin='10px 0'))\n",
    "\n",
    "# GUI-Anordnung anpassen:\n",
    "# Sprachumschalter + Status oben\n",
    "display(top_status_bar)\n",
    "\n",
    "# obere Eingabezeile und Button-Block\n",
    "display(top_row)\n",
    "\n",
    "# Steuerbuttons (Export / Import / venv)\n",
    "display(control_buttons)\n",
    "\n",
    "# Gewinde-Bereiche\n",
    "display(\n",
    "    label_ext_6g, major_dia_ext, pitch_dia_ext, minor_dia_ext,\n",
    "    label_int_6H, major_dia_int, pitch_dia_int, minor_dia_int, tap_drill,\n",
    "    label_ext_4g6g, major_dia_4g6g, pitch_dia_4g6g, minor_dia_4g6g\n",
    ")\n",
    "\n",
    "# Unsichtbarer Spacer am Ende der App\n",
    "spacer = widgets.Box(layout=widgets.Layout(height='30px'))\n",
    "display(spacer)\n",
    "\n",
    "# Link-Block mit hilfreichen Ressourcen\n",
    "link_block = widgets.HTML(\n",
    "    value=\"\"\"\n",
    "    <p>\n",
    "        <b>Links:</b>\n",
    "        <a href=\"http://www.iso-gewinde.at/\" target=\"_blank\">ISO-Threads parametes (DE)</a> |\n",
    "        <a href=\"https://www.thorlabs.com/newgrouppage9.cfm?objectgroup_id=9015&utm_source=chatgpt.com\" target=\"_blank\">Thorlabs Thread Data (EN)</a> |\n",
    "        <a href=\"https://stargazerslounge.com/topic/346425-astro-threads-for-fusion-360/\" target=\"_blank\">Astro Threads for Fusion 360 - stargazerslounge</a> |\n",
    "        <a href=\"https://www.iceinspace.com.au/forum/archive/index.php/t-70937.html\" target=\"_blank\">Common Astro Equipment thread sizes - iceinspace</a> |<br/>\n",
    "        <a href=\"https://agenaastro.com/articles/guides/astronomy-threads-explained.html?srsltid=AfmBOop_W4InRgL2QBBAf7rG2PZWtRVhiJ4sXI1kZmSt_EZLOPOWn4gQ&utm_source=chatgpt.com\" target=\"_blank\">Agena Astro - Astronomy Threads Explained (EN)</a> |\n",
    "        <a href=\"https://agenaastro.com/articles/miscellaneous/a-primer-on-t-rings-and-t-adapters-for-astronomy-and-astrophotography.html?srsltid=AfmBOop7hEQzy0cUIz-UUNilJK-66gND52rkYHuMSoOBv9Wy2uEukAz8&utm_source=chatgpt.com\" target=\"_blank\">Agena Astro - T-Rings and T-Adapters (EN)</a> |\n",
    "        <a href=\"https://www.autodesk.com/support/technical/article/caas/sfdcarticles/sfdcarticles/Custom-Threads-in-Fusion-360.html\" target=\"_blank\">Autodesk Custom Threads plugin - paths win/max - Fusion</a>\n",
    "        \n",
    "        \n",
    "    </p>\n",
    "    \"\"\",\n",
    "    layout=widgets.Layout(margin='10px 0')\n",
    ")\n",
    "display(link_block)\n",
    "display(spacer)\n",
    "\n",
    "update_labels()\n",
    "\n",
    "\n"
   ]
  }
 ],
 "metadata": {
  "kernelspec": {
   "display_name": ".venv",
   "language": "python",
   "name": "python3"
  },
  "language_info": {
   "codemirror_mode": {
    "name": "ipython",
    "version": 3
   },
   "file_extension": ".py",
   "mimetype": "text/x-python",
   "name": "python",
   "nbconvert_exporter": "python",
   "pygments_lexer": "ipython3",
   "version": "3.13.3"
  }
 },
 "nbformat": 4,
 "nbformat_minor": 5
}
