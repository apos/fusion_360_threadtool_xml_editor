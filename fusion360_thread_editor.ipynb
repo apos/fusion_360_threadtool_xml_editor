{
 "cells": [
  {
   "cell_type": "markdown",
   "id": "4c989a17",
   "metadata": {},
   "source": [
    "# Fusion 360 Gewindetool – XML-Editor mit Jupyter Notebook"
   ]
  },
  {
   "cell_type": "markdown",
   "id": "auto-generated-project-desc",
   "metadata": {},
   "source": [
    "Dieses Projekt hilft dir, benutzerdefinierte Gewinde für Autodesk Fusion 360 einfach in eine XML-Datei einzutragen.\n",
    "Es verwendet ein interaktives Jupyter Notebook mit `ipywidgets`, um Eingaben auf Deutsch zu erfassen und korrekt in das englischsprachige XML-Format zu übertragen."
   ]
  },
  {
   "cell_type": "code",
   "execution_count": null,
   "id": "39a9101f",
   "metadata": {},
   "outputs": [
    {
     "data": {
      "text/html": [
       "<style>.highlighted select { border: 3px solid lightgreen !important; }</style>"
      ],
      "text/plain": [
       "<IPython.core.display.HTML object>"
      ]
     },
     "metadata": {},
     "output_type": "display_data"
    },
    {
     "data": {
      "application/vnd.jupyter.widget-view+json": {
       "model_id": "0422616e0d6247cfac7b79a3aee9516c",
       "version_major": 2,
       "version_minor": 0
      },
      "text/plain": [
       "HTML(value='<h1>Fusion 360 Gewindetool – XML-Editor mit Jupyter Notebook</h1>')"
      ]
     },
     "metadata": {},
     "output_type": "display_data"
    },
    {
     "data": {
      "application/vnd.jupyter.widget-view+json": {
       "model_id": "2013e9b7d6ff4d9284a2355b82e1db06",
       "version_major": 2,
       "version_minor": 0
      },
      "text/plain": [
       "HBox(children=(VBox(children=(Dropdown(description='Vorhandene Gewinde:', layout=Layout(width='500px'), option…"
      ]
     },
     "metadata": {},
     "output_type": "display_data"
    },
    {
     "data": {
      "application/vnd.jupyter.widget-view+json": {
       "model_id": "ad0bb59fb97b4cc686f41e10d65b7220",
       "version_major": 2,
       "version_minor": 0
      },
      "text/plain": [
       "HBox(children=(Button(description='Get XML from Fusion', style=ButtonStyle(button_color='lightgreen')), Button…"
      ]
     },
     "metadata": {},
     "output_type": "display_data"
    },
    {
     "data": {
      "application/vnd.jupyter.widget-view+json": {
       "model_id": "fba7ca86a96747dbac4bd58c71ee4e2f",
       "version_major": 2,
       "version_minor": 0
      },
      "text/plain": [
       "Label(value='⏳ Noch kein Export oder Import ausgeführt.')"
      ]
     },
     "metadata": {},
     "output_type": "display_data"
    },
    {
     "data": {
      "application/vnd.jupyter.widget-view+json": {
       "model_id": "bbcb2b7f1f0344899c9d9c10935737f3",
       "version_major": 2,
       "version_minor": 0
      },
      "text/plain": [
       "HTML(value='<div style=\"text-align:right;\"><b>External 6g</b></div>')"
      ]
     },
     "metadata": {},
     "output_type": "display_data"
    },
    {
     "data": {
      "application/vnd.jupyter.widget-view+json": {
       "model_id": "3a9c22d6a48b4b3e9da44ae0f6dc2a01",
       "version_major": 2,
       "version_minor": 0
      },
      "text/plain": [
       "FloatText(value=0.0, description='MajorDia:', layout=Layout(width='500px'), style=DescriptionStyle(description…"
      ]
     },
     "metadata": {},
     "output_type": "display_data"
    },
    {
     "data": {
      "application/vnd.jupyter.widget-view+json": {
       "model_id": "651386ec0976487a870344aa9623bba4",
       "version_major": 2,
       "version_minor": 0
      },
      "text/plain": [
       "FloatText(value=0.0, description='PitchDia:', layout=Layout(width='500px'), style=DescriptionStyle(description…"
      ]
     },
     "metadata": {},
     "output_type": "display_data"
    },
    {
     "data": {
      "application/vnd.jupyter.widget-view+json": {
       "model_id": "88adc3cdf4fd46ff835cf2919b197685",
       "version_major": 2,
       "version_minor": 0
      },
      "text/plain": [
       "FloatText(value=0.0, description='MinorDia:', layout=Layout(width='500px'), style=DescriptionStyle(description…"
      ]
     },
     "metadata": {},
     "output_type": "display_data"
    },
    {
     "data": {
      "application/vnd.jupyter.widget-view+json": {
       "model_id": "053d62a273cb4e1596567c0061d6dd7d",
       "version_major": 2,
       "version_minor": 0
      },
      "text/plain": [
       "HTML(value='<div style=\"text-align:right;\"><b>Internal 6H</b></div>')"
      ]
     },
     "metadata": {},
     "output_type": "display_data"
    },
    {
     "data": {
      "application/vnd.jupyter.widget-view+json": {
       "model_id": "849879930eb445de818b04c735f140a3",
       "version_major": 2,
       "version_minor": 0
      },
      "text/plain": [
       "FloatText(value=0.0, description='MajorDia:', layout=Layout(width='500px'), style=DescriptionStyle(description…"
      ]
     },
     "metadata": {},
     "output_type": "display_data"
    },
    {
     "data": {
      "application/vnd.jupyter.widget-view+json": {
       "model_id": "757fcf4c276b464cabb942aa7c1a12db",
       "version_major": 2,
       "version_minor": 0
      },
      "text/plain": [
       "FloatText(value=0.0, description='PitchDia:', layout=Layout(width='500px'), style=DescriptionStyle(description…"
      ]
     },
     "metadata": {},
     "output_type": "display_data"
    },
    {
     "data": {
      "application/vnd.jupyter.widget-view+json": {
       "model_id": "d948f1f41728461b8a65ae95fba946d4",
       "version_major": 2,
       "version_minor": 0
      },
      "text/plain": [
       "FloatText(value=0.0, description='MinorDia:', layout=Layout(width='500px'), style=DescriptionStyle(description…"
      ]
     },
     "metadata": {},
     "output_type": "display_data"
    },
    {
     "data": {
      "application/vnd.jupyter.widget-view+json": {
       "model_id": "041e39aa5c8a44f4b1ccdd43acd112d0",
       "version_major": 2,
       "version_minor": 0
      },
      "text/plain": [
       "FloatText(value=0.0, description='TapDrill:', layout=Layout(width='500px'), style=DescriptionStyle(description…"
      ]
     },
     "metadata": {},
     "output_type": "display_data"
    },
    {
     "data": {
      "application/vnd.jupyter.widget-view+json": {
       "model_id": "9b0b1e25fc1a484bbfc56e9828b8b53b",
       "version_major": 2,
       "version_minor": 0
      },
      "text/plain": [
       "HTML(value='<div style=\"text-align:right;\"><b>External 4g6g</b></div>')"
      ]
     },
     "metadata": {},
     "output_type": "display_data"
    },
    {
     "data": {
      "application/vnd.jupyter.widget-view+json": {
       "model_id": "319aaeb8c29243aa88fe3b98a08dfa7a",
       "version_major": 2,
       "version_minor": 0
      },
      "text/plain": [
       "FloatText(value=0.0, description='MajorDia:', layout=Layout(width='500px'), style=DescriptionStyle(description…"
      ]
     },
     "metadata": {},
     "output_type": "display_data"
    },
    {
     "data": {
      "application/vnd.jupyter.widget-view+json": {
       "model_id": "71be99d7a04741cbbf2d115e7ce58ca6",
       "version_major": 2,
       "version_minor": 0
      },
      "text/plain": [
       "FloatText(value=0.0, description='PitchDia:', layout=Layout(width='500px'), style=DescriptionStyle(description…"
      ]
     },
     "metadata": {},
     "output_type": "display_data"
    },
    {
     "data": {
      "application/vnd.jupyter.widget-view+json": {
       "model_id": "792be497f6e14b84a7c5a8fc8e7cf5c8",
       "version_major": 2,
       "version_minor": 0
      },
      "text/plain": [
       "FloatText(value=0.0, description='MinorDia:', layout=Layout(width='500px'), style=DescriptionStyle(description…"
      ]
     },
     "metadata": {},
     "output_type": "display_data"
    },
    {
     "data": {
      "application/vnd.jupyter.widget-view+json": {
       "model_id": "38eef172a9cf4342b0087af9f4a7cbc7",
       "version_major": 2,
       "version_minor": 0
      },
      "text/plain": [
       "Button(description='Switch to English', style=ButtonStyle())"
      ]
     },
     "metadata": {},
     "output_type": "display_data"
    },
    {
     "ename": "AttributeError",
     "evalue": "'NoneType' object has no attribute 'text'",
     "output_type": "error",
     "traceback": [
      "\u001b[31m---------------------------------------------------------------------------\u001b[39m",
      "\u001b[31mAttributeError\u001b[39m                            Traceback (most recent call last)",
      "\u001b[36mCell\u001b[39m\u001b[36m \u001b[39m\u001b[32mIn[19]\u001b[39m\u001b[32m, line 173\u001b[39m, in \u001b[36mon_save_new_clicked\u001b[39m\u001b[34m(b)\u001b[39m\n\u001b[32m    171\u001b[39m     counter += \u001b[32m1\u001b[39m\n\u001b[32m    172\u001b[39m designation_en.value = new_designation\n\u001b[32m--> \u001b[39m\u001b[32m173\u001b[39m \u001b[43madd_thread_to_xml\u001b[49m\u001b[43m(\u001b[49m\u001b[43mxml_path\u001b[49m\u001b[43m,\u001b[49m\u001b[43m \u001b[49m\u001b[43msize\u001b[49m\u001b[43m.\u001b[49m\u001b[43mvalue\u001b[49m\u001b[43m,\u001b[49m\u001b[43m \u001b[49m\u001b[43mdesignation_de\u001b[49m\u001b[43m.\u001b[49m\u001b[43mvalue\u001b[49m\u001b[43m,\u001b[49m\u001b[43m \u001b[49m\u001b[43mdesignation_en\u001b[49m\u001b[43m.\u001b[49m\u001b[43mvalue\u001b[49m\u001b[43m,\u001b[49m\u001b[43m \u001b[49m\u001b[43mpitch\u001b[49m\u001b[43m.\u001b[49m\u001b[43mvalue\u001b[49m\u001b[43m,\u001b[49m\n\u001b[32m    174\u001b[39m \u001b[43m                  \u001b[49m\u001b[43mmajor_dia_ext\u001b[49m\u001b[43m.\u001b[49m\u001b[43mvalue\u001b[49m\u001b[43m,\u001b[49m\u001b[43m \u001b[49m\u001b[43mpitch_dia_ext\u001b[49m\u001b[43m.\u001b[49m\u001b[43mvalue\u001b[49m\u001b[43m,\u001b[49m\u001b[43m \u001b[49m\u001b[43mminor_dia_ext\u001b[49m\u001b[43m.\u001b[49m\u001b[43mvalue\u001b[49m\u001b[43m,\u001b[49m\n\u001b[32m    175\u001b[39m \u001b[43m                  \u001b[49m\u001b[43mmajor_dia_int\u001b[49m\u001b[43m.\u001b[49m\u001b[43mvalue\u001b[49m\u001b[43m,\u001b[49m\u001b[43m \u001b[49m\u001b[43mpitch_dia_int\u001b[49m\u001b[43m.\u001b[49m\u001b[43mvalue\u001b[49m\u001b[43m,\u001b[49m\u001b[43m \u001b[49m\u001b[43mminor_dia_int\u001b[49m\u001b[43m.\u001b[49m\u001b[43mvalue\u001b[49m\u001b[43m,\u001b[49m\n\u001b[32m    176\u001b[39m \u001b[43m                  \u001b[49m\u001b[43mmajor_dia_4g6g\u001b[49m\u001b[43m.\u001b[49m\u001b[43mvalue\u001b[49m\u001b[43m,\u001b[49m\u001b[43m \u001b[49m\u001b[43mpitch_dia_4g6g\u001b[49m\u001b[43m.\u001b[49m\u001b[43mvalue\u001b[49m\u001b[43m,\u001b[49m\u001b[43m \u001b[49m\u001b[43mminor_dia_4g6g\u001b[49m\u001b[43m.\u001b[49m\u001b[43mvalue\u001b[49m\u001b[43m,\u001b[49m\n\u001b[32m    177\u001b[39m \u001b[43m                  \u001b[49m\u001b[43mtap_drill\u001b[49m\u001b[43m.\u001b[49m\u001b[43mvalue\u001b[49m\u001b[43m)\u001b[49m\n\u001b[32m    178\u001b[39m load_dropdown_options()\n\u001b[32m    179\u001b[39m thread_dropdown.value = designation_en.value\n",
      "\u001b[36mCell\u001b[39m\u001b[36m \u001b[39m\u001b[32mIn[19]\u001b[39m\u001b[32m, line 92\u001b[39m, in \u001b[36madd_thread_to_xml\u001b[39m\u001b[34m(path, size, designation_de, designation_en, pitch, major_dia_ext, pitch_dia_ext, minor_dia_ext, major_dia_int, pitch_dia_int, minor_dia_int, major_dia_4g6g, pitch_dia_4g6g, minor_dia_4g6g, tap_drill)\u001b[39m\n\u001b[32m     90\u001b[39m tree = ET.parse(path)\n\u001b[32m     91\u001b[39m root = tree.getroot()\n\u001b[32m---> \u001b[39m\u001b[32m92\u001b[39m root[:] = [ts \u001b[38;5;28;01mfor\u001b[39;00m ts \u001b[38;5;129;01min\u001b[39;00m root \u001b[38;5;28;01mif\u001b[39;00m \u001b[43mts\u001b[49m\u001b[43m.\u001b[49m\u001b[43mfind\u001b[49m\u001b[43m(\u001b[49m\u001b[33;43m'\u001b[39;49m\u001b[33;43mDesignation/ThreadDesignation\u001b[39;49m\u001b[33;43m'\u001b[39;49m\u001b[43m)\u001b[49m\u001b[43m.\u001b[49m\u001b[43mtext\u001b[49m != designation_en]\n\u001b[32m     93\u001b[39m ts = ET.SubElement(root, \u001b[33m'\u001b[39m\u001b[33mThreadSize\u001b[39m\u001b[33m'\u001b[39m)\n\u001b[32m     94\u001b[39m ET.SubElement(ts, \u001b[33m'\u001b[39m\u001b[33mSize\u001b[39m\u001b[33m'\u001b[39m).text = \u001b[38;5;28mstr\u001b[39m(size)\n",
      "\u001b[31mAttributeError\u001b[39m: 'NoneType' object has no attribute 'text'"
     ]
    },
    {
     "ename": "AttributeError",
     "evalue": "'NoneType' object has no attribute 'text'",
     "output_type": "error",
     "traceback": [
      "\u001b[31m---------------------------------------------------------------------------\u001b[39m",
      "\u001b[31mAttributeError\u001b[39m                            Traceback (most recent call last)",
      "\u001b[36mCell\u001b[39m\u001b[36m \u001b[39m\u001b[32mIn[19]\u001b[39m\u001b[32m, line 152\u001b[39m, in \u001b[36mon_save_clicked\u001b[39m\u001b[34m(b)\u001b[39m\n\u001b[32m    151\u001b[39m \u001b[38;5;28;01mdef\u001b[39;00m\u001b[38;5;250m \u001b[39m\u001b[34mon_save_clicked\u001b[39m(b):\n\u001b[32m--> \u001b[39m\u001b[32m152\u001b[39m     \u001b[43madd_thread_to_xml\u001b[49m\u001b[43m(\u001b[49m\u001b[43mxml_path\u001b[49m\u001b[43m,\u001b[49m\u001b[43m \u001b[49m\u001b[43msize\u001b[49m\u001b[43m.\u001b[49m\u001b[43mvalue\u001b[49m\u001b[43m,\u001b[49m\u001b[43m \u001b[49m\u001b[43mdesignation_de\u001b[49m\u001b[43m.\u001b[49m\u001b[43mvalue\u001b[49m\u001b[43m,\u001b[49m\u001b[43m \u001b[49m\u001b[43mdesignation_en\u001b[49m\u001b[43m.\u001b[49m\u001b[43mvalue\u001b[49m\u001b[43m,\u001b[49m\u001b[43m \u001b[49m\u001b[43mpitch\u001b[49m\u001b[43m.\u001b[49m\u001b[43mvalue\u001b[49m\u001b[43m,\u001b[49m\n\u001b[32m    153\u001b[39m \u001b[43m                      \u001b[49m\u001b[43mmajor_dia_ext\u001b[49m\u001b[43m.\u001b[49m\u001b[43mvalue\u001b[49m\u001b[43m,\u001b[49m\u001b[43m \u001b[49m\u001b[43mpitch_dia_ext\u001b[49m\u001b[43m.\u001b[49m\u001b[43mvalue\u001b[49m\u001b[43m,\u001b[49m\u001b[43m \u001b[49m\u001b[43mminor_dia_ext\u001b[49m\u001b[43m.\u001b[49m\u001b[43mvalue\u001b[49m\u001b[43m,\u001b[49m\n\u001b[32m    154\u001b[39m \u001b[43m                      \u001b[49m\u001b[43mmajor_dia_int\u001b[49m\u001b[43m.\u001b[49m\u001b[43mvalue\u001b[49m\u001b[43m,\u001b[49m\u001b[43m \u001b[49m\u001b[43mpitch_dia_int\u001b[49m\u001b[43m.\u001b[49m\u001b[43mvalue\u001b[49m\u001b[43m,\u001b[49m\u001b[43m \u001b[49m\u001b[43mminor_dia_int\u001b[49m\u001b[43m.\u001b[49m\u001b[43mvalue\u001b[49m\u001b[43m,\u001b[49m\n\u001b[32m    155\u001b[39m \u001b[43m                      \u001b[49m\u001b[43mmajor_dia_4g6g\u001b[49m\u001b[43m.\u001b[49m\u001b[43mvalue\u001b[49m\u001b[43m,\u001b[49m\u001b[43m \u001b[49m\u001b[43mpitch_dia_4g6g\u001b[49m\u001b[43m.\u001b[49m\u001b[43mvalue\u001b[49m\u001b[43m,\u001b[49m\u001b[43m \u001b[49m\u001b[43mminor_dia_4g6g\u001b[49m\u001b[43m.\u001b[49m\u001b[43mvalue\u001b[49m\u001b[43m,\u001b[49m\n\u001b[32m    156\u001b[39m \u001b[43m                      \u001b[49m\u001b[43mtap_drill\u001b[49m\u001b[43m.\u001b[49m\u001b[43mvalue\u001b[49m\u001b[43m)\u001b[49m\n\u001b[32m    157\u001b[39m     load_dropdown_options()\n\u001b[32m    158\u001b[39m     thread_dropdown.value = designation_en.value\n",
      "\u001b[36mCell\u001b[39m\u001b[36m \u001b[39m\u001b[32mIn[19]\u001b[39m\u001b[32m, line 92\u001b[39m, in \u001b[36madd_thread_to_xml\u001b[39m\u001b[34m(path, size, designation_de, designation_en, pitch, major_dia_ext, pitch_dia_ext, minor_dia_ext, major_dia_int, pitch_dia_int, minor_dia_int, major_dia_4g6g, pitch_dia_4g6g, minor_dia_4g6g, tap_drill)\u001b[39m\n\u001b[32m     90\u001b[39m tree = ET.parse(path)\n\u001b[32m     91\u001b[39m root = tree.getroot()\n\u001b[32m---> \u001b[39m\u001b[32m92\u001b[39m root[:] = [ts \u001b[38;5;28;01mfor\u001b[39;00m ts \u001b[38;5;129;01min\u001b[39;00m root \u001b[38;5;28;01mif\u001b[39;00m \u001b[43mts\u001b[49m\u001b[43m.\u001b[49m\u001b[43mfind\u001b[49m\u001b[43m(\u001b[49m\u001b[33;43m'\u001b[39;49m\u001b[33;43mDesignation/ThreadDesignation\u001b[39;49m\u001b[33;43m'\u001b[39;49m\u001b[43m)\u001b[49m\u001b[43m.\u001b[49m\u001b[43mtext\u001b[49m != designation_en]\n\u001b[32m     93\u001b[39m ts = ET.SubElement(root, \u001b[33m'\u001b[39m\u001b[33mThreadSize\u001b[39m\u001b[33m'\u001b[39m)\n\u001b[32m     94\u001b[39m ET.SubElement(ts, \u001b[33m'\u001b[39m\u001b[33mSize\u001b[39m\u001b[33m'\u001b[39m).text = \u001b[38;5;28mstr\u001b[39m(size)\n",
      "\u001b[31mAttributeError\u001b[39m: 'NoneType' object has no attribute 'text'"
     ]
    }
   ],
   "source": [
    "from IPython.display import display, HTML\n",
    "import ipywidgets as widgets\n",
    "from ipywidgets import Layout, HBox, VBox\n",
    "import xml.etree.ElementTree as ET\n",
    "import subprocess\n",
    "import datetime\n",
    "import threading\n",
    "import time\n",
    "import xml.dom.minidom\n",
    "\n",
    "# CSS hacks\n",
    "display(HTML(\"<style>.highlighted select { border: 3px solid lightgreen !important; }</style>\"))\n",
    "display(widgets.HTML(\"<h1>Fusion 360 Gewindetool – XML-Editor mit Jupyter Notebook</h1>\"))\n",
    "\n",
    "\n",
    "# Feste XML-Datei\n",
    "xml_path = 'data/AstroISOmetric.xml'\n",
    "\n",
    "def remove_blank_lines(xml_string):\n",
    "    lines = xml_string.split('\\n')\n",
    "    return '\\n'.join([line for line in lines if line.strip() != ''])\n",
    "\n",
    "def pretty_print_xml(path):\n",
    "    with open(path, 'r') as f:\n",
    "        xml_string = f.read()\n",
    "    parsed = xml.dom.minidom.parseString(xml_string)\n",
    "    with open(path, 'w') as f:\n",
    "        f.write(parsed.toprettyxml(indent=\"  \"))\n",
    "\n",
    "def load_dropdown_options():\n",
    "    tree = ET.parse(xml_path)\n",
    "    root = tree.getroot()\n",
    "    options = ['<Neu laden>']\n",
    "    for thread_size in root.findall('ThreadSize'):\n",
    "        designation = thread_size.find('Designation/ThreadDesignation').text\n",
    "        if designation:\n",
    "            options.append(designation)\n",
    "    thread_dropdown.options = options\n",
    "\n",
    "def delete_thread_from_xml(designation_en):\n",
    "    tree = ET.parse(xml_path)\n",
    "    root = tree.getroot()\n",
    "    for ts in root.findall('ThreadSize'):\n",
    "        if ts.find('Designation/ThreadDesignation').text == designation_en:\n",
    "            root.remove(ts)\n",
    "            tree.write(xml_path)\n",
    "            print(f\"🗑️ Gewinde {designation_en} gelöscht.\")\n",
    "            return\n",
    "    print(f\"⚠️ Gewinde {designation_en} nicht gefunden.\")\n",
    "\n",
    "def on_delete_clicked(b):\n",
    "    delete_thread_from_xml(thread_dropdown.value)\n",
    "    load_dropdown_options()\n",
    "    thread_dropdown.value = '<Neu laden>'\n",
    "\n",
    "def fill_fields_from_selection(change):\n",
    "    selection = change['new']\n",
    "    if selection == '<Neu laden>':\n",
    "        for w in all_widgets:\n",
    "            w.value = '' if isinstance(w, widgets.Text) else 0\n",
    "        return\n",
    "    tree = ET.parse(xml_path)\n",
    "    root = tree.getroot()\n",
    "    for thread_size in root.findall('ThreadSize'):\n",
    "        if thread_size.find('Designation/ThreadDesignation').text == selection:\n",
    "            size.value = float(thread_size.find('Size').text)\n",
    "            designation_de.value = thread_size.find('Designation/CTD').text\n",
    "            designation_en.value = selection\n",
    "            pitch.value = float(thread_size.find('Designation/Pitch').text)\n",
    "            for t in thread_size.find('Designation').findall('Thread'):\n",
    "                gender = t.find('Gender').text\n",
    "                cls = t.find('Class').text\n",
    "                major = float(t.find('MajorDia').text)\n",
    "                pitch_dia = float(t.find('PitchDia').text)\n",
    "                minor = float(t.find('MinorDia').text)\n",
    "                if gender == 'external' and cls == '6g':\n",
    "                    major_dia_ext.value, pitch_dia_ext.value, minor_dia_ext.value = major, pitch_dia, minor\n",
    "                elif gender == 'internal' and cls == '6H':\n",
    "                    major_dia_int.value, pitch_dia_int.value, minor_dia_int.value = major, pitch_dia, minor\n",
    "                    tap_drill.value = float(t.find('TapDrill').text)\n",
    "                elif gender == 'external' and cls == '4g6g':\n",
    "                    major_dia_4g6g.value, pitch_dia_4g6g.value, minor_dia_4g6g.value = major, pitch_dia, minor\n",
    "            break\n",
    "\n",
    "import xml.dom.minidom\n",
    "\n",
    "def remove_blank_lines(xml_string):\n",
    "    lines = xml_string.split('\\n')\n",
    "    non_empty_lines = [line for line in lines if line.strip() != '']\n",
    "    return '\\n'.join(non_empty_lines)\n",
    "\n",
    "def add_thread_to_xml(path, size, designation_de, designation_en, pitch,\n",
    "                      major_dia_ext, pitch_dia_ext, minor_dia_ext,\n",
    "                      major_dia_int, pitch_dia_int, minor_dia_int,\n",
    "                      major_dia_4g6g, pitch_dia_4g6g, minor_dia_4g6g,\n",
    "                      tap_drill):\n",
    "    tree = ET.parse(path)\n",
    "    root = tree.getroot()\n",
    "\n",
    "    for ts in root.findall('ThreadSize'):\n",
    "        desig = ts.find('Designation/ThreadDesignation').text\n",
    "        if desig == designation_en:\n",
    "            root.remove(ts)\n",
    "\n",
    "    thread_size = ET.SubElement(root, 'ThreadSize')\n",
    "    ET.SubElement(thread_size, 'Size').text = str(size)\n",
    "    designation_el = ET.SubElement(thread_size, 'Designation')\n",
    "    ET.SubElement(designation_el, 'ThreadDesignation').text = designation_en\n",
    "    ET.SubElement(designation_el, 'CTD').text = designation_de\n",
    "    ET.SubElement(designation_el, 'Pitch').text = str(pitch)\n",
    "\n",
    "    thread_ext = ET.SubElement(designation_el, 'Thread')\n",
    "    ET.SubElement(thread_ext, 'Gender').text = 'external'\n",
    "    ET.SubElement(thread_ext, 'Class').text = '6g'\n",
    "    ET.SubElement(thread_ext, 'MajorDia').text = str(major_dia_ext)\n",
    "    ET.SubElement(thread_ext, 'PitchDia').text = str(pitch_dia_ext)\n",
    "    ET.SubElement(thread_ext, 'MinorDia').text = str(minor_dia_ext)\n",
    "\n",
    "    thread_int = ET.SubElement(designation_el, 'Thread')\n",
    "    ET.SubElement(thread_int, 'Gender').text = 'internal'\n",
    "    ET.SubElement(thread_int, 'Class').text = '6H'\n",
    "    ET.SubElement(thread_int, 'MajorDia').text = str(major_dia_int)\n",
    "    ET.SubElement(thread_int, 'PitchDia').text = str(pitch_dia_int)\n",
    "    ET.SubElement(thread_int, 'MinorDia').text = str(minor_dia_int)\n",
    "    ET.SubElement(thread_int, 'TapDrill').text = str(tap_drill)\n",
    "\n",
    "    thread_ext_4g6g = ET.SubElement(designation_el, 'Thread')\n",
    "    ET.SubElement(thread_ext_4g6g, 'Gender').text = 'external'\n",
    "    ET.SubElement(thread_ext_4g6g, 'Class').text = '4g6g'\n",
    "    ET.SubElement(thread_ext_4g6g, 'MajorDia').text = str(major_dia_4g6g)\n",
    "    ET.SubElement(thread_ext_4g6g, 'PitchDia').text = str(pitch_dia_4g6g)\n",
    "    ET.SubElement(thread_ext_4g6g, 'MinorDia').text = str(minor_dia_4g6g)\n",
    "\n",
    "    tree.write(path)\n",
    "\n",
    "    # Schön formatieren ohne Leerzeilen\n",
    "    with open(path, 'r') as f:\n",
    "        xml_str = f.read()\n",
    "    pretty_xml = xml.dom.minidom.parseString(xml_str).toprettyxml(indent=\"  \")\n",
    "    pretty_xml_clean = remove_blank_lines(pretty_xml)\n",
    "    with open(path, 'w') as f:\n",
    "        f.write(pretty_xml_clean)\n",
    "\n",
    "    print(f\"✅ Gewinde {designation_en} ({designation_de}) erfolgreich in {path} gespeichert und formatiert.\")\n",
    "    \n",
    "# --- Widgets und Layouts ---    \n",
    "field_layout = Layout(width='500px')\n",
    "vbox_layout = Layout(width='550px', margin='0 40px 20px 0')\n",
    "style = {'description_width': '350px'}\n",
    "\n",
    "# Widgets für die Eingabefelder\n",
    "thread_dropdown = widgets.Dropdown(description='Vorhandene Gewinde:', options=['<Neu laden>'], layout=field_layout, style=style)\n",
    "size = widgets.FloatText(description='Nenndurchmesser (Size):', layout=field_layout, style=style)\n",
    "designation_de = widgets.Text(description='Custom Thread designation:', layout=field_layout, style=style)\n",
    "designation_en = widgets.Text(description='Technical designation:', layout=field_layout, style=style)\n",
    "pitch = widgets.FloatText(description='Steigung (Pitch):', layout=field_layout, style=style)\n",
    "\n",
    "\n",
    "# Widgets für die Gewinde-Parameter\n",
    "label_ext_6g = widgets.HTML(value='<div style=\"text-align:right;\"><b>External 6g</b></div>')\n",
    "major_dia_ext, pitch_dia_ext, minor_dia_ext = [widgets.FloatText(description=d, layout=field_layout, style=style)\n",
    "                                               for d in ['MajorDia:', 'PitchDia:', 'MinorDia:']]\n",
    "\n",
    "label_int_6H = widgets.HTML(value='<div style=\"text-align:right;\"><b>Internal 6H</b></div>')\n",
    "major_dia_int, pitch_dia_int, minor_dia_int, tap_drill = [widgets.FloatText(description=d, layout=field_layout, style=style)\n",
    "                                                          for d in ['MajorDia:', 'PitchDia:', 'MinorDia:', 'TapDrill:']]\n",
    "\n",
    "label_ext_4g6g = widgets.HTML(value='<div style=\"text-align:right;\"><b>External 4g6g</b></div>')\n",
    "major_dia_4g6g, pitch_dia_4g6g, minor_dia_4g6g = [widgets.FloatText(description=d, layout=field_layout, style=style)\n",
    "                                                  for d in ['MajorDia:', 'PitchDia:', 'MinorDia:']]\n",
    "\n",
    "# Button-Widgets\n",
    "save_button = widgets.Button(description='Speichern', style=style)\n",
    "save_new_button = widgets.Button(description='Als neu speichern', style=style)\n",
    "delete_button = widgets.Button(description='Löschen', style=style)\n",
    "\n",
    "# Save-Buttons initial deaktivieren\n",
    "save_button.disabled = True\n",
    "save_new_button.disabled = True\n",
    "delete_button.disabled = True\n",
    "\n",
    "def on_save_clicked(b):\n",
    "    add_thread_to_xml(xml_path, size.value, designation_de.value, designation_en.value, pitch.value,\n",
    "                      major_dia_ext.value, pitch_dia_ext.value, minor_dia_ext.value,\n",
    "                      major_dia_int.value, pitch_dia_int.value, minor_dia_int.value,\n",
    "                      major_dia_4g6g.value, pitch_dia_4g6g.value, minor_dia_4g6g.value,\n",
    "                      tap_drill.value)\n",
    "    load_dropdown_options()\n",
    "    thread_dropdown.value = designation_en.value\n",
    "    save_button.style.button_color = 'lightgreen'\n",
    "    save_new_button.style.button_color = ''\n",
    "    delete_button.style.button_color = ''\n",
    "\n",
    "def on_save_new_clicked(b):\n",
    "    # Neue eindeutige Bezeichnung erzeugen (falls mehrfach geklickt)\n",
    "    base_name = designation_en.value.rstrip('_neu')\n",
    "    counter = 1\n",
    "    new_designation = f\"{base_name}_neu\"\n",
    "    existing_designations = [opt for opt in thread_dropdown.options if opt != '<Neu laden>']\n",
    "    while new_designation in existing_designations:\n",
    "        new_designation = f\"{base_name}_neu{counter}\"\n",
    "        counter += 1\n",
    "    designation_en.value = new_designation\n",
    "    add_thread_to_xml(xml_path, size.value, designation_de.value, designation_en.value, pitch.value,\n",
    "                      major_dia_ext.value, pitch_dia_ext.value, minor_dia_ext.value,\n",
    "                      major_dia_int.value, pitch_dia_int.value, minor_dia_int.value,\n",
    "                      major_dia_4g6g.value, pitch_dia_4g6g.value, minor_dia_4g6g.value,\n",
    "                      tap_drill.value)\n",
    "    load_dropdown_options()\n",
    "    thread_dropdown.value = designation_en.value\n",
    "    save_new_button.style.button_color = 'lightgreen'\n",
    "    save_button.style.button_color = ''\n",
    "    delete_button.style.button_color = ''\n",
    "\n",
    "save_button.on_click(on_save_clicked)\n",
    "save_new_button.on_click(on_save_new_clicked)\n",
    "delete_button.on_click(on_delete_clicked)\n",
    "\n",
    "button_box = VBox([save_button, save_new_button, delete_button])\n",
    "\n",
    "all_widgets = [size, designation_de, designation_en, pitch,\n",
    "               major_dia_ext, pitch_dia_ext, minor_dia_ext,\n",
    "               major_dia_int, pitch_dia_int, minor_dia_int, tap_drill,\n",
    "               major_dia_4g6g, pitch_dia_4g6g, minor_dia_4g6g]\n",
    "\n",
    "top_row = HBox([VBox([thread_dropdown, size, designation_de, designation_en, pitch], layout=vbox_layout), button_box])\n",
    "\n",
    "# Lade Dropdown mit Fehlerbehandlung\n",
    "try:\n",
    "    load_dropdown_options()\n",
    "except Exception as e:\n",
    "    print(f\"⚠️ Fehler beim Laden der Dropdown-Optionen: {e}\")\n",
    "    thread_dropdown.options = ['<Neu laden>']\n",
    "\n",
    "# Setze Dropdown auf Startwert\n",
    "thread_dropdown.value = '<Neu laden>'\n",
    "thread_dropdown.observe(fill_fields_from_selection, names='value')\n",
    "\n",
    "\n",
    "\n",
    "def on_export_clicked(b):\n",
    "    subprocess.run(['./bin/sync_xml.sh', 'export'])\n",
    "    status_label.value = f\"✅ Export aus Fusion abgeschlossen am {datetime.datetime.now().strftime('%d.%m.%Y %H:%M:%S')}\"\n",
    "    save_button.disabled = False\n",
    "    save_new_button.disabled = False\n",
    "    delete_button.disabled = False\n",
    "    save_button.style.button_color = 'lightgreen'\n",
    "    save_new_button.style.button_color = 'lightgreen'\n",
    "    delete_button.style.button_color = 'lightgreen'\n",
    "    thread_dropdown.add_class('highlighted')\n",
    "    export_button.style.button_color = None  # Zurück auf neutral/grau\n",
    "    \n",
    "    \n",
    "def on_import_clicked(b):\n",
    "    subprocess.run(['./bin/sync_xml.sh', 'import'])\n",
    "    last_import_time[0] = datetime.datetime.now()\n",
    "    update_status_label()\n",
    "    status_label.value = f\"✅ Import in Fusion abgeschlossen am {last_import_time[0].strftime('%d.%m.%Y %H:%M:%S')}\"\n",
    "    save_button.style.button_color = 'lightgreen'\n",
    "    save_new_button.style.button_color = 'lightgreen'\n",
    "    delete_button.style.button_color = 'lightgreen'\n",
    "    thread_dropdown.add_class('highlighted')\n",
    "    \n",
    "def on_venv_clicked(b):\n",
    "    subprocess.run(['./bin/create_venv.sh'])\n",
    "    status_label.value = f\"✅ .venv neu erstellt: {datetime.datetime.now().strftime('%d.%m.%Y %H:%M:%S')}\"\n",
    "\n",
    "# --- Neue Buttons für Export, Import, venv ---\n",
    "export_button = widgets.Button(description='Get XML from Fusion')\n",
    "import_button = widgets.Button(description='Patch Fusion XML')\n",
    "venv_button = widgets.Button(description='Rebuild .venv')\n",
    "status_label = widgets.Label(value='⏳ Noch kein Export oder Import ausgeführt.')\n",
    "control_buttons = HBox([export_button, import_button, venv_button])\n",
    "\n",
    "export_button.on_click(on_export_clicked)\n",
    "import_button.on_click(on_import_clicked)\n",
    "venv_button.on_click(on_venv_clicked)\n",
    "\n",
    "# Buttons initial auf Grün (Get XML) setzen\n",
    "export_button.style.button_color = 'lightgreen'\n",
    "\n",
    "\n",
    "# Sprachumschalter und Übersetzungen\n",
    "current_language = {'lang': 'DE'}\n",
    "\n",
    "labels = {\n",
    "    'DE': {\n",
    "        'thread_dropdown': 'Vorhandene Gewinde:',\n",
    "        'size': 'Nenndurchmesser (Size):',\n",
    "        'designation_de': 'Custom Thread designation - Freitext (CTD):',\n",
    "        'designation_en': 'Technische Bezeichnung (ThreadDesignation) z.B. M56x0.75:',\n",
    "        'pitch': 'Steigung (Pitch):',\n",
    "        'ext_6g': '<b>External 6g</b>',\n",
    "        'int_6H': '<b>Internal 6H</b>',\n",
    "        'ext_4g6g': '<b>External 4g6g</b>',\n",
    "        'save': 'Speichern',\n",
    "        'save_new': 'Als neu speichern',\n",
    "        'delete': 'Löschen',\n",
    "        'export': 'Get XML from Fusion',\n",
    "        'import': 'Patch Fusion XML',\n",
    "        'venv': 'Rebuild .venv',\n",
    "        'status': '⏳ Noch kein Export oder Import ausgeführt.'\n",
    "    },\n",
    "    'EN': {\n",
    "        'thread_dropdown': 'Existing Threads:',\n",
    "        'size': 'Nominal Diameter (Size):',\n",
    "        'designation_de': 'Custom Thread designation (free text, CTD):',\n",
    "        'designation_en': 'Technical designation (ThreadDesignation) e.g. M56x0.75:',\n",
    "        'pitch': 'Pitch:',\n",
    "        'ext_6g': '<b>External 6g</b>',\n",
    "        'int_6H': '<b>Internal 6H</b>',\n",
    "        'ext_4g6g': '<b>External 4g6g</b>',\n",
    "        'save': 'Save',\n",
    "        'save_new': 'Save as New',\n",
    "        'delete': 'Delete',\n",
    "        'export': 'Get XML from Fusion',\n",
    "        'import': 'Patch Fusion XML',\n",
    "        'venv': 'Rebuild .venv',\n",
    "        'status': '⏳ No export or import done yet.'\n",
    "    }\n",
    "}\n",
    "\n",
    "toggle_lang_button = widgets.Button(description='Switch to English')\n",
    "\n",
    "def update_labels():\n",
    "    lang = current_language['lang']\n",
    "    thread_dropdown.description = labels[lang]['thread_dropdown']\n",
    "    size.description = labels[lang]['size']\n",
    "    designation_de.description = labels[lang]['designation_de']\n",
    "    designation_en.description = labels[lang]['designation_en']\n",
    "    pitch.description = labels[lang]['pitch']\n",
    "    label_ext_6g.value = labels[lang]['ext_6g']\n",
    "    label_int_6H.value = labels[lang]['int_6H']\n",
    "    label_ext_4g6g.value = labels[lang]['ext_4g6g']\n",
    "    save_button.description = labels[lang]['save']\n",
    "    save_new_button.description = labels[lang]['save_new']\n",
    "    delete_button.description = labels[lang]['delete']\n",
    "    export_button.description = labels[lang]['export']\n",
    "    import_button.description = labels[lang]['import']\n",
    "    venv_button.description = labels[lang]['venv']\n",
    "    status_label.value = labels[lang]['status']\n",
    "\n",
    "def on_toggle_lang_clicked(b):\n",
    "    if current_language['lang'] == 'DE':\n",
    "        current_language['lang'] = 'EN'\n",
    "        toggle_lang_button.description = 'Auf Deutsch umschalten'\n",
    "    else:\n",
    "        current_language['lang'] = 'DE'\n",
    "        toggle_lang_button.description = 'Switch to English'\n",
    "    update_labels()\n",
    "\n",
    "toggle_lang_button.on_click(on_toggle_lang_clicked)\n",
    "\n",
    "# Letzter Importzeitpunkt\n",
    "last_import_time = [None]\n",
    "\n",
    "# obere Eingabezeile und Button-Block\n",
    "display(top_row)\n",
    "\n",
    "# Anzeige-Teil\n",
    "display(\n",
    "    control_buttons,\n",
    "    status_label,\n",
    ")\n",
    "\n",
    "# Gewinde-Bereiche anzeigen\n",
    "display(\n",
    "    label_ext_6g, major_dia_ext, pitch_dia_ext, minor_dia_ext,\n",
    "    label_int_6H, major_dia_int, pitch_dia_int, minor_dia_int, tap_drill,\n",
    "    label_ext_4g6g, major_dia_4g6g, pitch_dia_4g6g, minor_dia_4g6g\n",
    ")\n",
    "\n",
    "# Sprachumschalter anzeigen\n",
    "display(toggle_lang_button)\n",
    "update_labels()\n",
    "\n"
   ]
  }
 ],
 "metadata": {
  "kernelspec": {
   "display_name": ".venv",
   "language": "python",
   "name": "python3"
  },
  "language_info": {
   "codemirror_mode": {
    "name": "ipython",
    "version": 3
   },
   "file_extension": ".py",
   "mimetype": "text/x-python",
   "name": "python",
   "nbconvert_exporter": "python",
   "pygments_lexer": "ipython3",
   "version": "3.13.3"
  }
 },
 "nbformat": 4,
 "nbformat_minor": 5
}
