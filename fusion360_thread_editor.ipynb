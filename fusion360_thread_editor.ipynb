{
 "cells": [
  {
   "cell_type": "markdown",
   "id": "4c989a17",
   "metadata": {},
   "source": [
    "# Fusion 360 Gewindetool – XML-Editor mit Jupyter Notebook"
   ]
  },
  {
   "cell_type": "markdown",
   "id": "auto-generated-project-desc",
   "metadata": {},
   "source": [
    "Dieses Projekt hilft dir, benutzerdefinierte Gewinde für Autodesk Fusion 360 einfach in eine XML-Datei einzutragen.\n",
    "Es verwendet ein interaktives Jupyter Notebook mit `ipywidgets`, um Eingaben auf Deutsch zu erfassen und korrekt in das englischsprachige XML-Format zu übertragen."
   ]
  },
  {
   "cell_type": "code",
   "execution_count": null,
   "id": "39a9101f",
   "metadata": {},
   "outputs": [
    {
     "data": {
      "text/html": [
       "<style>.highlighted select { border: 3px solid lightgreen !important; }</style>"
      ],
      "text/plain": [
       "<IPython.core.display.HTML object>"
      ]
     },
     "metadata": {},
     "output_type": "display_data"
    },
    {
     "data": {
      "application/vnd.jupyter.widget-view+json": {
       "model_id": "4a9beb4265bf48a1b4f36c87c3db3717",
       "version_major": 2,
       "version_minor": 0
      },
      "text/plain": [
       "HTML(value='<h1>Fusion 360 Gewindetool – XML-Editor mit Jupyter Notebook</h1>')"
      ]
     },
     "metadata": {},
     "output_type": "display_data"
    },
    {
     "data": {
      "application/vnd.jupyter.widget-view+json": {
       "model_id": "9e7fe775b02a4498a875275dd736779e",
       "version_major": 2,
       "version_minor": 0
      },
      "text/plain": [
       "Button(description='🇩🇪 Auf Deutsch umschalten', style=ButtonStyle())"
      ]
     },
     "metadata": {},
     "output_type": "display_data"
    },
    {
     "data": {
      "application/vnd.jupyter.widget-view+json": {
       "model_id": "fd8fe8268a804583b0e14af93756e634",
       "version_major": 2,
       "version_minor": 0
      },
      "text/plain": [
       "HBox(children=(VBox(children=(Dropdown(description='Vorhandene Gewinde:', layout=Layout(width='500px'), option…"
      ]
     },
     "metadata": {},
     "output_type": "display_data"
    },
    {
     "data": {
      "application/vnd.jupyter.widget-view+json": {
       "model_id": "22919c7ad7264d6da04ba8de576b7233",
       "version_major": 2,
       "version_minor": 0
      },
      "text/plain": [
       "HBox(children=(Button(description='Get XML from Fusion', style=ButtonStyle(button_color='lightgreen')), Button…"
      ]
     },
     "metadata": {},
     "output_type": "display_data"
    },
    {
     "data": {
      "application/vnd.jupyter.widget-view+json": {
       "model_id": "cebae6fbbe274c58b94526d92dba0715",
       "version_major": 2,
       "version_minor": 0
      },
      "text/plain": [
       "Label(value='⏳ Noch kein Export oder Import ausgeführt.')"
      ]
     },
     "metadata": {},
     "output_type": "display_data"
    },
    {
     "data": {
      "application/vnd.jupyter.widget-view+json": {
       "model_id": "f3576fbd0446424ca73380c37d4dd116",
       "version_major": 2,
       "version_minor": 0
      },
      "text/plain": [
       "HTML(value='<div style=\"text-align:right;\"><b>External 6g</b></div>')"
      ]
     },
     "metadata": {},
     "output_type": "display_data"
    },
    {
     "data": {
      "application/vnd.jupyter.widget-view+json": {
       "model_id": "2589256f49ae4129b49087265f1f2ae2",
       "version_major": 2,
       "version_minor": 0
      },
      "text/plain": [
       "FloatText(value=0.0, description='MajorDia:', layout=Layout(width='500px'), style=DescriptionStyle(description…"
      ]
     },
     "metadata": {},
     "output_type": "display_data"
    },
    {
     "data": {
      "application/vnd.jupyter.widget-view+json": {
       "model_id": "d25d6d8d510741999a859c5c70b69707",
       "version_major": 2,
       "version_minor": 0
      },
      "text/plain": [
       "FloatText(value=0.0, description='PitchDia:', layout=Layout(width='500px'), style=DescriptionStyle(description…"
      ]
     },
     "metadata": {},
     "output_type": "display_data"
    },
    {
     "data": {
      "application/vnd.jupyter.widget-view+json": {
       "model_id": "642c43309abf4ec292b99ba4a3a2e360",
       "version_major": 2,
       "version_minor": 0
      },
      "text/plain": [
       "FloatText(value=0.0, description='MinorDia:', layout=Layout(width='500px'), style=DescriptionStyle(description…"
      ]
     },
     "metadata": {},
     "output_type": "display_data"
    },
    {
     "data": {
      "application/vnd.jupyter.widget-view+json": {
       "model_id": "b681cb6dc99640db96cc1159b68861ef",
       "version_major": 2,
       "version_minor": 0
      },
      "text/plain": [
       "HTML(value='<div style=\"text-align:right;\"><b>Internal 6H</b></div>')"
      ]
     },
     "metadata": {},
     "output_type": "display_data"
    },
    {
     "data": {
      "application/vnd.jupyter.widget-view+json": {
       "model_id": "0b75804af9324a75977ac18b98e4c031",
       "version_major": 2,
       "version_minor": 0
      },
      "text/plain": [
       "FloatText(value=0.0, description='MajorDia:', layout=Layout(width='500px'), style=DescriptionStyle(description…"
      ]
     },
     "metadata": {},
     "output_type": "display_data"
    },
    {
     "data": {
      "application/vnd.jupyter.widget-view+json": {
       "model_id": "32851032d43a4b21a376a06ca97bc0b2",
       "version_major": 2,
       "version_minor": 0
      },
      "text/plain": [
       "FloatText(value=0.0, description='PitchDia:', layout=Layout(width='500px'), style=DescriptionStyle(description…"
      ]
     },
     "metadata": {},
     "output_type": "display_data"
    },
    {
     "data": {
      "application/vnd.jupyter.widget-view+json": {
       "model_id": "4c20b1ff03ff48f4b08f56265efda26e",
       "version_major": 2,
       "version_minor": 0
      },
      "text/plain": [
       "FloatText(value=0.0, description='MinorDia:', layout=Layout(width='500px'), style=DescriptionStyle(description…"
      ]
     },
     "metadata": {},
     "output_type": "display_data"
    },
    {
     "data": {
      "application/vnd.jupyter.widget-view+json": {
       "model_id": "8d02611428c34d55b9a4d80a8197e29e",
       "version_major": 2,
       "version_minor": 0
      },
      "text/plain": [
       "FloatText(value=0.0, description='TapDrill:', layout=Layout(width='500px'), style=DescriptionStyle(description…"
      ]
     },
     "metadata": {},
     "output_type": "display_data"
    },
    {
     "data": {
      "application/vnd.jupyter.widget-view+json": {
       "model_id": "2e2ca16cc70545bbbc1ff49570a1c5d4",
       "version_major": 2,
       "version_minor": 0
      },
      "text/plain": [
       "HTML(value='<div style=\"text-align:right;\"><b>External 4g6g</b></div>')"
      ]
     },
     "metadata": {},
     "output_type": "display_data"
    },
    {
     "data": {
      "application/vnd.jupyter.widget-view+json": {
       "model_id": "ac8a55e631ae49e685f019fac34c750c",
       "version_major": 2,
       "version_minor": 0
      },
      "text/plain": [
       "FloatText(value=0.0, description='MajorDia:', layout=Layout(width='500px'), style=DescriptionStyle(description…"
      ]
     },
     "metadata": {},
     "output_type": "display_data"
    },
    {
     "data": {
      "application/vnd.jupyter.widget-view+json": {
       "model_id": "f631675763604544b0fa6a96804af0bf",
       "version_major": 2,
       "version_minor": 0
      },
      "text/plain": [
       "FloatText(value=0.0, description='PitchDia:', layout=Layout(width='500px'), style=DescriptionStyle(description…"
      ]
     },
     "metadata": {},
     "output_type": "display_data"
    },
    {
     "data": {
      "application/vnd.jupyter.widget-view+json": {
       "model_id": "31bd34156ce64f82b831dd7d6a3b8bd4",
       "version_major": 2,
       "version_minor": 0
      },
      "text/plain": [
       "FloatText(value=0.0, description='MinorDia:', layout=Layout(width='500px'), style=DescriptionStyle(description…"
      ]
     },
     "metadata": {},
     "output_type": "display_data"
    },
    {
     "data": {
      "application/vnd.jupyter.widget-view+json": {
       "model_id": "cae8a984cd464adfbd75ad6f2d658c93",
       "version_major": 2,
       "version_minor": 0
      },
      "text/plain": [
       "Box(layout=Layout(height='30px'))"
      ]
     },
     "metadata": {},
     "output_type": "display_data"
    },
    {
     "ename": "NameError",
     "evalue": "name 'original_designation' is not defined",
     "output_type": "error",
     "traceback": [
      "\u001b[31m---------------------------------------------------------------------------\u001b[39m",
      "\u001b[31mNameError\u001b[39m                                 Traceback (most recent call last)",
      "\u001b[36mCell\u001b[39m\u001b[36m \u001b[39m\u001b[32mIn[83]\u001b[39m\u001b[32m, line 336\u001b[39m, in \u001b[36mon_save_clicked\u001b[39m\u001b[34m(b)\u001b[39m\n\u001b[32m    333\u001b[39m current_designation_de = current_designation_en  \u001b[38;5;66;03m# CTD = ThreadDesignation\u001b[39;00m\n\u001b[32m    335\u001b[39m \u001b[38;5;66;03m# Speichern mit gleicher Technical und CDT Bezeichnung\u001b[39;00m\n\u001b[32m--> \u001b[39m\u001b[32m336\u001b[39m \u001b[43madd_thread_to_xml\u001b[49m\u001b[43m(\u001b[49m\u001b[43mxml_path\u001b[49m\u001b[43m,\u001b[49m\u001b[43m \u001b[49m\u001b[43msize\u001b[49m\u001b[43m.\u001b[49m\u001b[43mvalue\u001b[49m\u001b[43m,\u001b[49m\u001b[43m \u001b[49m\u001b[43mcurrent_designation_de\u001b[49m\u001b[43m,\u001b[49m\u001b[43m \u001b[49m\u001b[43mcurrent_designation_en\u001b[49m\u001b[43m,\u001b[49m\u001b[43m \u001b[49m\u001b[43mpitch\u001b[49m\u001b[43m.\u001b[49m\u001b[43mvalue\u001b[49m\u001b[43m,\u001b[49m\n\u001b[32m    337\u001b[39m \u001b[43m                  \u001b[49m\u001b[43mmajor_dia_ext\u001b[49m\u001b[43m.\u001b[49m\u001b[43mvalue\u001b[49m\u001b[43m,\u001b[49m\u001b[43m \u001b[49m\u001b[43mpitch_dia_ext\u001b[49m\u001b[43m.\u001b[49m\u001b[43mvalue\u001b[49m\u001b[43m,\u001b[49m\u001b[43m \u001b[49m\u001b[43mminor_dia_ext\u001b[49m\u001b[43m.\u001b[49m\u001b[43mvalue\u001b[49m\u001b[43m,\u001b[49m\n\u001b[32m    338\u001b[39m \u001b[43m                  \u001b[49m\u001b[43mmajor_dia_int\u001b[49m\u001b[43m.\u001b[49m\u001b[43mvalue\u001b[49m\u001b[43m,\u001b[49m\u001b[43m \u001b[49m\u001b[43mpitch_dia_int\u001b[49m\u001b[43m.\u001b[49m\u001b[43mvalue\u001b[49m\u001b[43m,\u001b[49m\u001b[43m \u001b[49m\u001b[43mminor_dia_int\u001b[49m\u001b[43m.\u001b[49m\u001b[43mvalue\u001b[49m\u001b[43m,\u001b[49m\n\u001b[32m    339\u001b[39m \u001b[43m                  \u001b[49m\u001b[43mmajor_dia_4g6g\u001b[49m\u001b[43m.\u001b[49m\u001b[43mvalue\u001b[49m\u001b[43m,\u001b[49m\u001b[43m \u001b[49m\u001b[43mpitch_dia_4g6g\u001b[49m\u001b[43m.\u001b[49m\u001b[43mvalue\u001b[49m\u001b[43m,\u001b[49m\u001b[43m \u001b[49m\u001b[43mminor_dia_4g6g\u001b[49m\u001b[43m.\u001b[49m\u001b[43mvalue\u001b[49m\u001b[43m,\u001b[49m\n\u001b[32m    340\u001b[39m \u001b[43m                  \u001b[49m\u001b[43mtap_drill\u001b[49m\u001b[43m.\u001b[49m\u001b[43mvalue\u001b[49m\u001b[43m)\u001b[49m\n\u001b[32m    342\u001b[39m load_dropdown_options()\n\u001b[32m    343\u001b[39m thread_dropdown.value = original_designation\n",
      "\u001b[36mCell\u001b[39m\u001b[36m \u001b[39m\u001b[32mIn[83]\u001b[39m\u001b[32m, line 250\u001b[39m, in \u001b[36madd_thread_to_xml\u001b[39m\u001b[34m(path, size, designation_de, designation_en, pitch, major_dia_ext, pitch_dia_ext, minor_dia_ext, major_dia_int, pitch_dia_int, minor_dia_int, major_dia_4g6g, pitch_dia_4g6g, minor_dia_4g6g, tap_drill, old_designation)\u001b[39m\n\u001b[32m    247\u001b[39m \u001b[38;5;28;01mif\u001b[39;00m ts.find(\u001b[33m'\u001b[39m\u001b[33mSize\u001b[39m\u001b[33m'\u001b[39m).text == \u001b[38;5;28mstr\u001b[39m(size):\n\u001b[32m    248\u001b[39m     \u001b[38;5;66;03m# Innerhalb der Größe prüfen und ggf. überschreiben\u001b[39;00m\n\u001b[32m    249\u001b[39m     \u001b[38;5;28;01mfor\u001b[39;00m des \u001b[38;5;129;01min\u001b[39;00m ts.findall(\u001b[33m'\u001b[39m\u001b[33mDesignation\u001b[39m\u001b[33m'\u001b[39m):\n\u001b[32m--> \u001b[39m\u001b[32m250\u001b[39m         \u001b[38;5;28;01mif\u001b[39;00m des.find(\u001b[33m'\u001b[39m\u001b[33mThreadDesignation\u001b[39m\u001b[33m'\u001b[39m).text == \u001b[43moriginal_designation\u001b[49m:\n\u001b[32m    251\u001b[39m             ts.remove(des)\n\u001b[32m    252\u001b[39m     target_ts = ts\n",
      "\u001b[31mNameError\u001b[39m: name 'original_designation' is not defined"
     ]
    },
    {
     "ename": "NameError",
     "evalue": "name 'original_designation' is not defined",
     "output_type": "error",
     "traceback": [
      "\u001b[31m---------------------------------------------------------------------------\u001b[39m",
      "\u001b[31mNameError\u001b[39m                                 Traceback (most recent call last)",
      "\u001b[36mCell\u001b[39m\u001b[36m \u001b[39m\u001b[32mIn[83]\u001b[39m\u001b[32m, line 336\u001b[39m, in \u001b[36mon_save_clicked\u001b[39m\u001b[34m(b)\u001b[39m\n\u001b[32m    333\u001b[39m current_designation_de = current_designation_en  \u001b[38;5;66;03m# CTD = ThreadDesignation\u001b[39;00m\n\u001b[32m    335\u001b[39m \u001b[38;5;66;03m# Speichern mit gleicher Technical und CDT Bezeichnung\u001b[39;00m\n\u001b[32m--> \u001b[39m\u001b[32m336\u001b[39m \u001b[43madd_thread_to_xml\u001b[49m\u001b[43m(\u001b[49m\u001b[43mxml_path\u001b[49m\u001b[43m,\u001b[49m\u001b[43m \u001b[49m\u001b[43msize\u001b[49m\u001b[43m.\u001b[49m\u001b[43mvalue\u001b[49m\u001b[43m,\u001b[49m\u001b[43m \u001b[49m\u001b[43mcurrent_designation_de\u001b[49m\u001b[43m,\u001b[49m\u001b[43m \u001b[49m\u001b[43mcurrent_designation_en\u001b[49m\u001b[43m,\u001b[49m\u001b[43m \u001b[49m\u001b[43mpitch\u001b[49m\u001b[43m.\u001b[49m\u001b[43mvalue\u001b[49m\u001b[43m,\u001b[49m\n\u001b[32m    337\u001b[39m \u001b[43m                  \u001b[49m\u001b[43mmajor_dia_ext\u001b[49m\u001b[43m.\u001b[49m\u001b[43mvalue\u001b[49m\u001b[43m,\u001b[49m\u001b[43m \u001b[49m\u001b[43mpitch_dia_ext\u001b[49m\u001b[43m.\u001b[49m\u001b[43mvalue\u001b[49m\u001b[43m,\u001b[49m\u001b[43m \u001b[49m\u001b[43mminor_dia_ext\u001b[49m\u001b[43m.\u001b[49m\u001b[43mvalue\u001b[49m\u001b[43m,\u001b[49m\n\u001b[32m    338\u001b[39m \u001b[43m                  \u001b[49m\u001b[43mmajor_dia_int\u001b[49m\u001b[43m.\u001b[49m\u001b[43mvalue\u001b[49m\u001b[43m,\u001b[49m\u001b[43m \u001b[49m\u001b[43mpitch_dia_int\u001b[49m\u001b[43m.\u001b[49m\u001b[43mvalue\u001b[49m\u001b[43m,\u001b[49m\u001b[43m \u001b[49m\u001b[43mminor_dia_int\u001b[49m\u001b[43m.\u001b[49m\u001b[43mvalue\u001b[49m\u001b[43m,\u001b[49m\n\u001b[32m    339\u001b[39m \u001b[43m                  \u001b[49m\u001b[43mmajor_dia_4g6g\u001b[49m\u001b[43m.\u001b[49m\u001b[43mvalue\u001b[49m\u001b[43m,\u001b[49m\u001b[43m \u001b[49m\u001b[43mpitch_dia_4g6g\u001b[49m\u001b[43m.\u001b[49m\u001b[43mvalue\u001b[49m\u001b[43m,\u001b[49m\u001b[43m \u001b[49m\u001b[43mminor_dia_4g6g\u001b[49m\u001b[43m.\u001b[49m\u001b[43mvalue\u001b[49m\u001b[43m,\u001b[49m\n\u001b[32m    340\u001b[39m \u001b[43m                  \u001b[49m\u001b[43mtap_drill\u001b[49m\u001b[43m.\u001b[49m\u001b[43mvalue\u001b[49m\u001b[43m)\u001b[49m\n\u001b[32m    342\u001b[39m load_dropdown_options()\n\u001b[32m    343\u001b[39m thread_dropdown.value = original_designation\n",
      "\u001b[36mCell\u001b[39m\u001b[36m \u001b[39m\u001b[32mIn[83]\u001b[39m\u001b[32m, line 250\u001b[39m, in \u001b[36madd_thread_to_xml\u001b[39m\u001b[34m(path, size, designation_de, designation_en, pitch, major_dia_ext, pitch_dia_ext, minor_dia_ext, major_dia_int, pitch_dia_int, minor_dia_int, major_dia_4g6g, pitch_dia_4g6g, minor_dia_4g6g, tap_drill, old_designation)\u001b[39m\n\u001b[32m    247\u001b[39m \u001b[38;5;28;01mif\u001b[39;00m ts.find(\u001b[33m'\u001b[39m\u001b[33mSize\u001b[39m\u001b[33m'\u001b[39m).text == \u001b[38;5;28mstr\u001b[39m(size):\n\u001b[32m    248\u001b[39m     \u001b[38;5;66;03m# Innerhalb der Größe prüfen und ggf. überschreiben\u001b[39;00m\n\u001b[32m    249\u001b[39m     \u001b[38;5;28;01mfor\u001b[39;00m des \u001b[38;5;129;01min\u001b[39;00m ts.findall(\u001b[33m'\u001b[39m\u001b[33mDesignation\u001b[39m\u001b[33m'\u001b[39m):\n\u001b[32m--> \u001b[39m\u001b[32m250\u001b[39m         \u001b[38;5;28;01mif\u001b[39;00m des.find(\u001b[33m'\u001b[39m\u001b[33mThreadDesignation\u001b[39m\u001b[33m'\u001b[39m).text == \u001b[43moriginal_designation\u001b[49m:\n\u001b[32m    251\u001b[39m             ts.remove(des)\n\u001b[32m    252\u001b[39m     target_ts = ts\n",
      "\u001b[31mNameError\u001b[39m: name 'original_designation' is not defined"
     ]
    },
    {
     "ename": "NameError",
     "evalue": "name 'original_designation' is not defined",
     "output_type": "error",
     "traceback": [
      "\u001b[31m---------------------------------------------------------------------------\u001b[39m",
      "\u001b[31mNameError\u001b[39m                                 Traceback (most recent call last)",
      "\u001b[36mCell\u001b[39m\u001b[36m \u001b[39m\u001b[32mIn[83]\u001b[39m\u001b[32m, line 336\u001b[39m, in \u001b[36mon_save_clicked\u001b[39m\u001b[34m(b)\u001b[39m\n\u001b[32m    333\u001b[39m current_designation_de = current_designation_en  \u001b[38;5;66;03m# CTD = ThreadDesignation\u001b[39;00m\n\u001b[32m    335\u001b[39m \u001b[38;5;66;03m# Speichern mit gleicher Technical und CDT Bezeichnung\u001b[39;00m\n\u001b[32m--> \u001b[39m\u001b[32m336\u001b[39m \u001b[43madd_thread_to_xml\u001b[49m\u001b[43m(\u001b[49m\u001b[43mxml_path\u001b[49m\u001b[43m,\u001b[49m\u001b[43m \u001b[49m\u001b[43msize\u001b[49m\u001b[43m.\u001b[49m\u001b[43mvalue\u001b[49m\u001b[43m,\u001b[49m\u001b[43m \u001b[49m\u001b[43mcurrent_designation_de\u001b[49m\u001b[43m,\u001b[49m\u001b[43m \u001b[49m\u001b[43mcurrent_designation_en\u001b[49m\u001b[43m,\u001b[49m\u001b[43m \u001b[49m\u001b[43mpitch\u001b[49m\u001b[43m.\u001b[49m\u001b[43mvalue\u001b[49m\u001b[43m,\u001b[49m\n\u001b[32m    337\u001b[39m \u001b[43m                  \u001b[49m\u001b[43mmajor_dia_ext\u001b[49m\u001b[43m.\u001b[49m\u001b[43mvalue\u001b[49m\u001b[43m,\u001b[49m\u001b[43m \u001b[49m\u001b[43mpitch_dia_ext\u001b[49m\u001b[43m.\u001b[49m\u001b[43mvalue\u001b[49m\u001b[43m,\u001b[49m\u001b[43m \u001b[49m\u001b[43mminor_dia_ext\u001b[49m\u001b[43m.\u001b[49m\u001b[43mvalue\u001b[49m\u001b[43m,\u001b[49m\n\u001b[32m    338\u001b[39m \u001b[43m                  \u001b[49m\u001b[43mmajor_dia_int\u001b[49m\u001b[43m.\u001b[49m\u001b[43mvalue\u001b[49m\u001b[43m,\u001b[49m\u001b[43m \u001b[49m\u001b[43mpitch_dia_int\u001b[49m\u001b[43m.\u001b[49m\u001b[43mvalue\u001b[49m\u001b[43m,\u001b[49m\u001b[43m \u001b[49m\u001b[43mminor_dia_int\u001b[49m\u001b[43m.\u001b[49m\u001b[43mvalue\u001b[49m\u001b[43m,\u001b[49m\n\u001b[32m    339\u001b[39m \u001b[43m                  \u001b[49m\u001b[43mmajor_dia_4g6g\u001b[49m\u001b[43m.\u001b[49m\u001b[43mvalue\u001b[49m\u001b[43m,\u001b[49m\u001b[43m \u001b[49m\u001b[43mpitch_dia_4g6g\u001b[49m\u001b[43m.\u001b[49m\u001b[43mvalue\u001b[49m\u001b[43m,\u001b[49m\u001b[43m \u001b[49m\u001b[43mminor_dia_4g6g\u001b[49m\u001b[43m.\u001b[49m\u001b[43mvalue\u001b[49m\u001b[43m,\u001b[49m\n\u001b[32m    340\u001b[39m \u001b[43m                  \u001b[49m\u001b[43mtap_drill\u001b[49m\u001b[43m.\u001b[49m\u001b[43mvalue\u001b[49m\u001b[43m)\u001b[49m\n\u001b[32m    342\u001b[39m load_dropdown_options()\n\u001b[32m    343\u001b[39m thread_dropdown.value = original_designation\n",
      "\u001b[36mCell\u001b[39m\u001b[36m \u001b[39m\u001b[32mIn[83]\u001b[39m\u001b[32m, line 250\u001b[39m, in \u001b[36madd_thread_to_xml\u001b[39m\u001b[34m(path, size, designation_de, designation_en, pitch, major_dia_ext, pitch_dia_ext, minor_dia_ext, major_dia_int, pitch_dia_int, minor_dia_int, major_dia_4g6g, pitch_dia_4g6g, minor_dia_4g6g, tap_drill, old_designation)\u001b[39m\n\u001b[32m    247\u001b[39m \u001b[38;5;28;01mif\u001b[39;00m ts.find(\u001b[33m'\u001b[39m\u001b[33mSize\u001b[39m\u001b[33m'\u001b[39m).text == \u001b[38;5;28mstr\u001b[39m(size):\n\u001b[32m    248\u001b[39m     \u001b[38;5;66;03m# Innerhalb der Größe prüfen und ggf. überschreiben\u001b[39;00m\n\u001b[32m    249\u001b[39m     \u001b[38;5;28;01mfor\u001b[39;00m des \u001b[38;5;129;01min\u001b[39;00m ts.findall(\u001b[33m'\u001b[39m\u001b[33mDesignation\u001b[39m\u001b[33m'\u001b[39m):\n\u001b[32m--> \u001b[39m\u001b[32m250\u001b[39m         \u001b[38;5;28;01mif\u001b[39;00m des.find(\u001b[33m'\u001b[39m\u001b[33mThreadDesignation\u001b[39m\u001b[33m'\u001b[39m).text == \u001b[43moriginal_designation\u001b[49m:\n\u001b[32m    251\u001b[39m             ts.remove(des)\n\u001b[32m    252\u001b[39m     target_ts = ts\n",
      "\u001b[31mNameError\u001b[39m: name 'original_designation' is not defined"
     ]
    },
    {
     "ename": "NameError",
     "evalue": "name 'original_designation' is not defined",
     "output_type": "error",
     "traceback": [
      "\u001b[31m---------------------------------------------------------------------------\u001b[39m",
      "\u001b[31mNameError\u001b[39m                                 Traceback (most recent call last)",
      "\u001b[36mCell\u001b[39m\u001b[36m \u001b[39m\u001b[32mIn[83]\u001b[39m\u001b[32m, line 336\u001b[39m, in \u001b[36mon_save_clicked\u001b[39m\u001b[34m(b)\u001b[39m\n\u001b[32m    333\u001b[39m current_designation_de = current_designation_en  \u001b[38;5;66;03m# CTD = ThreadDesignation\u001b[39;00m\n\u001b[32m    335\u001b[39m \u001b[38;5;66;03m# Speichern mit gleicher Technical und CDT Bezeichnung\u001b[39;00m\n\u001b[32m--> \u001b[39m\u001b[32m336\u001b[39m \u001b[43madd_thread_to_xml\u001b[49m\u001b[43m(\u001b[49m\u001b[43mxml_path\u001b[49m\u001b[43m,\u001b[49m\u001b[43m \u001b[49m\u001b[43msize\u001b[49m\u001b[43m.\u001b[49m\u001b[43mvalue\u001b[49m\u001b[43m,\u001b[49m\u001b[43m \u001b[49m\u001b[43mcurrent_designation_de\u001b[49m\u001b[43m,\u001b[49m\u001b[43m \u001b[49m\u001b[43mcurrent_designation_en\u001b[49m\u001b[43m,\u001b[49m\u001b[43m \u001b[49m\u001b[43mpitch\u001b[49m\u001b[43m.\u001b[49m\u001b[43mvalue\u001b[49m\u001b[43m,\u001b[49m\n\u001b[32m    337\u001b[39m \u001b[43m                  \u001b[49m\u001b[43mmajor_dia_ext\u001b[49m\u001b[43m.\u001b[49m\u001b[43mvalue\u001b[49m\u001b[43m,\u001b[49m\u001b[43m \u001b[49m\u001b[43mpitch_dia_ext\u001b[49m\u001b[43m.\u001b[49m\u001b[43mvalue\u001b[49m\u001b[43m,\u001b[49m\u001b[43m \u001b[49m\u001b[43mminor_dia_ext\u001b[49m\u001b[43m.\u001b[49m\u001b[43mvalue\u001b[49m\u001b[43m,\u001b[49m\n\u001b[32m    338\u001b[39m \u001b[43m                  \u001b[49m\u001b[43mmajor_dia_int\u001b[49m\u001b[43m.\u001b[49m\u001b[43mvalue\u001b[49m\u001b[43m,\u001b[49m\u001b[43m \u001b[49m\u001b[43mpitch_dia_int\u001b[49m\u001b[43m.\u001b[49m\u001b[43mvalue\u001b[49m\u001b[43m,\u001b[49m\u001b[43m \u001b[49m\u001b[43mminor_dia_int\u001b[49m\u001b[43m.\u001b[49m\u001b[43mvalue\u001b[49m\u001b[43m,\u001b[49m\n\u001b[32m    339\u001b[39m \u001b[43m                  \u001b[49m\u001b[43mmajor_dia_4g6g\u001b[49m\u001b[43m.\u001b[49m\u001b[43mvalue\u001b[49m\u001b[43m,\u001b[49m\u001b[43m \u001b[49m\u001b[43mpitch_dia_4g6g\u001b[49m\u001b[43m.\u001b[49m\u001b[43mvalue\u001b[49m\u001b[43m,\u001b[49m\u001b[43m \u001b[49m\u001b[43mminor_dia_4g6g\u001b[49m\u001b[43m.\u001b[49m\u001b[43mvalue\u001b[49m\u001b[43m,\u001b[49m\n\u001b[32m    340\u001b[39m \u001b[43m                  \u001b[49m\u001b[43mtap_drill\u001b[49m\u001b[43m.\u001b[49m\u001b[43mvalue\u001b[49m\u001b[43m)\u001b[49m\n\u001b[32m    342\u001b[39m load_dropdown_options()\n\u001b[32m    343\u001b[39m thread_dropdown.value = original_designation\n",
      "\u001b[36mCell\u001b[39m\u001b[36m \u001b[39m\u001b[32mIn[83]\u001b[39m\u001b[32m, line 250\u001b[39m, in \u001b[36madd_thread_to_xml\u001b[39m\u001b[34m(path, size, designation_de, designation_en, pitch, major_dia_ext, pitch_dia_ext, minor_dia_ext, major_dia_int, pitch_dia_int, minor_dia_int, major_dia_4g6g, pitch_dia_4g6g, minor_dia_4g6g, tap_drill, old_designation)\u001b[39m\n\u001b[32m    247\u001b[39m \u001b[38;5;28;01mif\u001b[39;00m ts.find(\u001b[33m'\u001b[39m\u001b[33mSize\u001b[39m\u001b[33m'\u001b[39m).text == \u001b[38;5;28mstr\u001b[39m(size):\n\u001b[32m    248\u001b[39m     \u001b[38;5;66;03m# Innerhalb der Größe prüfen und ggf. überschreiben\u001b[39;00m\n\u001b[32m    249\u001b[39m     \u001b[38;5;28;01mfor\u001b[39;00m des \u001b[38;5;129;01min\u001b[39;00m ts.findall(\u001b[33m'\u001b[39m\u001b[33mDesignation\u001b[39m\u001b[33m'\u001b[39m):\n\u001b[32m--> \u001b[39m\u001b[32m250\u001b[39m         \u001b[38;5;28;01mif\u001b[39;00m des.find(\u001b[33m'\u001b[39m\u001b[33mThreadDesignation\u001b[39m\u001b[33m'\u001b[39m).text == \u001b[43moriginal_designation\u001b[49m:\n\u001b[32m    251\u001b[39m             ts.remove(des)\n\u001b[32m    252\u001b[39m     target_ts = ts\n",
      "\u001b[31mNameError\u001b[39m: name 'original_designation' is not defined"
     ]
    },
    {
     "ename": "NameError",
     "evalue": "name 'original_designation' is not defined",
     "output_type": "error",
     "traceback": [
      "\u001b[31m---------------------------------------------------------------------------\u001b[39m",
      "\u001b[31mNameError\u001b[39m                                 Traceback (most recent call last)",
      "\u001b[36mCell\u001b[39m\u001b[36m \u001b[39m\u001b[32mIn[83]\u001b[39m\u001b[32m, line 336\u001b[39m, in \u001b[36mon_save_clicked\u001b[39m\u001b[34m(b)\u001b[39m\n\u001b[32m    333\u001b[39m current_designation_de = current_designation_en  \u001b[38;5;66;03m# CTD = ThreadDesignation\u001b[39;00m\n\u001b[32m    335\u001b[39m \u001b[38;5;66;03m# Speichern mit gleicher Technical und CDT Bezeichnung\u001b[39;00m\n\u001b[32m--> \u001b[39m\u001b[32m336\u001b[39m \u001b[43madd_thread_to_xml\u001b[49m\u001b[43m(\u001b[49m\u001b[43mxml_path\u001b[49m\u001b[43m,\u001b[49m\u001b[43m \u001b[49m\u001b[43msize\u001b[49m\u001b[43m.\u001b[49m\u001b[43mvalue\u001b[49m\u001b[43m,\u001b[49m\u001b[43m \u001b[49m\u001b[43mcurrent_designation_de\u001b[49m\u001b[43m,\u001b[49m\u001b[43m \u001b[49m\u001b[43mcurrent_designation_en\u001b[49m\u001b[43m,\u001b[49m\u001b[43m \u001b[49m\u001b[43mpitch\u001b[49m\u001b[43m.\u001b[49m\u001b[43mvalue\u001b[49m\u001b[43m,\u001b[49m\n\u001b[32m    337\u001b[39m \u001b[43m                  \u001b[49m\u001b[43mmajor_dia_ext\u001b[49m\u001b[43m.\u001b[49m\u001b[43mvalue\u001b[49m\u001b[43m,\u001b[49m\u001b[43m \u001b[49m\u001b[43mpitch_dia_ext\u001b[49m\u001b[43m.\u001b[49m\u001b[43mvalue\u001b[49m\u001b[43m,\u001b[49m\u001b[43m \u001b[49m\u001b[43mminor_dia_ext\u001b[49m\u001b[43m.\u001b[49m\u001b[43mvalue\u001b[49m\u001b[43m,\u001b[49m\n\u001b[32m    338\u001b[39m \u001b[43m                  \u001b[49m\u001b[43mmajor_dia_int\u001b[49m\u001b[43m.\u001b[49m\u001b[43mvalue\u001b[49m\u001b[43m,\u001b[49m\u001b[43m \u001b[49m\u001b[43mpitch_dia_int\u001b[49m\u001b[43m.\u001b[49m\u001b[43mvalue\u001b[49m\u001b[43m,\u001b[49m\u001b[43m \u001b[49m\u001b[43mminor_dia_int\u001b[49m\u001b[43m.\u001b[49m\u001b[43mvalue\u001b[49m\u001b[43m,\u001b[49m\n\u001b[32m    339\u001b[39m \u001b[43m                  \u001b[49m\u001b[43mmajor_dia_4g6g\u001b[49m\u001b[43m.\u001b[49m\u001b[43mvalue\u001b[49m\u001b[43m,\u001b[49m\u001b[43m \u001b[49m\u001b[43mpitch_dia_4g6g\u001b[49m\u001b[43m.\u001b[49m\u001b[43mvalue\u001b[49m\u001b[43m,\u001b[49m\u001b[43m \u001b[49m\u001b[43mminor_dia_4g6g\u001b[49m\u001b[43m.\u001b[49m\u001b[43mvalue\u001b[49m\u001b[43m,\u001b[49m\n\u001b[32m    340\u001b[39m \u001b[43m                  \u001b[49m\u001b[43mtap_drill\u001b[49m\u001b[43m.\u001b[49m\u001b[43mvalue\u001b[49m\u001b[43m)\u001b[49m\n\u001b[32m    342\u001b[39m load_dropdown_options()\n\u001b[32m    343\u001b[39m thread_dropdown.value = original_designation\n",
      "\u001b[36mCell\u001b[39m\u001b[36m \u001b[39m\u001b[32mIn[83]\u001b[39m\u001b[32m, line 250\u001b[39m, in \u001b[36madd_thread_to_xml\u001b[39m\u001b[34m(path, size, designation_de, designation_en, pitch, major_dia_ext, pitch_dia_ext, minor_dia_ext, major_dia_int, pitch_dia_int, minor_dia_int, major_dia_4g6g, pitch_dia_4g6g, minor_dia_4g6g, tap_drill, old_designation)\u001b[39m\n\u001b[32m    247\u001b[39m \u001b[38;5;28;01mif\u001b[39;00m ts.find(\u001b[33m'\u001b[39m\u001b[33mSize\u001b[39m\u001b[33m'\u001b[39m).text == \u001b[38;5;28mstr\u001b[39m(size):\n\u001b[32m    248\u001b[39m     \u001b[38;5;66;03m# Innerhalb der Größe prüfen und ggf. überschreiben\u001b[39;00m\n\u001b[32m    249\u001b[39m     \u001b[38;5;28;01mfor\u001b[39;00m des \u001b[38;5;129;01min\u001b[39;00m ts.findall(\u001b[33m'\u001b[39m\u001b[33mDesignation\u001b[39m\u001b[33m'\u001b[39m):\n\u001b[32m--> \u001b[39m\u001b[32m250\u001b[39m         \u001b[38;5;28;01mif\u001b[39;00m des.find(\u001b[33m'\u001b[39m\u001b[33mThreadDesignation\u001b[39m\u001b[33m'\u001b[39m).text == \u001b[43moriginal_designation\u001b[49m:\n\u001b[32m    251\u001b[39m             ts.remove(des)\n\u001b[32m    252\u001b[39m     target_ts = ts\n",
      "\u001b[31mNameError\u001b[39m: name 'original_designation' is not defined"
     ]
    }
   ],
   "source": [
    "from IPython.display import display, HTML\n",
    "import ipywidgets as widgets\n",
    "from ipywidgets import Layout, HBox, VBox\n",
    "import xml.etree.ElementTree as ET\n",
    "import subprocess\n",
    "import datetime\n",
    "import threading\n",
    "import time\n",
    "import xml.dom.minidom\n",
    "\n",
    "\n",
    "# Sprachumschalter und Übersetzungen\n",
    "current_language = {'lang': 'EN'}\n",
    "selected_designation = {'value': None}\n",
    "\n",
    "labels = {\n",
    "    'DE': {\n",
    "        'headline': 'Fusion 360 Gewindetool – XML-Editor mit Jupyter Notebook',\n",
    "        'thread_dropdown': 'Vorhandene Gewinde:',\n",
    "        'size': 'Nenndurchmesser (Size):',\n",
    "        'designation_de': 'Custom Thread designation - Freitext (CTD):',\n",
    "        'designation_en': 'Technische Bezeichnung (ThreadDesignation) z.B. M56x0.75:',\n",
    "        'pitch': 'Steigung (Pitch):',\n",
    "        'ext_6g': '<b>External 6g</b>',\n",
    "        'int_6H': '<b>Internal 6H</b>',\n",
    "        'ext_4g6g': '<b>External 4g6g</b>',\n",
    "        'save': 'Speichern',\n",
    "        'save_new': 'Als neu speichern',\n",
    "        'delete': 'Löschen',\n",
    "        'export': 'Get XML from Fusion',\n",
    "        'import': 'Patch Fusion XML',\n",
    "        'venv': 'Rebuild .venv',\n",
    "        'status': '⏳ Noch kein Export oder Import ausgeführt.'\n",
    "    },\n",
    "    'EN': {\n",
    "        'headline': 'Fusion 360 Thread Tool – XML Editor with Jupyter Notebook',\n",
    "        'thread_dropdown': 'Existing Threads:',\n",
    "        'size': 'Nominal Diameter (Size):',\n",
    "        'designation_de': 'Custom Thread designation (free text, CTD):',\n",
    "        'designation_en': 'Technical designation (ThreadDesignation) e.g. M56x0.75:',\n",
    "        'pitch': 'Pitch:',\n",
    "        'ext_6g': '<b>External 6g</b>',\n",
    "        'int_6H': '<b>Internal 6H</b>',\n",
    "        'ext_4g6g': '<b>External 4g6g</b>',\n",
    "        'save': 'Save',\n",
    "        'save_new': 'Save as New',\n",
    "        'delete': 'Delete',\n",
    "        'export': 'Get XML from Fusion',\n",
    "        'import': 'Patch Fusion XML',\n",
    "        'venv': 'Rebuild .venv',\n",
    "        'status': '⏳ No export or import done yet.'\n",
    "    }\n",
    "}\n",
    "\n",
    "# Headline Widget\n",
    "headline = widgets.HTML(value=f\"<h1>{labels[current_language['lang']]['headline']}</h1>\")\n",
    "# display(headline)\n",
    "\n",
    "# Sprachumschalter-Button mit Flaggen\n",
    "toggle_lang_button = widgets.Button(description='🇬🇧 / 🇩🇪')\n",
    "\n",
    "def update_labels():\n",
    "    lang = current_language['lang']\n",
    "    headline.value = f\"<h1>{labels[lang]['headline']}</h1>\"\n",
    "    thread_dropdown.description = labels[lang]['thread_dropdown']\n",
    "    size.description = labels[lang]['size']\n",
    "    designation_de.description = labels[lang]['designation_de']\n",
    "    designation_en.description = labels[lang]['designation_en']\n",
    "    pitch.description = labels[lang]['pitch']\n",
    "    label_ext_6g.value = labels[lang]['ext_6g']\n",
    "    label_int_6H.value = labels[lang]['int_6H']\n",
    "    label_ext_4g6g.value = labels[lang]['ext_4g6g']\n",
    "    save_button.description = labels[lang]['save']\n",
    "    save_new_button.description = labels[lang]['save_new']\n",
    "    delete_button.description = labels[lang]['delete']\n",
    "    export_button.description = labels[lang]['export']\n",
    "    import_button.description = labels[lang]['import']\n",
    "    venv_button.description = labels[lang]['venv']\n",
    "    status_label.value = labels[lang]['status']\n",
    "\n",
    "def on_toggle_lang_clicked(b):\n",
    "    if current_language['lang'] == 'EN':\n",
    "        current_language['lang'] = 'DE'\n",
    "        toggle_lang_button.description = '🇬🇧 Switch to English'\n",
    "    else:\n",
    "        current_language['lang'] = 'EN'\n",
    "        toggle_lang_button.description = '🇩🇪 Auf Deutsch umschalten'\n",
    "    update_labels()\n",
    "\n",
    "toggle_lang_button = widgets.Button(description='🇩🇪 Auf Deutsch umschalten')\n",
    "toggle_lang_button.on_click(on_toggle_lang_clicked)\n",
    "\n",
    "\n",
    "\n",
    "# CSS hacks\n",
    "display(HTML(\"<style>.highlighted select { border: 3px solid lightgreen !important; }</style>\"))\n",
    "headline = widgets.HTML(value=\"<h1>Fusion 360 Gewindetool – XML-Editor mit Jupyter Notebook</h1>\")\n",
    "display(headline)\n",
    "\n",
    "\n",
    "# Feste XML-Datei\n",
    "xml_path = 'data/AstroISOmetric.xml'\n",
    "\n",
    "def remove_blank_lines(xml_string):\n",
    "    lines = xml_string.split('\\n')\n",
    "    non_empty_lines = [line for line in lines if line.strip() != '']\n",
    "    return '\\n'.join(non_empty_lines)\n",
    "\n",
    "def pretty_print_xml(path):\n",
    "    with open(path, 'r') as f:\n",
    "        xml_string = f.read()\n",
    "    parsed = xml.dom.minidom.parseString(xml_string)\n",
    "    with open(path, 'w') as f:\n",
    "        f.write(parsed.toprettyxml(indent=\"  \"))\n",
    "\n",
    "            \n",
    "def clean_invalid_threads(path):\n",
    "    tree = ET.parse(path)\n",
    "    root = tree.getroot()\n",
    "    to_remove = []\n",
    "    for ts in root.findall('ThreadSize'):\n",
    "        size = ts.find('Size').text\n",
    "        pitch = ts.find('Designation/Pitch').text\n",
    "        designation = ts.find('Designation/ThreadDesignation').text\n",
    "        # Prüfen, ob leer, None oder null\n",
    "        if (designation is None or designation.strip() == '' or\n",
    "            size is None or size.strip() == '' or float(size) == 0.0 or\n",
    "            pitch is None or pitch.strip() == '' or float(pitch) == 0.0):\n",
    "            to_remove.append(ts)\n",
    "    # Entfernen\n",
    "    for ts in to_remove:\n",
    "        root.remove(ts)\n",
    "    tree.write(path)\n",
    "    pretty_print_xml(path)\n",
    "    print(f\"✅ {len(to_remove)} ungültige Einträge entfernt.\")\n",
    "    \n",
    "    \n",
    "def validate_thread_entry(path, designation_en):\n",
    "    tree = ET.parse(path)\n",
    "    root = tree.getroot()\n",
    "    for ts in root.findall('ThreadSize'):\n",
    "        designation = ts.find('Designation/ThreadDesignation').text\n",
    "        if designation == designation_en:\n",
    "            size = ts.find('Size').text\n",
    "            pitch = ts.find('Designation/Pitch').text\n",
    "            threads = ts.find('Designation').findall('Thread')\n",
    "            gender_classes = [(t.find('Gender').text, t.find('Class').text) for t in threads]\n",
    "\n",
    "            missing_genders = []\n",
    "            for expected in [('external', '6g'), ('internal', '6H'), ('external', '4g6g')]:\n",
    "                if expected not in gender_classes:\n",
    "                    missing_genders.append(expected)\n",
    "\n",
    "            print(f\"🔍 Überprüfung von {designation_en}:\")\n",
    "            print(f\"  Size: {size}\")\n",
    "            print(f\"  Pitch: {pitch}\")\n",
    "            print(f\"  Gefundene Gender/Class: {gender_classes}\")\n",
    "\n",
    "            if not size or not pitch:\n",
    "                print(\"⚠️ Size oder Pitch fehlt oder ist leer!\")\n",
    "            if missing_genders:\n",
    "                print(f\"⚠️ Fehlende Gender/Class-Kombinationen: {missing_genders}\")\n",
    "            else:\n",
    "                print(\"✅ Alle Pflichtfelder und Gender/Class-Kombinationen vorhanden.\")\n",
    "            return\n",
    "    print(f\"❌ Eintrag {designation_en} nicht gefunden.\")\n",
    "\n",
    "def load_dropdown_options():\n",
    "    tree = ET.parse(xml_path)\n",
    "    root = tree.getroot()\n",
    "    options = ['<Neu laden>']\n",
    "    for thread_size in root.findall('ThreadSize'):\n",
    "        for designation in thread_size.findall('Designation'):\n",
    "            thread_designation = designation.find('ThreadDesignation').text\n",
    "            if thread_designation:\n",
    "                options.append(thread_designation)\n",
    "    thread_dropdown.options = options\n",
    "\n",
    "def delete_thread_from_xml(designation_en):\n",
    "    tree = ET.parse(xml_path)\n",
    "    root = tree.getroot()\n",
    "    found = False\n",
    "    for ts in root.findall('ThreadSize'):\n",
    "        designations = ts.findall('Designation')\n",
    "        for des in designations:\n",
    "            if des.find('ThreadDesignation').text == designation_en:\n",
    "                ts.remove(des)\n",
    "                found = True\n",
    "                break  # nur eine löschen\n",
    "        # Wenn danach keine Designation mehr drin ist → ganzen Block löschen\n",
    "        if len(ts.findall('Designation')) == 0:\n",
    "            root.remove(ts)\n",
    "    if found:\n",
    "        tree.write(xml_path)\n",
    "        print(f\"🗑️ Gewinde {designation_en} gelöscht.\")\n",
    "    else:\n",
    "        print(f\"⚠️ Gewinde {designation_en} nicht gefunden.\")\n",
    "\n",
    "def on_delete_clicked(b):\n",
    "    delete_thread_from_xml(thread_dropdown.value)\n",
    "    load_dropdown_options()\n",
    "    thread_dropdown.value = '<Neu laden>'\n",
    "    \n",
    "    \n",
    "\n",
    "\n",
    "def fill_fields_from_selection(change):\n",
    "    selection = change['new']\n",
    "    if selection == '<Neu laden>':\n",
    "        for w in all_widgets:\n",
    "            w.value = '' if isinstance(w, widgets.Text) else 0\n",
    "        selected_designation['value'] = None\n",
    "        return\n",
    "    \n",
    "    selected_designation['value'] = selection  # Merke ursprüngliche Auswahl\n",
    "\n",
    "    tree = ET.parse(xml_path)\n",
    "    root = tree.getroot()\n",
    "    for thread_size in root.findall('ThreadSize'):\n",
    "        for designation in thread_size.findall('Designation'):\n",
    "            thread_designation = designation.find('ThreadDesignation').text\n",
    "            if thread_designation == selection:\n",
    "                size.value = float(thread_size.find('Size').text)\n",
    "                designation_de.value = designation.find('CTD').text\n",
    "                designation_en.value = thread_designation\n",
    "                pitch.value = float(designation.find('Pitch').text)\n",
    "                for t in designation.findall('Thread'):\n",
    "                    gender = t.find('Gender').text\n",
    "                    cls = t.find('Class').text\n",
    "                    major = float(t.find('MajorDia').text)\n",
    "                    pitch_dia = float(t.find('PitchDia').text)\n",
    "                    minor = float(t.find('MinorDia').text)\n",
    "                    if gender == 'external' and cls == '6g':\n",
    "                        major_dia_ext.value, pitch_dia_ext.value, minor_dia_ext.value = major, pitch_dia, minor\n",
    "                    elif gender == 'internal' and cls == '6H':\n",
    "                        major_dia_int.value, pitch_dia_int.value, minor_dia_int.value = major, pitch_dia, minor\n",
    "                        tap_drill.value = float(t.find('TapDrill').text)\n",
    "                    elif gender == 'external' and cls == '4g6g':\n",
    "                        major_dia_4g6g.value, pitch_dia_4g6g.value, minor_dia_4g6g.value = major, pitch_dia, minor\n",
    "                break  # <--- nur diese Bezeichnung befüllen\n",
    "\n",
    "def add_thread_to_xml(path, size, designation_de, designation_en, pitch,\n",
    "                      major_dia_ext, pitch_dia_ext, minor_dia_ext,\n",
    "                      major_dia_int, pitch_dia_int, minor_dia_int,\n",
    "                      major_dia_4g6g, pitch_dia_4g6g, minor_dia_4g6g,\n",
    "                      tap_drill, old_designation=None):\n",
    "    tree = ET.parse(path)\n",
    "    root = tree.getroot()\n",
    "\n",
    "    # Finde oder erstelle passenden ThreadSize-Knoten\n",
    "    for ts in root.findall('ThreadSize'):\n",
    "        if ts.find('Size').text == str(size):\n",
    "            # Innerhalb des gefundenen Size-Blocks:\n",
    "            # Alte Designation entfernen, falls vorhanden\n",
    "            for des in ts.findall('Designation'):\n",
    "                if old_designation and des.find('ThreadDesignation').text == old_designation:\n",
    "                    ts.remove(des)\n",
    "                elif not old_designation and des.find('ThreadDesignation').text == designation_en:\n",
    "                    ts.remove(des)\n",
    "            target_ts = ts\n",
    "            break\n",
    "    else:\n",
    "        # Size-Block noch nicht vorhanden → neu anlegen\n",
    "        target_ts = ET.SubElement(root, 'ThreadSize')\n",
    "        ET.SubElement(target_ts, 'Size').text = str(size)\n",
    "\n",
    "    # Neue Designation anhängen\n",
    "    des_el = ET.SubElement(target_ts, 'Designation')\n",
    "    ET.SubElement(des_el, 'ThreadDesignation').text = designation_en\n",
    "    ET.SubElement(des_el, 'CTD').text = designation_de\n",
    "    ET.SubElement(des_el, 'Pitch').text = str(pitch)\n",
    "\n",
    "    for g, c, mj, pd, mn, tap in [\n",
    "        ('external', '6g', major_dia_ext, pitch_dia_ext, minor_dia_ext, None),\n",
    "        ('internal', '6H', major_dia_int, pitch_dia_int, minor_dia_int, tap_drill),\n",
    "        ('external', '4g6g', major_dia_4g6g, pitch_dia_4g6g, minor_dia_4g6g, None)\n",
    "    ]:\n",
    "        th = ET.SubElement(des_el, 'Thread')\n",
    "        ET.SubElement(th, 'Gender').text = g\n",
    "        ET.SubElement(th, 'Class').text = c\n",
    "        ET.SubElement(th, 'MajorDia').text = str(mj)\n",
    "        ET.SubElement(th, 'PitchDia').text = str(pd)\n",
    "        ET.SubElement(th, 'MinorDia').text = str(mn)\n",
    "        if tap is not None:\n",
    "            ET.SubElement(th, 'TapDrill').text = str(tap)\n",
    "\n",
    "    # Datei speichern + schön formatieren\n",
    "    tree.write(path)\n",
    "    with open(path, 'r') as f:\n",
    "        xml_str = f.read()\n",
    "    pretty_xml = xml.dom.minidom.parseString(xml_str).toprettyxml(indent=\"  \")\n",
    "    pretty_xml_clean = remove_blank_lines(pretty_xml)\n",
    "    with open(path, 'w') as f:\n",
    "        f.write(pretty_xml_clean)\n",
    "\n",
    "    print(f\"✅ Gewinde {designation_en} ({designation_de}) erfolgreich in {path} gespeichert und formatiert.\")\n",
    "    \n",
    "# --- Widgets und Layouts ---    \n",
    "field_layout = Layout(width='500px')\n",
    "vbox_layout = Layout(width='550px', margin='0 40px 20px 0')\n",
    "style = {'description_width': '350px'}\n",
    "\n",
    "# Widgets für die Eingabefelder\n",
    "thread_dropdown = widgets.Dropdown(description='Vorhandene Gewinde:', options=['<Neu laden>'], layout=field_layout, style=style)\n",
    "size = widgets.FloatText(description='Nenndurchmesser (Size):', layout=field_layout, style=style)\n",
    "designation_de = widgets.Text(description='Custom Thread designation:', layout=field_layout, style=style)\n",
    "designation_en = widgets.Text(description='Technical designation:', layout=field_layout, style=style)\n",
    "pitch = widgets.FloatText(description='Steigung (Pitch):', layout=field_layout, style=style)\n",
    "\n",
    "\n",
    "# Widgets für die Gewinde-Parameter\n",
    "label_ext_6g = widgets.HTML(value='<div style=\"text-align:right;\"><b>External 6g</b></div>')\n",
    "major_dia_ext, pitch_dia_ext, minor_dia_ext = [widgets.FloatText(description=d, layout=field_layout, style=style)\n",
    "                                               for d in ['MajorDia:', 'PitchDia:', 'MinorDia:']]\n",
    "\n",
    "label_int_6H = widgets.HTML(value='<div style=\"text-align:right;\"><b>Internal 6H</b></div>')\n",
    "major_dia_int, pitch_dia_int, minor_dia_int, tap_drill = [widgets.FloatText(description=d, layout=field_layout, style=style)\n",
    "                                                          for d in ['MajorDia:', 'PitchDia:', 'MinorDia:', 'TapDrill:']]\n",
    "\n",
    "label_ext_4g6g = widgets.HTML(value='<div style=\"text-align:right;\"><b>External 4g6g</b></div>')\n",
    "major_dia_4g6g, pitch_dia_4g6g, minor_dia_4g6g = [widgets.FloatText(description=d, layout=field_layout, style=style)\n",
    "                                                  for d in ['MajorDia:', 'PitchDia:', 'MinorDia:']]\n",
    "\n",
    "# Button-Widgets\n",
    "save_button = widgets.Button(description='Speichern', style=style)\n",
    "save_new_button = widgets.Button(description='Als neu speichern', style=style)\n",
    "delete_button = widgets.Button(description='Löschen', style=style)\n",
    "\n",
    "# Save-Buttons initial deaktivieren\n",
    "save_button.disabled = True\n",
    "save_new_button.disabled = True\n",
    "delete_button.disabled = True\n",
    "\n",
    "def on_save_clicked(b):\n",
    "    original_designation = selected_designation['value']\n",
    "\n",
    "    if not original_designation:\n",
    "        print(\"⚠️ Kein Eintrag ausgewählt. Bitte zuerst aus Dropdown wählen.\")\n",
    "        return\n",
    "\n",
    "    # CDT ignorieren → stattdessen aus designation_en übernehmen\n",
    "    current_designation_en = designation_en.value\n",
    "    current_designation_de = current_designation_en  # gleichsetzen\n",
    "\n",
    "    # Speichern mit gleicher Technical und CDT Bezeichnung\n",
    "    add_thread_to_xml(xml_path, size.value, current_designation_de, current_designation_en, pitch.value,\n",
    "                      major_dia_ext.value, pitch_dia_ext.value, minor_dia_ext.value,\n",
    "                      major_dia_int.value, pitch_dia_int.value, minor_dia_int.value,\n",
    "                      major_dia_4g6g.value, pitch_dia_4g6g.value, minor_dia_4g6g.value,\n",
    "                      tap_drill.value, old_designation=original_designation)\n",
    "\n",
    "    load_dropdown_options()\n",
    "    thread_dropdown.value = original_designation\n",
    "\n",
    "    save_button.style.button_color = 'lightgreen'\n",
    "    save_new_button.style.button_color = ''\n",
    "    delete_button.style.button_color = ''\n",
    "    delete_button.style.button_color = ''\n",
    "\n",
    "def on_save_new_clicked(b):\n",
    "    base_name = designation_en.value.rstrip('_neu')\n",
    "    counter = 1\n",
    "    new_designation = f\"{base_name}_neu\"\n",
    "    existing_designations = [opt for opt in thread_dropdown.options if opt != '<Neu laden>']\n",
    "\n",
    "    while new_designation in existing_designations:\n",
    "        new_designation = f\"{base_name}_neu{counter}\"\n",
    "        counter += 1\n",
    "\n",
    "    # CDT gleichsetzen\n",
    "    current_designation_de = new_designation\n",
    "\n",
    "    designation_en.value = new_designation\n",
    "\n",
    "    add_thread_to_xml(xml_path, size.value, current_designation_de, new_designation, pitch.value,\n",
    "                      major_dia_ext.value, pitch_dia_ext.value, minor_dia_ext.value,\n",
    "                      major_dia_int.value, pitch_dia_int.value, minor_dia_int.value,\n",
    "                      major_dia_4g6g.value, pitch_dia_4g6g.value, minor_dia_4g6g.value,\n",
    "                      tap_drill.value)\n",
    "\n",
    "    load_dropdown_options()\n",
    "    thread_dropdown.value = new_designation\n",
    "\n",
    "    save_new_button.style.button_color = 'lightgreen'\n",
    "    save_button.style.button_color = ''\n",
    "    delete_button.style.button_color = ''\n",
    "    \n",
    "\n",
    "save_button.on_click(on_save_clicked)\n",
    "save_new_button.on_click(on_save_new_clicked)\n",
    "delete_button.on_click(on_delete_clicked)\n",
    "\n",
    "button_box = VBox([save_button, save_new_button, delete_button])\n",
    "\n",
    "all_widgets = [size, designation_de, designation_en, pitch,\n",
    "               major_dia_ext, pitch_dia_ext, minor_dia_ext,\n",
    "               major_dia_int, pitch_dia_int, minor_dia_int, tap_drill,\n",
    "               major_dia_4g6g, pitch_dia_4g6g, minor_dia_4g6g]\n",
    "\n",
    "top_row = HBox([VBox([thread_dropdown, size, designation_en, pitch], layout=vbox_layout), button_box])\n",
    "\n",
    "# Lade Dropdown mit Fehlerbehandlung\n",
    "try:\n",
    "    load_dropdown_options()\n",
    "except Exception as e:\n",
    "    print(f\"⚠️ Fehler beim Laden der Dropdown-Optionen: {e}\")\n",
    "    thread_dropdown.options = ['<Neu laden>']\n",
    "\n",
    "# Setze Dropdown auf Startwert\n",
    "thread_dropdown.value = '<Neu laden>'\n",
    "thread_dropdown.observe(fill_fields_from_selection, names='value')\n",
    "\n",
    "\n",
    "\n",
    "def on_export_clicked(b):\n",
    "    subprocess.run(['./bin/sync_xml.sh', 'export'])\n",
    "    clean_invalid_threads(xml_path)\n",
    "    status_label.value = f\"✅ Export aus Fusion abgeschlossen am {datetime.datetime.now().strftime('%d.%m.%Y %H:%M:%S')}\"\n",
    "    save_button.disabled = False\n",
    "    save_new_button.disabled = False\n",
    "    delete_button.disabled = False\n",
    "    save_button.style.button_color = 'lightgreen'\n",
    "    save_new_button.style.button_color = 'lightgreen'\n",
    "    delete_button.style.button_color = 'lightgreen'\n",
    "    thread_dropdown.add_class('highlighted')\n",
    "    export_button.style.button_color = None  # Zurück auf neutral/grau\n",
    "    \n",
    "    \n",
    "def on_import_clicked(b):\n",
    "    subprocess.run(['./bin/sync_xml.sh', 'import'])\n",
    "    clean_invalid_threads(xml_path)\n",
    "    last_import_time[0] = datetime.datetime.now()\n",
    "    update_status_label()\n",
    "    status_label.value = f\"✅ Import in Fusion abgeschlossen am {last_import_time[0].strftime('%d.%m.%Y %H:%M:%S')}\"\n",
    "    save_button.style.button_color = 'lightgreen'\n",
    "    save_new_button.style.button_color = 'lightgreen'\n",
    "    delete_button.style.button_color = 'lightgreen'\n",
    "    thread_dropdown.add_class('highlighted')\n",
    "    \n",
    "def on_venv_clicked(b):\n",
    "    subprocess.run(['./bin/create_venv.sh'])\n",
    "    status_label.value = f\"✅ .venv neu erstellt: {datetime.datetime.now().strftime('%d.%m.%Y %H:%M:%S')}\"\n",
    "\n",
    "# --- Neue Buttons für Export, Import, venv ---\n",
    "export_button = widgets.Button(description='Get XML from Fusion')\n",
    "import_button = widgets.Button(description='Patch Fusion XML')\n",
    "venv_button = widgets.Button(description='Rebuild .venv')\n",
    "status_label = widgets.Label(value='⏳ Noch kein Export oder Import ausgeführt.')\n",
    "control_buttons = HBox([export_button, import_button, venv_button])\n",
    "\n",
    "export_button.on_click(on_export_clicked)\n",
    "import_button.on_click(on_import_clicked)\n",
    "venv_button.on_click(on_venv_clicked)\n",
    "\n",
    "# Buttons initial auf Grün (Get XML) setzen\n",
    "export_button.style.button_color = 'lightgreen'\n",
    "\n",
    "\n",
    "# Letzter Importzeitpunkt\n",
    "last_import_time = [None]\n",
    "\n",
    "# Sprachumschalter anzeigen\n",
    "display(toggle_lang_button)\n",
    "\n",
    "# obere Eingabezeile und Button-Block\n",
    "display(top_row)\n",
    "\n",
    "# Anzeige-Teil\n",
    "display(\n",
    "    control_buttons,\n",
    "    status_label,\n",
    ")\n",
    "\n",
    "# Gewinde-Bereiche anzeigen\n",
    "display(\n",
    "    label_ext_6g, major_dia_ext, pitch_dia_ext, minor_dia_ext,\n",
    "    label_int_6H, major_dia_int, pitch_dia_int, minor_dia_int, tap_drill,\n",
    "    label_ext_4g6g, major_dia_4g6g, pitch_dia_4g6g, minor_dia_4g6g\n",
    ")\n",
    "\n",
    "# Unsichtbarer Spacer am Ende der App\n",
    "spacer = widgets.Box(layout=widgets.Layout(height='30px'))\n",
    "display(spacer)\n",
    "\n",
    "update_labels()\n",
    "\n",
    "\n"
   ]
  }
 ],
 "metadata": {
  "kernelspec": {
   "display_name": ".venv",
   "language": "python",
   "name": "python3"
  },
  "language_info": {
   "codemirror_mode": {
    "name": "ipython",
    "version": 3
   },
   "file_extension": ".py",
   "mimetype": "text/x-python",
   "name": "python",
   "nbconvert_exporter": "python",
   "pygments_lexer": "ipython3",
   "version": "3.13.3"
  }
 },
 "nbformat": 4,
 "nbformat_minor": 5
}
