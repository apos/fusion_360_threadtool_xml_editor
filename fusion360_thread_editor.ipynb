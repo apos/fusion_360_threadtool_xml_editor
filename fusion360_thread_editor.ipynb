{
 "cells": [
  {
   "cell_type": "markdown",
   "id": "4c989a17",
   "metadata": {},
   "source": [
    "# Fusion 360 Gewindetool – XML-Editor mit Jupyter Notebook"
   ]
  },
  {
   "cell_type": "markdown",
   "id": "auto-generated-project-desc",
   "metadata": {},
   "source": [
    "Dieses Projekt hilft dir, benutzerdefinierte Gewinde für Autodesk Fusion 360 einfach in eine XML-Datei einzutragen.\n",
    "Es verwendet ein interaktives Jupyter Notebook mit `ipywidgets`, um Eingaben auf Deutsch zu erfassen und korrekt in das englischsprachige XML-Format zu übertragen."
   ]
  },
  {
   "cell_type": "code",
   "execution_count": 63,
   "id": "39a9101f",
   "metadata": {},
   "outputs": [
    {
     "data": {
      "text/html": [
       "<style>.highlighted select { border: 3px solid lightgreen !important; }</style>"
      ],
      "text/plain": [
       "<IPython.core.display.HTML object>"
      ]
     },
     "metadata": {},
     "output_type": "display_data"
    },
    {
     "data": {
      "application/vnd.jupyter.widget-view+json": {
       "model_id": "901a5fc00654436596c4f8533e95c672",
       "version_major": 2,
       "version_minor": 0
      },
      "text/plain": [
       "HTML(value='<h1>Fusion 360 Gewindetool – XML-Editor mit Jupyter Notebook</h1>')"
      ]
     },
     "metadata": {},
     "output_type": "display_data"
    },
    {
     "data": {
      "application/vnd.jupyter.widget-view+json": {
       "model_id": "0d9c223606a840bf84b3a2d5c7604525",
       "version_major": 2,
       "version_minor": 0
      },
      "text/plain": [
       "HBox(children=(Button(description='Get XML from Fusion', style=ButtonStyle()), Button(description='Patch Fusio…"
      ]
     },
     "metadata": {},
     "output_type": "display_data"
    },
    {
     "data": {
      "application/vnd.jupyter.widget-view+json": {
       "model_id": "0199e62c47484be5b6011c8bd30389f5",
       "version_major": 2,
       "version_minor": 0
      },
      "text/plain": [
       "Label(value='⏳ Noch kein Export oder Import ausgeführt.')"
      ]
     },
     "metadata": {},
     "output_type": "display_data"
    },
    {
     "data": {
      "application/vnd.jupyter.widget-view+json": {
       "model_id": "3652e968ee91417a8cb0267a1d348c94",
       "version_major": 2,
       "version_minor": 0
      },
      "text/plain": [
       "HBox(children=(VBox(children=(Dropdown(description='Vorhandene Gewinde:', layout=Layout(max_width='500px', min…"
      ]
     },
     "metadata": {},
     "output_type": "display_data"
    },
    {
     "data": {
      "application/vnd.jupyter.widget-view+json": {
       "model_id": "327f6e4cb06c478fba1ada7429ff41af",
       "version_major": 2,
       "version_minor": 0
      },
      "text/plain": [
       "HTML(value='<div style=\"text-align: right; width: 100%;\"><b>External 6g</b></div>')"
      ]
     },
     "metadata": {},
     "output_type": "display_data"
    },
    {
     "data": {
      "application/vnd.jupyter.widget-view+json": {
       "model_id": "9f30251d79cc4b06b687ad139cd3e7c7",
       "version_major": 2,
       "version_minor": 0
      },
      "text/plain": [
       "FloatText(value=0.0, description='MajorDia:', layout=Layout(max_width='500px', min_width='500px', width='500px…"
      ]
     },
     "metadata": {},
     "output_type": "display_data"
    },
    {
     "data": {
      "application/vnd.jupyter.widget-view+json": {
       "model_id": "8bbe461fa14846038ed7a8156e12c960",
       "version_major": 2,
       "version_minor": 0
      },
      "text/plain": [
       "FloatText(value=0.0, description='PitchDia:', layout=Layout(max_width='500px', min_width='500px', width='500px…"
      ]
     },
     "metadata": {},
     "output_type": "display_data"
    },
    {
     "data": {
      "application/vnd.jupyter.widget-view+json": {
       "model_id": "e8a7f24095864c279bcf76e08876ba33",
       "version_major": 2,
       "version_minor": 0
      },
      "text/plain": [
       "FloatText(value=0.0, description='MinorDia:', layout=Layout(max_width='500px', min_width='500px', width='500px…"
      ]
     },
     "metadata": {},
     "output_type": "display_data"
    },
    {
     "data": {
      "application/vnd.jupyter.widget-view+json": {
       "model_id": "9e84cc96441f4ebcb1de8bd54795f296",
       "version_major": 2,
       "version_minor": 0
      },
      "text/plain": [
       "HTML(value='<div style=\"text-align: right; width: 100%;\"><b>Internal 6H</b></div>')"
      ]
     },
     "metadata": {},
     "output_type": "display_data"
    },
    {
     "data": {
      "application/vnd.jupyter.widget-view+json": {
       "model_id": "60fdd091b673418787ab1d23c5d71e94",
       "version_major": 2,
       "version_minor": 0
      },
      "text/plain": [
       "FloatText(value=0.0, description='MajorDia:', layout=Layout(max_width='500px', min_width='500px', width='500px…"
      ]
     },
     "metadata": {},
     "output_type": "display_data"
    },
    {
     "data": {
      "application/vnd.jupyter.widget-view+json": {
       "model_id": "94dc377946504f3e9f0a85217efc7aeb",
       "version_major": 2,
       "version_minor": 0
      },
      "text/plain": [
       "FloatText(value=0.0, description='PitchDia:', layout=Layout(max_width='500px', min_width='500px', width='500px…"
      ]
     },
     "metadata": {},
     "output_type": "display_data"
    },
    {
     "data": {
      "application/vnd.jupyter.widget-view+json": {
       "model_id": "84ec6057b3d14be1ac48cd200c93b4ec",
       "version_major": 2,
       "version_minor": 0
      },
      "text/plain": [
       "FloatText(value=0.0, description='MinorDia:', layout=Layout(max_width='500px', min_width='500px', width='500px…"
      ]
     },
     "metadata": {},
     "output_type": "display_data"
    },
    {
     "data": {
      "application/vnd.jupyter.widget-view+json": {
       "model_id": "e2915037cbbf4564a097b1db90d5d700",
       "version_major": 2,
       "version_minor": 0
      },
      "text/plain": [
       "FloatText(value=0.0, description='TapDrill:', layout=Layout(max_width='500px', min_width='500px', width='500px…"
      ]
     },
     "metadata": {},
     "output_type": "display_data"
    },
    {
     "data": {
      "application/vnd.jupyter.widget-view+json": {
       "model_id": "2eb81a554bea460484d33c582dbc7cdb",
       "version_major": 2,
       "version_minor": 0
      },
      "text/plain": [
       "HTML(value='<div style=\"text-align: right; width: 100%;\"><b>External 4g6g</b></div>')"
      ]
     },
     "metadata": {},
     "output_type": "display_data"
    },
    {
     "data": {
      "application/vnd.jupyter.widget-view+json": {
       "model_id": "b9e6cb90ae60493e930accc59da1eab9",
       "version_major": 2,
       "version_minor": 0
      },
      "text/plain": [
       "FloatText(value=0.0, description='MajorDia:', layout=Layout(max_width='500px', min_width='500px', width='500px…"
      ]
     },
     "metadata": {},
     "output_type": "display_data"
    },
    {
     "data": {
      "application/vnd.jupyter.widget-view+json": {
       "model_id": "77eb2517c8f2423c954cc06ca69e0237",
       "version_major": 2,
       "version_minor": 0
      },
      "text/plain": [
       "FloatText(value=0.0, description='PitchDia:', layout=Layout(max_width='500px', min_width='500px', width='500px…"
      ]
     },
     "metadata": {},
     "output_type": "display_data"
    },
    {
     "data": {
      "application/vnd.jupyter.widget-view+json": {
       "model_id": "aefc27c86ec1458fb7daf442a51c0a6f",
       "version_major": 2,
       "version_minor": 0
      },
      "text/plain": [
       "FloatText(value=0.0, description='MinorDia:', layout=Layout(max_width='500px', min_width='500px', width='500px…"
      ]
     },
     "metadata": {},
     "output_type": "display_data"
    },
    {
     "data": {
      "application/vnd.jupyter.widget-view+json": {
       "model_id": "a8cbbc958e4543e9853548b0cb2b837c",
       "version_major": 2,
       "version_minor": 0
      },
      "text/plain": [
       "Button(description='Switch to English', style=ButtonStyle())"
      ]
     },
     "metadata": {},
     "output_type": "display_data"
    },
    {
     "data": {
      "application/vnd.jupyter.widget-view+json": {
       "model_id": "88bd1773584f4e8dac15165fb3787dd6",
       "version_major": 2,
       "version_minor": 0
      },
      "text/plain": [
       "HTML(value=\"<div style='margin-left:20px; margin-bottom:20px;'></div>\")"
      ]
     },
     "metadata": {},
     "output_type": "display_data"
    },
    {
     "ename": "TraitError",
     "evalue": "Invalid selection: value not found",
     "output_type": "error",
     "traceback": [
      "\u001b[31m---------------------------------------------------------------------------\u001b[39m",
      "\u001b[31mStopIteration\u001b[39m                             Traceback (most recent call last)",
      "\u001b[36mFile \u001b[39m\u001b[32m~/Nextcloud/WORKSPACE/Fusion360/FusionThreadEditor/.venv/lib/python3.13/site-packages/ipywidgets/widgets/widget_selection.py:133\u001b[39m, in \u001b[36mfindvalue\u001b[39m\u001b[34m(array, value, compare)\u001b[39m\n\u001b[32m    132\u001b[39m \u001b[38;5;28;01mtry\u001b[39;00m:\n\u001b[32m--> \u001b[39m\u001b[32m133\u001b[39m     \u001b[38;5;28;01mreturn\u001b[39;00m \u001b[38;5;28;43mnext\u001b[39;49m\u001b[43m(\u001b[49m\u001b[43mx\u001b[49m\u001b[43m \u001b[49m\u001b[38;5;28;43;01mfor\u001b[39;49;00m\u001b[43m \u001b[49m\u001b[43mx\u001b[49m\u001b[43m \u001b[49m\u001b[38;5;129;43;01min\u001b[39;49;00m\u001b[43m \u001b[49m\u001b[43marray\u001b[49m\u001b[43m \u001b[49m\u001b[38;5;28;43;01mif\u001b[39;49;00m\u001b[43m \u001b[49m\u001b[43mcompare\u001b[49m\u001b[43m(\u001b[49m\u001b[43mx\u001b[49m\u001b[43m,\u001b[49m\u001b[43m \u001b[49m\u001b[43mvalue\u001b[49m\u001b[43m)\u001b[49m\u001b[43m)\u001b[49m\n\u001b[32m    134\u001b[39m \u001b[38;5;28;01mexcept\u001b[39;00m \u001b[38;5;167;01mStopIteration\u001b[39;00m:\n",
      "\u001b[31mStopIteration\u001b[39m: ",
      "\nDuring handling of the above exception, another exception occurred:\n",
      "\u001b[31mValueError\u001b[39m                                Traceback (most recent call last)",
      "\u001b[36mFile \u001b[39m\u001b[32m~/Nextcloud/WORKSPACE/Fusion360/FusionThreadEditor/.venv/lib/python3.13/site-packages/ipywidgets/widgets/widget_selection.py:242\u001b[39m, in \u001b[36m_Selection._validate_value\u001b[39m\u001b[34m(self, proposal)\u001b[39m\n\u001b[32m    241\u001b[39m \u001b[38;5;28;01mtry\u001b[39;00m:\n\u001b[32m--> \u001b[39m\u001b[32m242\u001b[39m     \u001b[38;5;28;01mreturn\u001b[39;00m \u001b[43mfindvalue\u001b[49m\u001b[43m(\u001b[49m\u001b[38;5;28;43mself\u001b[39;49m\u001b[43m.\u001b[49m\u001b[43m_options_values\u001b[49m\u001b[43m,\u001b[49m\u001b[43m \u001b[49m\u001b[43mvalue\u001b[49m\u001b[43m,\u001b[49m\u001b[43m \u001b[49m\u001b[38;5;28;43mself\u001b[39;49m\u001b[43m.\u001b[49m\u001b[43mequals\u001b[49m\u001b[43m)\u001b[49m \u001b[38;5;28;01mif\u001b[39;00m value \u001b[38;5;129;01mis\u001b[39;00m \u001b[38;5;129;01mnot\u001b[39;00m \u001b[38;5;28;01mNone\u001b[39;00m \u001b[38;5;28;01melse\u001b[39;00m \u001b[38;5;28;01mNone\u001b[39;00m\n\u001b[32m    243\u001b[39m \u001b[38;5;28;01mexcept\u001b[39;00m \u001b[38;5;167;01mValueError\u001b[39;00m:\n",
      "\u001b[36mFile \u001b[39m\u001b[32m~/Nextcloud/WORKSPACE/Fusion360/FusionThreadEditor/.venv/lib/python3.13/site-packages/ipywidgets/widgets/widget_selection.py:135\u001b[39m, in \u001b[36mfindvalue\u001b[39m\u001b[34m(array, value, compare)\u001b[39m\n\u001b[32m    134\u001b[39m \u001b[38;5;28;01mexcept\u001b[39;00m \u001b[38;5;167;01mStopIteration\u001b[39;00m:\n\u001b[32m--> \u001b[39m\u001b[32m135\u001b[39m     \u001b[38;5;28;01mraise\u001b[39;00m \u001b[38;5;167;01mValueError\u001b[39;00m(\u001b[33m'\u001b[39m\u001b[38;5;132;01m%r\u001b[39;00m\u001b[33m not in array\u001b[39m\u001b[33m'\u001b[39m%value)\n",
      "\u001b[31mValueError\u001b[39m: '' not in array",
      "\nDuring handling of the above exception, another exception occurred:\n",
      "\u001b[31mTraitError\u001b[39m                                Traceback (most recent call last)",
      "\u001b[36mCell\u001b[39m\u001b[36m \u001b[39m\u001b[32mIn[63]\u001b[39m\u001b[32m, line 202\u001b[39m, in \u001b[36mon_save_clicked\u001b[39m\u001b[34m(b)\u001b[39m\n\u001b[32m    196\u001b[39m add_thread_to_xml(xml_path, size.value, designation_de.value, designation_en.value, pitch.value,\n\u001b[32m    197\u001b[39m                   major_dia_ext.value, pitch_dia_ext.value, minor_dia_ext.value,\n\u001b[32m    198\u001b[39m                   major_dia_int.value, pitch_dia_int.value, minor_dia_int.value,\n\u001b[32m    199\u001b[39m                   major_dia_4g6g.value, pitch_dia_4g6g.value, minor_dia_4g6g.value,\n\u001b[32m    200\u001b[39m                   tap_drill.value)\n\u001b[32m    201\u001b[39m load_dropdown_options()\n\u001b[32m--> \u001b[39m\u001b[32m202\u001b[39m \u001b[43mthread_dropdown\u001b[49m\u001b[43m.\u001b[49m\u001b[43mvalue\u001b[49m = designation_en.value\n",
      "\u001b[36mFile \u001b[39m\u001b[32m~/Nextcloud/WORKSPACE/Fusion360/FusionThreadEditor/.venv/lib/python3.13/site-packages/traitlets/traitlets.py:716\u001b[39m, in \u001b[36mTraitType.__set__\u001b[39m\u001b[34m(self, obj, value)\u001b[39m\n\u001b[32m    714\u001b[39m \u001b[38;5;28;01mif\u001b[39;00m \u001b[38;5;28mself\u001b[39m.read_only:\n\u001b[32m    715\u001b[39m     \u001b[38;5;28;01mraise\u001b[39;00m TraitError(\u001b[33m'\u001b[39m\u001b[33mThe \u001b[39m\u001b[33m\"\u001b[39m\u001b[38;5;132;01m%s\u001b[39;00m\u001b[33m\"\u001b[39m\u001b[33m trait is read-only.\u001b[39m\u001b[33m'\u001b[39m % \u001b[38;5;28mself\u001b[39m.name)\n\u001b[32m--> \u001b[39m\u001b[32m716\u001b[39m \u001b[38;5;28;43mself\u001b[39;49m\u001b[43m.\u001b[49m\u001b[43mset\u001b[49m\u001b[43m(\u001b[49m\u001b[43mobj\u001b[49m\u001b[43m,\u001b[49m\u001b[43m \u001b[49m\u001b[43mvalue\u001b[49m\u001b[43m)\u001b[49m\n",
      "\u001b[36mFile \u001b[39m\u001b[32m~/Nextcloud/WORKSPACE/Fusion360/FusionThreadEditor/.venv/lib/python3.13/site-packages/traitlets/traitlets.py:690\u001b[39m, in \u001b[36mTraitType.set\u001b[39m\u001b[34m(self, obj, value)\u001b[39m\n\u001b[32m    689\u001b[39m \u001b[38;5;28;01mdef\u001b[39;00m\u001b[38;5;250m \u001b[39m\u001b[34mset\u001b[39m(\u001b[38;5;28mself\u001b[39m, obj: HasTraits, value: S) -> \u001b[38;5;28;01mNone\u001b[39;00m:\n\u001b[32m--> \u001b[39m\u001b[32m690\u001b[39m     new_value = \u001b[38;5;28;43mself\u001b[39;49m\u001b[43m.\u001b[49m\u001b[43m_validate\u001b[49m\u001b[43m(\u001b[49m\u001b[43mobj\u001b[49m\u001b[43m,\u001b[49m\u001b[43m \u001b[49m\u001b[43mvalue\u001b[49m\u001b[43m)\u001b[49m\n\u001b[32m    691\u001b[39m     \u001b[38;5;28;01massert\u001b[39;00m \u001b[38;5;28mself\u001b[39m.name \u001b[38;5;129;01mis\u001b[39;00m \u001b[38;5;129;01mnot\u001b[39;00m \u001b[38;5;28;01mNone\u001b[39;00m\n\u001b[32m    692\u001b[39m     \u001b[38;5;28;01mtry\u001b[39;00m:\n",
      "\u001b[36mFile \u001b[39m\u001b[32m~/Nextcloud/WORKSPACE/Fusion360/FusionThreadEditor/.venv/lib/python3.13/site-packages/traitlets/traitlets.py:724\u001b[39m, in \u001b[36mTraitType._validate\u001b[39m\u001b[34m(self, obj, value)\u001b[39m\n\u001b[32m    722\u001b[39m     value = \u001b[38;5;28mself\u001b[39m.validate(obj, value)\n\u001b[32m    723\u001b[39m \u001b[38;5;28;01mif\u001b[39;00m obj._cross_validation_lock \u001b[38;5;129;01mis\u001b[39;00m \u001b[38;5;28;01mFalse\u001b[39;00m:\n\u001b[32m--> \u001b[39m\u001b[32m724\u001b[39m     value = \u001b[38;5;28;43mself\u001b[39;49m\u001b[43m.\u001b[49m\u001b[43m_cross_validate\u001b[49m\u001b[43m(\u001b[49m\u001b[43mobj\u001b[49m\u001b[43m,\u001b[49m\u001b[43m \u001b[49m\u001b[43mvalue\u001b[49m\u001b[43m)\u001b[49m\n\u001b[32m    725\u001b[39m \u001b[38;5;28;01mreturn\u001b[39;00m t.cast(G, value)\n",
      "\u001b[36mFile \u001b[39m\u001b[32m~/Nextcloud/WORKSPACE/Fusion360/FusionThreadEditor/.venv/lib/python3.13/site-packages/traitlets/traitlets.py:730\u001b[39m, in \u001b[36mTraitType._cross_validate\u001b[39m\u001b[34m(self, obj, value)\u001b[39m\n\u001b[32m    728\u001b[39m \u001b[38;5;28;01mif\u001b[39;00m \u001b[38;5;28mself\u001b[39m.name \u001b[38;5;129;01min\u001b[39;00m obj._trait_validators:\n\u001b[32m    729\u001b[39m     proposal = Bunch({\u001b[33m\"\u001b[39m\u001b[33mtrait\u001b[39m\u001b[33m\"\u001b[39m: \u001b[38;5;28mself\u001b[39m, \u001b[33m\"\u001b[39m\u001b[33mvalue\u001b[39m\u001b[33m\"\u001b[39m: value, \u001b[33m\"\u001b[39m\u001b[33mowner\u001b[39m\u001b[33m\"\u001b[39m: obj})\n\u001b[32m--> \u001b[39m\u001b[32m730\u001b[39m     value = \u001b[43mobj\u001b[49m\u001b[43m.\u001b[49m\u001b[43m_trait_validators\u001b[49m\u001b[43m[\u001b[49m\u001b[38;5;28;43mself\u001b[39;49m\u001b[43m.\u001b[49m\u001b[43mname\u001b[49m\u001b[43m]\u001b[49m\u001b[43m(\u001b[49m\u001b[43mobj\u001b[49m\u001b[43m,\u001b[49m\u001b[43m \u001b[49m\u001b[43mproposal\u001b[49m\u001b[43m)\u001b[49m\n\u001b[32m    731\u001b[39m \u001b[38;5;28;01melif\u001b[39;00m \u001b[38;5;28mhasattr\u001b[39m(obj, \u001b[33m\"\u001b[39m\u001b[33m_\u001b[39m\u001b[38;5;132;01m%s\u001b[39;00m\u001b[33m_validate\u001b[39m\u001b[33m\"\u001b[39m % \u001b[38;5;28mself\u001b[39m.name):\n\u001b[32m    732\u001b[39m     meth_name = \u001b[33m\"\u001b[39m\u001b[33m_\u001b[39m\u001b[38;5;132;01m%s\u001b[39;00m\u001b[33m_validate\u001b[39m\u001b[33m\"\u001b[39m % \u001b[38;5;28mself\u001b[39m.name\n",
      "\u001b[36mFile \u001b[39m\u001b[32m~/Nextcloud/WORKSPACE/Fusion360/FusionThreadEditor/.venv/lib/python3.13/site-packages/traitlets/traitlets.py:1241\u001b[39m, in \u001b[36mEventHandler.__call__\u001b[39m\u001b[34m(self, *args, **kwargs)\u001b[39m\n\u001b[32m   1239\u001b[39m \u001b[38;5;250m\u001b[39m\u001b[33;03m\"\"\"Pass `*args` and `**kwargs` to the handler's function if it exists.\"\"\"\u001b[39;00m\n\u001b[32m   1240\u001b[39m \u001b[38;5;28;01mif\u001b[39;00m \u001b[38;5;28mhasattr\u001b[39m(\u001b[38;5;28mself\u001b[39m, \u001b[33m\"\u001b[39m\u001b[33mfunc\u001b[39m\u001b[33m\"\u001b[39m):\n\u001b[32m-> \u001b[39m\u001b[32m1241\u001b[39m     \u001b[38;5;28;01mreturn\u001b[39;00m \u001b[38;5;28;43mself\u001b[39;49m\u001b[43m.\u001b[49m\u001b[43mfunc\u001b[49m\u001b[43m(\u001b[49m\u001b[43m*\u001b[49m\u001b[43margs\u001b[49m\u001b[43m,\u001b[49m\u001b[43m \u001b[49m\u001b[43m*\u001b[49m\u001b[43m*\u001b[49m\u001b[43mkwargs\u001b[49m\u001b[43m)\u001b[49m\n\u001b[32m   1242\u001b[39m \u001b[38;5;28;01melse\u001b[39;00m:\n\u001b[32m   1243\u001b[39m     \u001b[38;5;28;01mreturn\u001b[39;00m \u001b[38;5;28mself\u001b[39m._init_call(*args, **kwargs)\n",
      "\u001b[36mFile \u001b[39m\u001b[32m~/Nextcloud/WORKSPACE/Fusion360/FusionThreadEditor/.venv/lib/python3.13/site-packages/ipywidgets/widgets/widget_selection.py:244\u001b[39m, in \u001b[36m_Selection._validate_value\u001b[39m\u001b[34m(self, proposal)\u001b[39m\n\u001b[32m    242\u001b[39m     \u001b[38;5;28;01mreturn\u001b[39;00m findvalue(\u001b[38;5;28mself\u001b[39m._options_values, value, \u001b[38;5;28mself\u001b[39m.equals) \u001b[38;5;28;01mif\u001b[39;00m value \u001b[38;5;129;01mis\u001b[39;00m \u001b[38;5;129;01mnot\u001b[39;00m \u001b[38;5;28;01mNone\u001b[39;00m \u001b[38;5;28;01melse\u001b[39;00m \u001b[38;5;28;01mNone\u001b[39;00m\n\u001b[32m    243\u001b[39m \u001b[38;5;28;01mexcept\u001b[39;00m \u001b[38;5;167;01mValueError\u001b[39;00m:\n\u001b[32m--> \u001b[39m\u001b[32m244\u001b[39m     \u001b[38;5;28;01mraise\u001b[39;00m TraitError(\u001b[33m'\u001b[39m\u001b[33mInvalid selection: value not found\u001b[39m\u001b[33m'\u001b[39m)\n",
      "\u001b[31mTraitError\u001b[39m: Invalid selection: value not found"
     ]
    },
    {
     "ename": "TraitError",
     "evalue": "Invalid selection: value not found",
     "output_type": "error",
     "traceback": [
      "\u001b[31m---------------------------------------------------------------------------\u001b[39m",
      "\u001b[31mStopIteration\u001b[39m                             Traceback (most recent call last)",
      "\u001b[36mFile \u001b[39m\u001b[32m~/Nextcloud/WORKSPACE/Fusion360/FusionThreadEditor/.venv/lib/python3.13/site-packages/ipywidgets/widgets/widget_selection.py:133\u001b[39m, in \u001b[36mfindvalue\u001b[39m\u001b[34m(array, value, compare)\u001b[39m\n\u001b[32m    132\u001b[39m \u001b[38;5;28;01mtry\u001b[39;00m:\n\u001b[32m--> \u001b[39m\u001b[32m133\u001b[39m     \u001b[38;5;28;01mreturn\u001b[39;00m \u001b[38;5;28;43mnext\u001b[39;49m\u001b[43m(\u001b[49m\u001b[43mx\u001b[49m\u001b[43m \u001b[49m\u001b[38;5;28;43;01mfor\u001b[39;49;00m\u001b[43m \u001b[49m\u001b[43mx\u001b[49m\u001b[43m \u001b[49m\u001b[38;5;129;43;01min\u001b[39;49;00m\u001b[43m \u001b[49m\u001b[43marray\u001b[49m\u001b[43m \u001b[49m\u001b[38;5;28;43;01mif\u001b[39;49;00m\u001b[43m \u001b[49m\u001b[43mcompare\u001b[49m\u001b[43m(\u001b[49m\u001b[43mx\u001b[49m\u001b[43m,\u001b[49m\u001b[43m \u001b[49m\u001b[43mvalue\u001b[49m\u001b[43m)\u001b[49m\u001b[43m)\u001b[49m\n\u001b[32m    134\u001b[39m \u001b[38;5;28;01mexcept\u001b[39;00m \u001b[38;5;167;01mStopIteration\u001b[39;00m:\n",
      "\u001b[31mStopIteration\u001b[39m: ",
      "\nDuring handling of the above exception, another exception occurred:\n",
      "\u001b[31mValueError\u001b[39m                                Traceback (most recent call last)",
      "\u001b[36mFile \u001b[39m\u001b[32m~/Nextcloud/WORKSPACE/Fusion360/FusionThreadEditor/.venv/lib/python3.13/site-packages/ipywidgets/widgets/widget_selection.py:242\u001b[39m, in \u001b[36m_Selection._validate_value\u001b[39m\u001b[34m(self, proposal)\u001b[39m\n\u001b[32m    241\u001b[39m \u001b[38;5;28;01mtry\u001b[39;00m:\n\u001b[32m--> \u001b[39m\u001b[32m242\u001b[39m     \u001b[38;5;28;01mreturn\u001b[39;00m \u001b[43mfindvalue\u001b[49m\u001b[43m(\u001b[49m\u001b[38;5;28;43mself\u001b[39;49m\u001b[43m.\u001b[49m\u001b[43m_options_values\u001b[49m\u001b[43m,\u001b[49m\u001b[43m \u001b[49m\u001b[43mvalue\u001b[49m\u001b[43m,\u001b[49m\u001b[43m \u001b[49m\u001b[38;5;28;43mself\u001b[39;49m\u001b[43m.\u001b[49m\u001b[43mequals\u001b[49m\u001b[43m)\u001b[49m \u001b[38;5;28;01mif\u001b[39;00m value \u001b[38;5;129;01mis\u001b[39;00m \u001b[38;5;129;01mnot\u001b[39;00m \u001b[38;5;28;01mNone\u001b[39;00m \u001b[38;5;28;01melse\u001b[39;00m \u001b[38;5;28;01mNone\u001b[39;00m\n\u001b[32m    243\u001b[39m \u001b[38;5;28;01mexcept\u001b[39;00m \u001b[38;5;167;01mValueError\u001b[39;00m:\n",
      "\u001b[36mFile \u001b[39m\u001b[32m~/Nextcloud/WORKSPACE/Fusion360/FusionThreadEditor/.venv/lib/python3.13/site-packages/ipywidgets/widgets/widget_selection.py:135\u001b[39m, in \u001b[36mfindvalue\u001b[39m\u001b[34m(array, value, compare)\u001b[39m\n\u001b[32m    134\u001b[39m \u001b[38;5;28;01mexcept\u001b[39;00m \u001b[38;5;167;01mStopIteration\u001b[39;00m:\n\u001b[32m--> \u001b[39m\u001b[32m135\u001b[39m     \u001b[38;5;28;01mraise\u001b[39;00m \u001b[38;5;167;01mValueError\u001b[39;00m(\u001b[33m'\u001b[39m\u001b[38;5;132;01m%r\u001b[39;00m\u001b[33m not in array\u001b[39m\u001b[33m'\u001b[39m%value)\n",
      "\u001b[31mValueError\u001b[39m: '' not in array",
      "\nDuring handling of the above exception, another exception occurred:\n",
      "\u001b[31mTraitError\u001b[39m                                Traceback (most recent call last)",
      "\u001b[36mCell\u001b[39m\u001b[36m \u001b[39m\u001b[32mIn[63]\u001b[39m\u001b[32m, line 212\u001b[39m, in \u001b[36mon_save_new_clicked\u001b[39m\u001b[34m(b)\u001b[39m\n\u001b[32m    206\u001b[39m add_thread_to_xml(xml_path, size.value, designation_de.value, designation_en.value, pitch.value,\n\u001b[32m    207\u001b[39m                   major_dia_ext.value, pitch_dia_ext.value, minor_dia_ext.value,\n\u001b[32m    208\u001b[39m                   major_dia_int.value, pitch_dia_int.value, minor_dia_int.value,\n\u001b[32m    209\u001b[39m                   major_dia_4g6g.value, pitch_dia_4g6g.value, minor_dia_4g6g.value,\n\u001b[32m    210\u001b[39m                   tap_drill.value)\n\u001b[32m    211\u001b[39m load_dropdown_options()\n\u001b[32m--> \u001b[39m\u001b[32m212\u001b[39m \u001b[43mthread_dropdown\u001b[49m\u001b[43m.\u001b[49m\u001b[43mvalue\u001b[49m = designation_en.value\n",
      "\u001b[36mFile \u001b[39m\u001b[32m~/Nextcloud/WORKSPACE/Fusion360/FusionThreadEditor/.venv/lib/python3.13/site-packages/traitlets/traitlets.py:716\u001b[39m, in \u001b[36mTraitType.__set__\u001b[39m\u001b[34m(self, obj, value)\u001b[39m\n\u001b[32m    714\u001b[39m \u001b[38;5;28;01mif\u001b[39;00m \u001b[38;5;28mself\u001b[39m.read_only:\n\u001b[32m    715\u001b[39m     \u001b[38;5;28;01mraise\u001b[39;00m TraitError(\u001b[33m'\u001b[39m\u001b[33mThe \u001b[39m\u001b[33m\"\u001b[39m\u001b[38;5;132;01m%s\u001b[39;00m\u001b[33m\"\u001b[39m\u001b[33m trait is read-only.\u001b[39m\u001b[33m'\u001b[39m % \u001b[38;5;28mself\u001b[39m.name)\n\u001b[32m--> \u001b[39m\u001b[32m716\u001b[39m \u001b[38;5;28;43mself\u001b[39;49m\u001b[43m.\u001b[49m\u001b[43mset\u001b[49m\u001b[43m(\u001b[49m\u001b[43mobj\u001b[49m\u001b[43m,\u001b[49m\u001b[43m \u001b[49m\u001b[43mvalue\u001b[49m\u001b[43m)\u001b[49m\n",
      "\u001b[36mFile \u001b[39m\u001b[32m~/Nextcloud/WORKSPACE/Fusion360/FusionThreadEditor/.venv/lib/python3.13/site-packages/traitlets/traitlets.py:690\u001b[39m, in \u001b[36mTraitType.set\u001b[39m\u001b[34m(self, obj, value)\u001b[39m\n\u001b[32m    689\u001b[39m \u001b[38;5;28;01mdef\u001b[39;00m\u001b[38;5;250m \u001b[39m\u001b[34mset\u001b[39m(\u001b[38;5;28mself\u001b[39m, obj: HasTraits, value: S) -> \u001b[38;5;28;01mNone\u001b[39;00m:\n\u001b[32m--> \u001b[39m\u001b[32m690\u001b[39m     new_value = \u001b[38;5;28;43mself\u001b[39;49m\u001b[43m.\u001b[49m\u001b[43m_validate\u001b[49m\u001b[43m(\u001b[49m\u001b[43mobj\u001b[49m\u001b[43m,\u001b[49m\u001b[43m \u001b[49m\u001b[43mvalue\u001b[49m\u001b[43m)\u001b[49m\n\u001b[32m    691\u001b[39m     \u001b[38;5;28;01massert\u001b[39;00m \u001b[38;5;28mself\u001b[39m.name \u001b[38;5;129;01mis\u001b[39;00m \u001b[38;5;129;01mnot\u001b[39;00m \u001b[38;5;28;01mNone\u001b[39;00m\n\u001b[32m    692\u001b[39m     \u001b[38;5;28;01mtry\u001b[39;00m:\n",
      "\u001b[36mFile \u001b[39m\u001b[32m~/Nextcloud/WORKSPACE/Fusion360/FusionThreadEditor/.venv/lib/python3.13/site-packages/traitlets/traitlets.py:724\u001b[39m, in \u001b[36mTraitType._validate\u001b[39m\u001b[34m(self, obj, value)\u001b[39m\n\u001b[32m    722\u001b[39m     value = \u001b[38;5;28mself\u001b[39m.validate(obj, value)\n\u001b[32m    723\u001b[39m \u001b[38;5;28;01mif\u001b[39;00m obj._cross_validation_lock \u001b[38;5;129;01mis\u001b[39;00m \u001b[38;5;28;01mFalse\u001b[39;00m:\n\u001b[32m--> \u001b[39m\u001b[32m724\u001b[39m     value = \u001b[38;5;28;43mself\u001b[39;49m\u001b[43m.\u001b[49m\u001b[43m_cross_validate\u001b[49m\u001b[43m(\u001b[49m\u001b[43mobj\u001b[49m\u001b[43m,\u001b[49m\u001b[43m \u001b[49m\u001b[43mvalue\u001b[49m\u001b[43m)\u001b[49m\n\u001b[32m    725\u001b[39m \u001b[38;5;28;01mreturn\u001b[39;00m t.cast(G, value)\n",
      "\u001b[36mFile \u001b[39m\u001b[32m~/Nextcloud/WORKSPACE/Fusion360/FusionThreadEditor/.venv/lib/python3.13/site-packages/traitlets/traitlets.py:730\u001b[39m, in \u001b[36mTraitType._cross_validate\u001b[39m\u001b[34m(self, obj, value)\u001b[39m\n\u001b[32m    728\u001b[39m \u001b[38;5;28;01mif\u001b[39;00m \u001b[38;5;28mself\u001b[39m.name \u001b[38;5;129;01min\u001b[39;00m obj._trait_validators:\n\u001b[32m    729\u001b[39m     proposal = Bunch({\u001b[33m\"\u001b[39m\u001b[33mtrait\u001b[39m\u001b[33m\"\u001b[39m: \u001b[38;5;28mself\u001b[39m, \u001b[33m\"\u001b[39m\u001b[33mvalue\u001b[39m\u001b[33m\"\u001b[39m: value, \u001b[33m\"\u001b[39m\u001b[33mowner\u001b[39m\u001b[33m\"\u001b[39m: obj})\n\u001b[32m--> \u001b[39m\u001b[32m730\u001b[39m     value = \u001b[43mobj\u001b[49m\u001b[43m.\u001b[49m\u001b[43m_trait_validators\u001b[49m\u001b[43m[\u001b[49m\u001b[38;5;28;43mself\u001b[39;49m\u001b[43m.\u001b[49m\u001b[43mname\u001b[49m\u001b[43m]\u001b[49m\u001b[43m(\u001b[49m\u001b[43mobj\u001b[49m\u001b[43m,\u001b[49m\u001b[43m \u001b[49m\u001b[43mproposal\u001b[49m\u001b[43m)\u001b[49m\n\u001b[32m    731\u001b[39m \u001b[38;5;28;01melif\u001b[39;00m \u001b[38;5;28mhasattr\u001b[39m(obj, \u001b[33m\"\u001b[39m\u001b[33m_\u001b[39m\u001b[38;5;132;01m%s\u001b[39;00m\u001b[33m_validate\u001b[39m\u001b[33m\"\u001b[39m % \u001b[38;5;28mself\u001b[39m.name):\n\u001b[32m    732\u001b[39m     meth_name = \u001b[33m\"\u001b[39m\u001b[33m_\u001b[39m\u001b[38;5;132;01m%s\u001b[39;00m\u001b[33m_validate\u001b[39m\u001b[33m\"\u001b[39m % \u001b[38;5;28mself\u001b[39m.name\n",
      "\u001b[36mFile \u001b[39m\u001b[32m~/Nextcloud/WORKSPACE/Fusion360/FusionThreadEditor/.venv/lib/python3.13/site-packages/traitlets/traitlets.py:1241\u001b[39m, in \u001b[36mEventHandler.__call__\u001b[39m\u001b[34m(self, *args, **kwargs)\u001b[39m\n\u001b[32m   1239\u001b[39m \u001b[38;5;250m\u001b[39m\u001b[33;03m\"\"\"Pass `*args` and `**kwargs` to the handler's function if it exists.\"\"\"\u001b[39;00m\n\u001b[32m   1240\u001b[39m \u001b[38;5;28;01mif\u001b[39;00m \u001b[38;5;28mhasattr\u001b[39m(\u001b[38;5;28mself\u001b[39m, \u001b[33m\"\u001b[39m\u001b[33mfunc\u001b[39m\u001b[33m\"\u001b[39m):\n\u001b[32m-> \u001b[39m\u001b[32m1241\u001b[39m     \u001b[38;5;28;01mreturn\u001b[39;00m \u001b[38;5;28;43mself\u001b[39;49m\u001b[43m.\u001b[49m\u001b[43mfunc\u001b[49m\u001b[43m(\u001b[49m\u001b[43m*\u001b[49m\u001b[43margs\u001b[49m\u001b[43m,\u001b[49m\u001b[43m \u001b[49m\u001b[43m*\u001b[49m\u001b[43m*\u001b[49m\u001b[43mkwargs\u001b[49m\u001b[43m)\u001b[49m\n\u001b[32m   1242\u001b[39m \u001b[38;5;28;01melse\u001b[39;00m:\n\u001b[32m   1243\u001b[39m     \u001b[38;5;28;01mreturn\u001b[39;00m \u001b[38;5;28mself\u001b[39m._init_call(*args, **kwargs)\n",
      "\u001b[36mFile \u001b[39m\u001b[32m~/Nextcloud/WORKSPACE/Fusion360/FusionThreadEditor/.venv/lib/python3.13/site-packages/ipywidgets/widgets/widget_selection.py:244\u001b[39m, in \u001b[36m_Selection._validate_value\u001b[39m\u001b[34m(self, proposal)\u001b[39m\n\u001b[32m    242\u001b[39m     \u001b[38;5;28;01mreturn\u001b[39;00m findvalue(\u001b[38;5;28mself\u001b[39m._options_values, value, \u001b[38;5;28mself\u001b[39m.equals) \u001b[38;5;28;01mif\u001b[39;00m value \u001b[38;5;129;01mis\u001b[39;00m \u001b[38;5;129;01mnot\u001b[39;00m \u001b[38;5;28;01mNone\u001b[39;00m \u001b[38;5;28;01melse\u001b[39;00m \u001b[38;5;28;01mNone\u001b[39;00m\n\u001b[32m    243\u001b[39m \u001b[38;5;28;01mexcept\u001b[39;00m \u001b[38;5;167;01mValueError\u001b[39;00m:\n\u001b[32m--> \u001b[39m\u001b[32m244\u001b[39m     \u001b[38;5;28;01mraise\u001b[39;00m TraitError(\u001b[33m'\u001b[39m\u001b[33mInvalid selection: value not found\u001b[39m\u001b[33m'\u001b[39m)\n",
      "\u001b[31mTraitError\u001b[39m: Invalid selection: value not found"
     ]
    }
   ],
   "source": [
    "from IPython.display import display\n",
    "import ipywidgets as widgets\n",
    "from ipywidgets import Layout, HBox, VBox\n",
    "import subprocess\n",
    "import datetime\n",
    "import threading\n",
    "import time\n",
    "from IPython.display import HTML\n",
    "import xml.dom.minidom\n",
    "\n",
    "# CSS hacks\n",
    "display(HTML(\"<style>.highlighted select { border: 3px solid lightgreen !important; }</style>\"))\n",
    "display(widgets.HTML(\"<h1>Fusion 360 Gewindetool – XML-Editor mit Jupyter Notebook</h1>\"))\n",
    "\n",
    "# WICHTIG: feste XML-Datei im neuen data-Verzeichnis\n",
    "xml_path = 'data/AstroISOmetric.xml'\n",
    "\n",
    "def remove_blank_lines(xml_string):\n",
    "    lines = xml_string.split('\\n')\n",
    "    non_empty_lines = [line for line in lines if line.strip() != '']\n",
    "    return '\\n'.join(non_empty_lines)\n",
    "\n",
    "# XML-Formatierung\n",
    "def pretty_print_xml(path):\n",
    "    with open(path, 'r') as f:\n",
    "        xml_string = f.read()\n",
    "    parsed = xml.dom.minidom.parseString(xml_string)\n",
    "    pretty_xml_as_string = parsed.toprettyxml(indent=\"  \")\n",
    "    with open(path, 'w') as f:\n",
    "        f.write(pretty_xml_as_string)\n",
    "\n",
    "def load_dropdown_options():\n",
    "    tree = ET.parse(xml_path)\n",
    "    root = tree.getroot()\n",
    "    options = ['<Neu laden>']\n",
    "    for thread_size in root.findall('ThreadSize'):\n",
    "        designation = thread_size.find('Designation/ThreadDesignation').text\n",
    "        if designation:  # nur wenn nicht leer\n",
    "            options.append(designation)\n",
    "    thread_dropdown.options = options\n",
    "\n",
    "def fill_fields_from_selection(change):\n",
    "    selection = change['new']\n",
    "    if selection == '<Neu laden>':\n",
    "        size.value = 0\n",
    "        designation_de.value = ''\n",
    "        designation_en.value = ''\n",
    "        pitch.value = 0\n",
    "        major_dia_ext.value = 0\n",
    "        pitch_dia_ext.value = 0\n",
    "        minor_dia_ext.value = 0\n",
    "        major_dia_int.value = 0\n",
    "        pitch_dia_int.value = 0\n",
    "        minor_dia_int.value = 0\n",
    "        tap_drill.value = 0\n",
    "        major_dia_4g6g.value = 0\n",
    "        pitch_dia_4g6g.value = 0\n",
    "        minor_dia_4g6g.value = 0\n",
    "        return\n",
    "\n",
    "    tree = ET.parse(xml_path)\n",
    "    root = tree.getroot()\n",
    "    for thread_size in root.findall('ThreadSize'):\n",
    "        designation = thread_size.find('Designation/ThreadDesignation').text\n",
    "        if designation == selection:\n",
    "            size.value = float(thread_size.find('Size').text)\n",
    "            designation_de.value = thread_size.find('Designation/CTD').text\n",
    "            designation_en.value = designation\n",
    "            pitch.value = float(thread_size.find('Designation/Pitch').text)\n",
    "\n",
    "            threads = thread_size.find('Designation').findall('Thread')\n",
    "            for t in threads:\n",
    "                gender = t.find('Gender').text\n",
    "                class_value = t.find('Class').text\n",
    "                major = float(t.find('MajorDia').text)\n",
    "                pitch_dia = float(t.find('PitchDia').text)\n",
    "                minor = float(t.find('MinorDia').text)\n",
    "\n",
    "                if gender == 'external' and class_value == '6g':\n",
    "                    major_dia_ext.value = major\n",
    "                    pitch_dia_ext.value = pitch_dia\n",
    "                    minor_dia_ext.value = minor\n",
    "                elif gender == 'internal' and class_value == '6H':\n",
    "                    major_dia_int.value = major\n",
    "                    pitch_dia_int.value = pitch_dia\n",
    "                    minor_dia_int.value = minor\n",
    "                    tap_drill.value = float(t.find('TapDrill').text)\n",
    "                elif gender == 'external' and class_value == '4g6g':\n",
    "                    major_dia_4g6g.value = major\n",
    "                    pitch_dia_4g6g.value = pitch_dia\n",
    "                    minor_dia_4g6g.value = minor\n",
    "            break\n",
    "\n",
    "def add_thread_to_xml(path, size, designation_de, designation_en, pitch,\n",
    "                      major_dia_ext, pitch_dia_ext, minor_dia_ext,\n",
    "                      major_dia_int, pitch_dia_int, minor_dia_int,\n",
    "                      major_dia_4g6g, pitch_dia_4g6g, minor_dia_4g6g,\n",
    "                      tap_drill):\n",
    "    tree = ET.parse(path)\n",
    "    root = tree.getroot()\n",
    "\n",
    "    for ts in root.findall('ThreadSize'):\n",
    "        desig = ts.find('Designation/ThreadDesignation').text\n",
    "        if desig == designation_en:\n",
    "            root.remove(ts)\n",
    "\n",
    "    thread_size = ET.SubElement(root, 'ThreadSize')\n",
    "    ET.SubElement(thread_size, 'Size').text = str(size)\n",
    "    designation_el = ET.SubElement(thread_size, 'Designation')\n",
    "    ET.SubElement(designation_el, 'ThreadDesignation').text = designation_en\n",
    "    ET.SubElement(designation_el, 'CTD').text = designation_de\n",
    "    ET.SubElement(designation_el, 'Pitch').text = str(pitch)\n",
    "\n",
    "    thread_ext = ET.SubElement(designation_el, 'Thread')\n",
    "    ET.SubElement(thread_ext, 'Gender').text = 'external'\n",
    "    ET.SubElement(thread_ext, 'Class').text = '6g'\n",
    "    ET.SubElement(thread_ext, 'MajorDia').text = str(major_dia_ext)\n",
    "    ET.SubElement(thread_ext, 'PitchDia').text = str(pitch_dia_ext)\n",
    "    ET.SubElement(thread_ext, 'MinorDia').text = str(minor_dia_ext)\n",
    "\n",
    "    thread_int = ET.SubElement(designation_el, 'Thread')\n",
    "    ET.SubElement(thread_int, 'Gender').text = 'internal'\n",
    "    ET.SubElement(thread_int, 'Class').text = '6H'\n",
    "    ET.SubElement(thread_int, 'MajorDia').text = str(major_dia_int)\n",
    "    ET.SubElement(thread_int, 'PitchDia').text = str(pitch_dia_int)\n",
    "    ET.SubElement(thread_int, 'MinorDia').text = str(minor_dia_int)\n",
    "    ET.SubElement(thread_int, 'TapDrill').text = str(tap_drill)\n",
    "\n",
    "    thread_ext_4g6g = ET.SubElement(designation_el, 'Thread')\n",
    "    ET.SubElement(thread_ext_4g6g, 'Gender').text = 'external'\n",
    "    ET.SubElement(thread_ext_4g6g, 'Class').text = '4g6g'\n",
    "    ET.SubElement(thread_ext_4g6g, 'MajorDia').text = str(major_dia_4g6g)\n",
    "    ET.SubElement(thread_ext_4g6g, 'PitchDia').text = str(pitch_dia_4g6g)\n",
    "    ET.SubElement(thread_ext_4g6g, 'MinorDia').text = str(minor_dia_4g6g)\n",
    "\n",
    "    tree.write(path)\n",
    "\n",
    "    # Schön formatieren ohne Leerzeilen\n",
    "    with open(path, 'r') as f:\n",
    "        xml_str = f.read()\n",
    "    pretty_xml = xml.dom.minidom.parseString(xml_str).toprettyxml(indent=\"  \")\n",
    "    pretty_xml_clean = remove_blank_lines(pretty_xml)\n",
    "    with open(path, 'w') as f:\n",
    "        f.write(pretty_xml_clean)\n",
    "\n",
    "    print(f\"✅ Gewinde {designation_en} ({designation_de}) erfolgreich in {path} gespeichert und formatiert.\")\n",
    "\n",
    "def delete_thread_from_xml(designation_en):\n",
    "    tree = ET.parse(xml_path)\n",
    "    root = tree.getroot()\n",
    "    for ts in root.findall('ThreadSize'):\n",
    "        desig = ts.find('Designation/ThreadDesignation').text\n",
    "        if desig == designation_en:\n",
    "            root.remove(ts)\n",
    "            tree.write(xml_path)\n",
    "            print(f\"🗑️ Gewinde {designation_en} gelöscht.\")\n",
    "            return\n",
    "    print(f\"⚠️ Gewinde {designation_en} nicht gefunden.\")\n",
    "\n",
    "\n",
    "# Layouts (angepasst!)\n",
    "field_layout = Layout(width='500px', min_width='500px', max_width='500px')\n",
    "vbox_layout = Layout(width='550px', margin='0 40px 20px 0')  # noch mehr rechter Abstand\n",
    "style = {'description_width': '350px'}  # mehr Platz für die Beschriftungen\n",
    "\n",
    "# Widgets (verwenden field_layout + style)\n",
    "thread_dropdown = widgets.Dropdown(description='Vorhandene Gewinde:', options=['<Neu laden>'], layout=field_layout, style=style)\n",
    "size = widgets.FloatText(description='Nenndurchmesser (Size):', layout=field_layout, style=style)\n",
    "designation_de = widgets.Text(description='Custom Thread designation - Freitext (CTD):', layout=field_layout, style=style)\n",
    "designation_en = widgets.Text(description='Technische Bezeichnung (ThreadDesignation) z.B. M56x0.75:', layout=field_layout, style=style)\n",
    "pitch = widgets.FloatText(description='Steigung (Pitch):', layout=field_layout, style=style)\n",
    "\n",
    "# Layouts für die verschiedenen Gewinde (jetzt rechtsbündig)\n",
    "label_ext_6g = widgets.HTML(value='<div style=\"text-align: right; width: 100%;\"><b>External 6g</b></div>')\n",
    "major_dia_ext = widgets.FloatText(description='MajorDia:', layout=field_layout, style=style)\n",
    "pitch_dia_ext = widgets.FloatText(description='PitchDia:', layout=field_layout, style=style)\n",
    "minor_dia_ext = widgets.FloatText(description='MinorDia:', layout=field_layout, style=style)\n",
    "\n",
    "label_int_6H = widgets.HTML(value='<div style=\"text-align: right; width: 100%;\"><b>Internal 6H</b></div>')\n",
    "major_dia_int = widgets.FloatText(description='MajorDia:', layout=field_layout, style=style)\n",
    "pitch_dia_int = widgets.FloatText(description='PitchDia:', layout=field_layout, style=style)\n",
    "minor_dia_int = widgets.FloatText(description='MinorDia:', layout=field_layout, style=style)\n",
    "tap_drill = widgets.FloatText(description='TapDrill:', layout=field_layout, style=style)\n",
    "\n",
    "label_ext_4g6g = widgets.HTML(value='<div style=\"text-align: right; width: 100%;\"><b>External 4g6g</b></div>')\n",
    "major_dia_4g6g = widgets.FloatText(description='MajorDia:', layout=field_layout, style=style)\n",
    "pitch_dia_4g6g = widgets.FloatText(description='PitchDia:', layout=field_layout, style=style)\n",
    "minor_dia_4g6g = widgets.FloatText(description='MinorDia:', layout=field_layout, style=style)\n",
    "\n",
    "# Buttons\n",
    "save_button = widgets.Button(description='Speichern', style=style)\n",
    "save_new_button = widgets.Button(description='Als neu speichern', style=style)\n",
    "delete_button = widgets.Button(description='Löschen', style=style)\n",
    "\n",
    "def on_save_clicked(b):\n",
    "    add_thread_to_xml(xml_path, size.value, designation_de.value, designation_en.value, pitch.value,\n",
    "                      major_dia_ext.value, pitch_dia_ext.value, minor_dia_ext.value,\n",
    "                      major_dia_int.value, pitch_dia_int.value, minor_dia_int.value,\n",
    "                      major_dia_4g6g.value, pitch_dia_4g6g.value, minor_dia_4g6g.value,\n",
    "                      tap_drill.value)\n",
    "    load_dropdown_options()\n",
    "    thread_dropdown.value = designation_en.value  # ← Setze aktuelle Auswahl neu\n",
    "\n",
    "def on_save_new_clicked(b):\n",
    "    designation_en.value += \"_neu\"\n",
    "    add_thread_to_xml(xml_path, size.value, designation_de.value, designation_en.value, pitch.value,\n",
    "                      major_dia_ext.value, pitch_dia_ext.value, minor_dia_ext.value,\n",
    "                      major_dia_int.value, pitch_dia_int.value, minor_dia_int.value,\n",
    "                      major_dia_4g6g.value, pitch_dia_4g6g.value, minor_dia_4g6g.value,\n",
    "                      tap_drill.value)\n",
    "    load_dropdown_options()\n",
    "    thread_dropdown.value = designation_en.value  # ← Setze neue Auswahl sicher\n",
    "    \n",
    "save_button.on_click(on_save_clicked)\n",
    "save_new_button.on_click(on_save_new_clicked)\n",
    "delete_button.on_click(on_delete_clicked)\n",
    "\n",
    "# Button-Gruppe\n",
    "button_box = VBox([save_button, save_new_button, delete_button])\n",
    "\n",
    "# Neue Buttons\n",
    "export_button = widgets.Button(description='Get XML from Fusion')\n",
    "import_button = widgets.Button(description='Patch Fusion XML')\n",
    "status_label = widgets.Label(value='⏳ Noch kein Export oder Import ausgeführt.')\n",
    "venv_button = widgets.Button(description='Rebuild .venv')\n",
    "\n",
    "# Letzter Importzeitpunkt\n",
    "last_import_time = [None]\n",
    "\n",
    "# Save-Buttons initial deaktivieren\n",
    "save_button.disabled = True\n",
    "save_new_button.disabled = True\n",
    "delete_button.disabled = True\n",
    "\n",
    "def on_venv_clicked(b):\n",
    "    subprocess.run(['./bin/create_venv.sh'])\n",
    "    print(\"✅ .venv wurde neu erstellt.\")\n",
    "    status_label.value = f\"✅ .venv wurde neu erstellt am {datetime.datetime.now().strftime('%d.%m.%Y %H:%M:%S')}\"\n",
    "    \n",
    "# Export-Callback\n",
    "def on_export_clicked(b):\n",
    "    subprocess.run(['./bin/sync_xml.sh', 'export'])\n",
    "    save_button.disabled = False\n",
    "    save_new_button.disabled = False\n",
    "    delete_button.disabled = False\n",
    "    load_dropdown_options()\n",
    "    status_label.value = f\"✅ Export aus Fusion abgeschlossen am {datetime.datetime.now().strftime('%d.%m.%Y %H:%M:%S')}\"\n",
    "    save_button.style.button_color = 'lightgreen'\n",
    "    save_new_button.style.button_color = 'lightgreen'\n",
    "    delete_button.style.button_color = 'lightgreen'\n",
    "    thread_dropdown.add_class('highlighted')\n",
    "\n",
    "# Import-Callback\n",
    "def on_import_clicked(b):\n",
    "    subprocess.run(['./bin/sync_xml.sh', 'import'])\n",
    "    last_import_time[0] = datetime.datetime.now()\n",
    "    update_status_label()\n",
    "    status_label.value = f\"✅ Import in Fusion abgeschlossen am {last_import_time[0].strftime('%d.%m.%Y %H:%M:%S')}\"\n",
    "    save_button.style.button_color = 'lightgreen'\n",
    "    save_new_button.style.button_color = 'lightgreen'\n",
    "    delete_button.style.button_color = 'lightgreen'\n",
    "    # thread_dropdown.remove_class('highlighted')\n",
    "\n",
    "# Zeitanzeige aktualisieren\n",
    "def update_status_label():\n",
    "    if last_import_time[0]:\n",
    "        delta = datetime.datetime.now() - last_import_time[0]\n",
    "        minutes = int(delta.total_seconds() // 60)\n",
    "        status_label.value = f\"In Fusion reimportiert am {last_import_time[0].strftime('%d.%m.%Y %H:%M:%S')} (vor {minutes} Minuten)\"\n",
    "\n",
    "# Periodisches Update starten\n",
    "def periodic_update():\n",
    "    while True:\n",
    "        update_status_label()\n",
    "        time.sleep(60)\n",
    "        threading.Thread(target=periodic_update, daemon=True).start()\n",
    "\n",
    "# Button-Callbacks verbinden\n",
    "export_button.on_click(on_export_clicked)\n",
    "import_button.on_click(on_import_clicked)\n",
    "venv_button.on_click(on_venv_clicked)\n",
    "\n",
    "# Control-Button-Reihe anzeigen\n",
    "control_buttons = HBox([export_button, import_button, venv_button])\n",
    "display(control_buttons)\n",
    "\n",
    "# Statusanzeige anzeigen\n",
    "display(status_label)\n",
    "\n",
    "# XML-Formatierung\n",
    "def pretty_print_xml(path):\n",
    "    with open(path, 'r') as f:\n",
    "        xml_string = f.read()\n",
    "    parsed = xml.dom.minidom.parseString(xml_string)\n",
    "    pretty_xml_as_string = parsed.toprettyxml(indent=\"  \")\n",
    "    with open(path, 'w') as f:\n",
    "        f.write(pretty_xml_as_string)\n",
    "\n",
    "# Layout zusammenbauen (angepasst!)\n",
    "top_row = HBox([\n",
    "    VBox([thread_dropdown, size, designation_de, designation_en, pitch], layout=vbox_layout),\n",
    "    button_box\n",
    "])\n",
    "\n",
    "# Anzeige\n",
    "display(\n",
    "    top_row,\n",
    "    label_ext_6g, major_dia_ext, pitch_dia_ext, minor_dia_ext,\n",
    "    label_int_6H, major_dia_int, pitch_dia_int, minor_dia_int, tap_drill,\n",
    "    label_ext_4g6g, major_dia_4g6g, pitch_dia_4g6g, minor_dia_4g6g\n",
    ")\n",
    "\n",
    "# Sprachumschalter\n",
    "current_language = {'lang': 'DE'}\n",
    "\n",
    "labels = {\n",
    "    'DE': {\n",
    "        'thread_dropdown': 'Vorhandene Gewinde:',\n",
    "        'size': 'Nenndurchmesser (Size):',\n",
    "        'designation_de': 'Eigene Gewindebez. (Freitext):',\n",
    "        'designation_en': 'Technische Gewindebez. (z.B. M56x0.75):',\n",
    "        'pitch': 'Steigung (Pitch):',\n",
    "        'ext_6g': '<b>External 6g</b>',\n",
    "        'int_6H': '<b>Internal 6H</b>',\n",
    "        'ext_4g6g': '<b>External 4g6g</b>',\n",
    "        'save': 'Speichern',\n",
    "        'save_new': 'Als neu speichern',\n",
    "        'delete': 'Löschen',\n",
    "        'export': 'Get XML from Fusion',\n",
    "        'import': 'Patch Fusion XML',\n",
    "        'venv': 'Rebuild .venv',\n",
    "        'status': '⏳ Noch kein Export oder Import ausgeführt.'\n",
    "    },\n",
    "    'EN': {\n",
    "        'thread_dropdown': 'Existing Threads:',\n",
    "        'size': 'Nominal Diameter (Size):',\n",
    "        'designation_de': 'Custom Thread designation (free text, CTD):',\n",
    "        'designation_en': 'Technical Thread designation (e.g. M56x0.75):',\n",
    "        'pitch': 'Pitch:',\n",
    "        'ext_6g': '<b>External 6g</b>',\n",
    "        'int_6H': '<b>Internal 6H</b>',\n",
    "        'ext_4g6g': '<b>External 4g6g</b>',\n",
    "        'save': 'Save',\n",
    "        'save_new': 'Save as New',\n",
    "        'delete': 'Delete',\n",
    "        'export': 'Get XML from Fusion',\n",
    "        'import': 'Patch Fusion XML',\n",
    "        'venv': 'Rebuild .venv',\n",
    "        'status': '⏳ No export or import done yet.'\n",
    "    }\n",
    "}\n",
    "\n",
    "toggle_lang_button = widgets.Button(description='Switch to English')\n",
    "\n",
    "def update_labels():\n",
    "    lang = current_language['lang']\n",
    "    thread_dropdown.description = labels[lang]['thread_dropdown']\n",
    "    size.description = labels[lang]['size']\n",
    "    designation_de.description = labels[lang]['designation_de']\n",
    "    designation_en.description = labels[lang]['designation_en']\n",
    "    pitch.description = labels[lang]['pitch']\n",
    "    label_ext_6g.value = labels[lang]['ext_6g']\n",
    "    label_int_6H.value = labels[lang]['int_6H']\n",
    "    label_ext_4g6g.value = labels[lang]['ext_4g6g']\n",
    "    save_button.description = labels[lang]['save']\n",
    "    save_new_button.description = labels[lang]['save_new']\n",
    "    delete_button.description = labels[lang]['delete']\n",
    "    export_button.description = labels[lang]['export']\n",
    "    import_button.description = labels[lang]['import']\n",
    "    venv_button.description = labels[lang]['venv']\n",
    "    status_label.value = labels[lang]['status']\n",
    "\n",
    "def on_toggle_lang_clicked(b):\n",
    "    if current_language['lang'] == 'DE':\n",
    "        current_language['lang'] = 'EN'\n",
    "        toggle_lang_button.description = 'Auf Deutsch umschalten'\n",
    "    else:\n",
    "        current_language['lang'] = 'DE'\n",
    "        toggle_lang_button.description = 'Switch to English'\n",
    "    update_labels()\n",
    "\n",
    "toggle_lang_button.on_click(on_toggle_lang_clicked)\n",
    "\n",
    "# Zeige Sprachumschalter an\n",
    "display(toggle_lang_button)\n",
    "update_labels()\n",
    "\n",
    "load_dropdown_options()\n",
    "thread_dropdown.observe(fill_fields_from_selection, names='value')\n",
    "display(widgets.HTML(value=\"<div style='margin-left:20px; margin-bottom:20px;'></div>\"))"
   ]
  }
 ],
 "metadata": {
  "kernelspec": {
   "display_name": ".venv",
   "language": "python",
   "name": "python3"
  },
  "language_info": {
   "codemirror_mode": {
    "name": "ipython",
    "version": 3
   },
   "file_extension": ".py",
   "mimetype": "text/x-python",
   "name": "python",
   "nbconvert_exporter": "python",
   "pygments_lexer": "ipython3",
   "version": "3.13.3"
  }
 },
 "nbformat": 4,
 "nbformat_minor": 5
}
